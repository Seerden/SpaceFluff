{
 "cells": [
  {
   "cell_type": "code",
   "execution_count": 1,
   "metadata": {},
   "outputs": [],
   "source": [
    "import json\n",
    "import numpy as np\n",
    "import pandas as pd\n",
    "import matplotlib.pyplot as plt\n",
    "from matplotlib import rc\n",
    "from dateutil.parser import parse\n",
    "%matplotlib inline"
   ]
  },
  {
   "cell_type": "markdown",
   "metadata": {},
   "source": [
    "- matplotlib plotting params:"
   ]
  },
  {
   "cell_type": "code",
   "execution_count": 2,
   "metadata": {},
   "outputs": [],
   "source": [
    "font = {\n",
    "    'family': 'Verdana',\n",
    "    'weight': '300',\n",
    "    'size': 12\n",
    "}\n",
    "\n",
    "rc('font', **font)"
   ]
  },
  {
   "cell_type": "markdown",
   "metadata": {},
   "source": [
    "## Utils"
   ]
  },
  {
   "cell_type": "code",
   "execution_count": 3,
   "metadata": {},
   "outputs": [],
   "source": [
    "def getFilename(row):\n",
    "    \"extract the 'Filename'|'image'|'IMAGE' field from the subject_data column from a row\"\n",
    "    \n",
    "    keys = list(row.values())[0].keys()\n",
    "    accessKey = 'Filename' if 'Filename' in keys else 'image' if 'image' in keys else 'IMAGE' if 'IMAGE' in keys else None\n",
    "    \n",
    "    if accessKey:\n",
    "        return list(row.values())[0][accessKey]\n",
    "    else: \n",
    "        print('No filename found!')\n",
    "    \n",
    "def extract_task_value(task_index, row):\n",
    "    try:\n",
    "        return row[task_index]['value']\n",
    "    except: \n",
    "        return\n",
    "    \n",
    "def parse_time(string):\n",
    "    return pd.Timestamp(parse(string))\n",
    "\n",
    "def percentageVotesForAnswer(counts, answer):\n",
    "    '''\n",
    "    `counts` is a df column like {galaxy: 15, group of objects (cluster): 10, something else/empty center: 2}\n",
    "    `answer` is one of the keys of counts\n",
    "    '''\n",
    "    \n",
    "    totalVotes = sum(counts.values())\n",
    "    \n",
    "    if not answer in counts.keys():\n",
    "        return 0\n",
    "    \n",
    "    votesForAnswer = counts[answer]\n",
    "    \n",
    "    return round(100*votesForAnswer/totalVotes, 1)"
   ]
  },
  {
   "cell_type": "markdown",
   "metadata": {},
   "source": [
    "---\n",
    "\n",
    "---"
   ]
  },
  {
   "cell_type": "markdown",
   "metadata": {},
   "source": [
    "- Load dataframe"
   ]
  },
  {
   "cell_type": "code",
   "execution_count": 4,
   "metadata": {},
   "outputs": [],
   "source": [
    "df = pd.read_csv('./zooniverse_exports/classify-classifications.csv', delimiter=\",\")"
   ]
  },
  {
   "cell_type": "markdown",
   "metadata": {},
   "source": [
    "- Inspect column names"
   ]
  },
  {
   "cell_type": "code",
   "execution_count": 5,
   "metadata": {},
   "outputs": [
    {
     "data": {
      "text/plain": [
       "Index(['classification_id', 'user_name', 'user_id', 'user_ip', 'workflow_id',\n",
       "       'workflow_name', 'workflow_version', 'created_at', 'gold_standard',\n",
       "       'expert', 'metadata', 'annotations', 'subject_data', 'subject_ids'],\n",
       "      dtype='object')"
      ]
     },
     "execution_count": 5,
     "metadata": {},
     "output_type": "execute_result"
    }
   ],
   "source": [
    "df.keys()"
   ]
  },
  {
   "cell_type": "markdown",
   "metadata": {},
   "source": [
    "- JSON parse the stringified columns"
   ]
  },
  {
   "cell_type": "code",
   "execution_count": 6,
   "metadata": {},
   "outputs": [],
   "source": [
    "columns_to_parse = ['annotations', 'subject_data', 'metadata']\n",
    "\n",
    "for column in columns_to_parse:\n",
    "    df[column] = df[column].apply(json.loads)"
   ]
  },
  {
   "cell_type": "markdown",
   "metadata": {},
   "source": [
    "- Extract filename, task 0 value and task 1 value to separate columns"
   ]
  },
  {
   "cell_type": "code",
   "execution_count": 7,
   "metadata": {},
   "outputs": [],
   "source": [
    "df['Filename'] = df['subject_data'].apply(getFilename)\n",
    "df['Task0'] = df['annotations'].apply(lambda x: extract_task_value(0, x))\n",
    "df['Task1'] = df['annotations'].apply(lambda x: extract_task_value(1, x))"
   ]
  },
  {
   "cell_type": "markdown",
   "metadata": {},
   "source": [
    "- Remove rows where user didn't complete `Task 0`"
   ]
  },
  {
   "cell_type": "code",
   "execution_count": 8,
   "metadata": {},
   "outputs": [],
   "source": [
    "df = df[~df['Task0'].isnull()]"
   ]
  },
  {
   "cell_type": "markdown",
   "metadata": {},
   "source": [
    "- Remove 'retired' rows. \n",
    "<div style=\"color: orangered\"><strong>Q: Why didn't the object simply get taken out of the rotation once 'retired'?</strong></div>\n",
    "\n",
    "To eliminate 'retired' entries and 'already seen entries':\n",
    "- extract subject_selection_state metadata, which contains both `retired` and `already_seen` fields\n",
    "- filter out entries where either `retired` or `already_seen` is true"
   ]
  },
  {
   "cell_type": "code",
   "execution_count": 9,
   "metadata": {},
   "outputs": [],
   "source": [
    "df['isRetired'] = df['metadata'].apply(lambda x: x['subject_selection_state']['retired'])\n",
    "df['alreadySeen'] = df['metadata'].apply(lambda x: x['subject_selection_state']['already_seen'])"
   ]
  },
  {
   "cell_type": "code",
   "execution_count": 10,
   "metadata": {},
   "outputs": [],
   "source": [
    "df = df[~df['isRetired'] & ~df['alreadySeen']]"
   ]
  },
  {
   "cell_type": "markdown",
   "metadata": {},
   "source": [
    "## Goal of this notebook:\n",
    "\n",
    "- For every unique object in the dataset, extract the following fields:\n",
    "    - name,\n",
    "    - 'task 0' value (recall 'task 0' asks if the users sees a galaxy or a group of objects\n",
    "    - @todo: 'task 1' value if it exists"
   ]
  },
  {
   "cell_type": "code",
   "execution_count": 11,
   "metadata": {},
   "outputs": [],
   "source": [
    "# extract unique object names that resulted from another notebook \n",
    "candidate_names_classify = np.loadtxt('./sf_objectImageStrings__classification-classify.txt', dtype=str)"
   ]
  },
  {
   "cell_type": "code",
   "execution_count": 12,
   "metadata": {},
   "outputs": [],
   "source": [
    "# group df by filename, so that each group contains only rows belonging to that object\n",
    "gr = df.groupby('Filename')\n",
    "\n",
    "# create empty list to push results to\n",
    "task0Values = []"
   ]
  },
  {
   "cell_type": "code",
   "execution_count": 13,
   "metadata": {},
   "outputs": [],
   "source": [
    "# loop over every group created above to accumulate 'task 0' votes ('galaxy'/'group of objects'/'something else')\n",
    "for objectName in candidate_names_classify:\n",
    "    task0 = gr.get_group(objectName)['Task0']\n",
    "    \n",
    "    counts = task0.value_counts().to_dict()\n",
    "    \n",
    "    countObj = {\n",
    "        \"name\": objectName,\n",
    "        \"counts\": counts,\n",
    "    }\n",
    "    \n",
    "    task0Values.append(countObj)"
   ]
  },
  {
   "cell_type": "code",
   "execution_count": 14,
   "metadata": {},
   "outputs": [
    {
     "data": {
      "text/html": [
       "<div>\n",
       "<style scoped>\n",
       "    .dataframe tbody tr th:only-of-type {\n",
       "        vertical-align: middle;\n",
       "    }\n",
       "\n",
       "    .dataframe tbody tr th {\n",
       "        vertical-align: top;\n",
       "    }\n",
       "\n",
       "    .dataframe thead th {\n",
       "        text-align: right;\n",
       "    }\n",
       "</style>\n",
       "<table border=\"1\" class=\"dataframe\">\n",
       "  <thead>\n",
       "    <tr style=\"text-align: right;\">\n",
       "      <th></th>\n",
       "      <th>name</th>\n",
       "      <th>counts</th>\n",
       "    </tr>\n",
       "  </thead>\n",
       "  <tbody>\n",
       "    <tr>\n",
       "      <th>0</th>\n",
       "      <td>UDGcand_1541_insp.png</td>\n",
       "      <td>{'Galaxy': 15}</td>\n",
       "    </tr>\n",
       "    <tr>\n",
       "      <th>1</th>\n",
       "      <td>UDGcand_5603_insp.png</td>\n",
       "      <td>{'Group of objects (Cluster)': 11, 'Galaxy': 4}</td>\n",
       "    </tr>\n",
       "    <tr>\n",
       "      <th>2</th>\n",
       "      <td>UDGcand_6077_insp.png</td>\n",
       "      <td>{'Group of objects (Cluster)': 17}</td>\n",
       "    </tr>\n",
       "    <tr>\n",
       "      <th>3</th>\n",
       "      <td>UDGcand_5840_insp.png</td>\n",
       "      <td>{'Something else/empty center': 14}</td>\n",
       "    </tr>\n",
       "    <tr>\n",
       "      <th>4</th>\n",
       "      <td>UDGcand_5600_insp.png</td>\n",
       "      <td>{'Something else/empty center': 16}</td>\n",
       "    </tr>\n",
       "  </tbody>\n",
       "</table>\n",
       "</div>"
      ],
      "text/plain": [
       "                    name                                           counts\n",
       "0  UDGcand_1541_insp.png                                   {'Galaxy': 15}\n",
       "1  UDGcand_5603_insp.png  {'Group of objects (Cluster)': 11, 'Galaxy': 4}\n",
       "2  UDGcand_6077_insp.png               {'Group of objects (Cluster)': 17}\n",
       "3  UDGcand_5840_insp.png              {'Something else/empty center': 14}\n",
       "4  UDGcand_5600_insp.png              {'Something else/empty center': 16}"
      ]
     },
     "execution_count": 14,
     "metadata": {},
     "output_type": "execute_result"
    }
   ],
   "source": [
    "df_task0 = pd.DataFrame(task0Values)\n",
    "df_task0.head()"
   ]
  },
  {
   "cell_type": "code",
   "execution_count": 15,
   "metadata": {},
   "outputs": [],
   "source": [
    "answer_types = ['Galaxy', 'Group of objects (Cluster)', 'Something else/empty center']\n",
    "\n",
    "df_task0['# votes'] = df_task0['counts'].apply(lambda x: sum(x.values()))\n",
    "\n",
    "for ans_type in answer_types:\n",
    "    vote_percentage_column = df_task0['counts'].apply(lambda x: percentageVotesForAnswer(x, ans_type))\n",
    "    df_task0['% votes {}'.format(ans_type)] = vote_percentage_column"
   ]
  },
  {
   "cell_type": "markdown",
   "metadata": {},
   "source": [
    "---\n",
    "---"
   ]
  },
  {
   "cell_type": "code",
   "execution_count": 16,
   "metadata": {},
   "outputs": [],
   "source": [
    "# rough initial separation just for inspection\n",
    "mostly_something = df_task0[df_task0['% votes Galaxy'] > 50]\n",
    "mostly_nothing = df_task0[df_task0['% votes Something else/empty center'] > 50]\n",
    "\n",
    "# strip the image extension from the names\n",
    "mostly_nothing = list(map(lambda x: x[:-9], list(mostly_nothing['name'])))\n",
    "mostly_something = list(map(lambda x: x[:-9], list(mostly_something['name'])))"
   ]
  },
  {
   "cell_type": "code",
   "execution_count": 17,
   "metadata": {},
   "outputs": [],
   "source": [
    "# extract catalogue targets from other notebook\n",
    "ct = np.loadtxt('../catalogue/sf_catalogue_targets.txt', dtype='str')\n",
    "\n",
    "# differing: objects in the catalogue that people mostly vote 'something else' on\n",
    "difference = list(set(ct) & set(mostly_nothing))\n",
    "\n",
    "# corresponding: objects in the catalogue that people mostly vote 'galaxy'/'cluster' on\n",
    "intersection = list(set(ct) & set(mostly_something))"
   ]
  },
  {
   "cell_type": "code",
   "execution_count": 18,
   "metadata": {},
   "outputs": [
    {
     "name": "stdout",
     "output_type": "stream",
     "text": [
      "95 80\n"
     ]
    },
    {
     "data": {
      "text/plain": [
       "90"
      ]
     },
     "execution_count": 18,
     "metadata": {},
     "output_type": "execute_result"
    }
   ],
   "source": [
    "print(len(difference), len(intersection))\n",
    "\n",
    "len(ct) - len(difference) - len(intersection)"
   ]
  },
  {
   "cell_type": "code",
   "execution_count": 19,
   "metadata": {},
   "outputs": [],
   "source": [
    "remaining_objects = np.setdiff1d(np.setdiff1d(ct, difference), intersection)"
   ]
  },
  {
   "cell_type": "code",
   "execution_count": 20,
   "metadata": {},
   "outputs": [
    {
     "data": {
      "text/html": [
       "<div>\n",
       "<style scoped>\n",
       "    .dataframe tbody tr th:only-of-type {\n",
       "        vertical-align: middle;\n",
       "    }\n",
       "\n",
       "    .dataframe tbody tr th {\n",
       "        vertical-align: top;\n",
       "    }\n",
       "\n",
       "    .dataframe thead th {\n",
       "        text-align: right;\n",
       "    }\n",
       "</style>\n",
       "<table border=\"1\" class=\"dataframe\">\n",
       "  <thead>\n",
       "    <tr style=\"text-align: right;\">\n",
       "      <th></th>\n",
       "      <th>name</th>\n",
       "      <th>counts</th>\n",
       "      <th># votes</th>\n",
       "      <th>% votes Galaxy</th>\n",
       "      <th>% votes Group of objects (Cluster)</th>\n",
       "      <th>% votes Something else/empty center</th>\n",
       "    </tr>\n",
       "  </thead>\n",
       "  <tbody>\n",
       "    <tr>\n",
       "      <th>79</th>\n",
       "      <td>UDGcand_5044</td>\n",
       "      <td>{'Galaxy': 7, 'Group of objects (Cluster)': 5,...</td>\n",
       "      <td>17</td>\n",
       "      <td>41.2</td>\n",
       "      <td>29.4</td>\n",
       "      <td>29.4</td>\n",
       "    </tr>\n",
       "    <tr>\n",
       "      <th>203</th>\n",
       "      <td>UDGcand_7158</td>\n",
       "      <td>{'Something else/empty center': 7, 'Group of o...</td>\n",
       "      <td>16</td>\n",
       "      <td>25.0</td>\n",
       "      <td>31.2</td>\n",
       "      <td>43.8</td>\n",
       "    </tr>\n",
       "    <tr>\n",
       "      <th>263</th>\n",
       "      <td>UDGcand_4474</td>\n",
       "      <td>{'Something else/empty center': 6, 'Group of o...</td>\n",
       "      <td>15</td>\n",
       "      <td>26.7</td>\n",
       "      <td>33.3</td>\n",
       "      <td>40.0</td>\n",
       "    </tr>\n",
       "    <tr>\n",
       "      <th>335</th>\n",
       "      <td>UDGcand_2824</td>\n",
       "      <td>{'Galaxy': 7, 'Group of objects (Cluster)': 5,...</td>\n",
       "      <td>15</td>\n",
       "      <td>46.7</td>\n",
       "      <td>33.3</td>\n",
       "      <td>20.0</td>\n",
       "    </tr>\n",
       "    <tr>\n",
       "      <th>387</th>\n",
       "      <td>UDGcand_1765</td>\n",
       "      <td>{'Galaxy': 7, 'Something else/empty center': 6...</td>\n",
       "      <td>17</td>\n",
       "      <td>41.2</td>\n",
       "      <td>23.5</td>\n",
       "      <td>35.3</td>\n",
       "    </tr>\n",
       "    <tr>\n",
       "      <th>...</th>\n",
       "      <td>...</td>\n",
       "      <td>...</td>\n",
       "      <td>...</td>\n",
       "      <td>...</td>\n",
       "      <td>...</td>\n",
       "      <td>...</td>\n",
       "    </tr>\n",
       "    <tr>\n",
       "      <th>5856</th>\n",
       "      <td>UDGcand_4237</td>\n",
       "      <td>{'Something else/empty center': 6, 'Galaxy': 6...</td>\n",
       "      <td>15</td>\n",
       "      <td>40.0</td>\n",
       "      <td>20.0</td>\n",
       "      <td>40.0</td>\n",
       "    </tr>\n",
       "    <tr>\n",
       "      <th>5859</th>\n",
       "      <td>UDGcand_4321</td>\n",
       "      <td>{'Group of objects (Cluster)': 11, 'Galaxy': 3...</td>\n",
       "      <td>16</td>\n",
       "      <td>18.8</td>\n",
       "      <td>68.8</td>\n",
       "      <td>12.5</td>\n",
       "    </tr>\n",
       "    <tr>\n",
       "      <th>6086</th>\n",
       "      <td>UDGcand_949</td>\n",
       "      <td>{'Something else/empty center': 8, 'Group of o...</td>\n",
       "      <td>16</td>\n",
       "      <td>25.0</td>\n",
       "      <td>25.0</td>\n",
       "      <td>50.0</td>\n",
       "    </tr>\n",
       "    <tr>\n",
       "      <th>6221</th>\n",
       "      <td>UDGcand_6648</td>\n",
       "      <td>{'Something else/empty center': 8, 'Galaxy': 7...</td>\n",
       "      <td>16</td>\n",
       "      <td>43.8</td>\n",
       "      <td>6.2</td>\n",
       "      <td>50.0</td>\n",
       "    </tr>\n",
       "    <tr>\n",
       "      <th>6278</th>\n",
       "      <td>UDGcand_405</td>\n",
       "      <td>{'Group of objects (Cluster)': 7, 'Galaxy': 7,...</td>\n",
       "      <td>17</td>\n",
       "      <td>41.2</td>\n",
       "      <td>41.2</td>\n",
       "      <td>17.6</td>\n",
       "    </tr>\n",
       "  </tbody>\n",
       "</table>\n",
       "<p>63 rows × 6 columns</p>\n",
       "</div>"
      ],
      "text/plain": [
       "              name                                             counts  \\\n",
       "79    UDGcand_5044  {'Galaxy': 7, 'Group of objects (Cluster)': 5,...   \n",
       "203   UDGcand_7158  {'Something else/empty center': 7, 'Group of o...   \n",
       "263   UDGcand_4474  {'Something else/empty center': 6, 'Group of o...   \n",
       "335   UDGcand_2824  {'Galaxy': 7, 'Group of objects (Cluster)': 5,...   \n",
       "387   UDGcand_1765  {'Galaxy': 7, 'Something else/empty center': 6...   \n",
       "...            ...                                                ...   \n",
       "5856  UDGcand_4237  {'Something else/empty center': 6, 'Galaxy': 6...   \n",
       "5859  UDGcand_4321  {'Group of objects (Cluster)': 11, 'Galaxy': 3...   \n",
       "6086   UDGcand_949  {'Something else/empty center': 8, 'Group of o...   \n",
       "6221  UDGcand_6648  {'Something else/empty center': 8, 'Galaxy': 7...   \n",
       "6278   UDGcand_405  {'Group of objects (Cluster)': 7, 'Galaxy': 7,...   \n",
       "\n",
       "      # votes  % votes Galaxy  % votes Group of objects (Cluster)  \\\n",
       "79         17            41.2                                29.4   \n",
       "203        16            25.0                                31.2   \n",
       "263        15            26.7                                33.3   \n",
       "335        15            46.7                                33.3   \n",
       "387        17            41.2                                23.5   \n",
       "...       ...             ...                                 ...   \n",
       "5856       15            40.0                                20.0   \n",
       "5859       16            18.8                                68.8   \n",
       "6086       16            25.0                                25.0   \n",
       "6221       16            43.8                                 6.2   \n",
       "6278       17            41.2                                41.2   \n",
       "\n",
       "      % votes Something else/empty center  \n",
       "79                                   29.4  \n",
       "203                                  43.8  \n",
       "263                                  40.0  \n",
       "335                                  20.0  \n",
       "387                                  35.3  \n",
       "...                                   ...  \n",
       "5856                                 40.0  \n",
       "5859                                 12.5  \n",
       "6086                                 50.0  \n",
       "6221                                 50.0  \n",
       "6278                                 17.6  \n",
       "\n",
       "[63 rows x 6 columns]"
      ]
     },
     "execution_count": 20,
     "metadata": {},
     "output_type": "execute_result"
    }
   ],
   "source": [
    "# slice df_task0 to see votes for objects that are included in the catalogue as potential UDGs\n",
    "df_task0['name'] = df_task0['name'].apply(lambda x: x[:-9])\n",
    "df_task0[df_task0['name'].isin(remaining_objects)]"
   ]
  },
  {
   "cell_type": "markdown",
   "metadata": {},
   "source": [
    "---\n",
    "---"
   ]
  },
  {
   "cell_type": "markdown",
   "metadata": {},
   "source": [
    "## <div style=\"color: slateblue;\">Q: Are all votes counted properly?</div>"
   ]
  },
  {
   "cell_type": "code",
   "execution_count": 21,
   "metadata": {},
   "outputs": [
    {
     "data": {
      "text/plain": [
       "(sum    99140\n",
       " Name: # votes, dtype: int64,\n",
       " 99140)"
      ]
     },
     "execution_count": 21,
     "metadata": {},
     "output_type": "execute_result"
    }
   ],
   "source": [
    "df_task0['# votes'].agg(['sum']), df.shape[0]"
   ]
  },
  {
   "cell_type": "markdown",
   "metadata": {},
   "source": [
    "## <div style=\"color: slateblue;\">A: After filtering out retired and already_seen entries: yes, everything is counted properly</div>"
   ]
  },
  {
   "cell_type": "markdown",
   "metadata": {},
   "source": [
    "---"
   ]
  },
  {
   "cell_type": "code",
   "execution_count": 22,
   "metadata": {},
   "outputs": [],
   "source": [
    "def extract_retired_info(row):\n",
    "    return list(row.values())[0][\"retired\"]\n",
    "\n",
    "def extract_retired_object_props(row):\n",
    "    keys = list(list(first.values())[0].keys())\n",
    "    "
   ]
  },
  {
   "cell_type": "code",
   "execution_count": 23,
   "metadata": {},
   "outputs": [],
   "source": [
    "df[\"retired\"] = df[\"subject_data\"].apply(extract_retired_info)\n",
    "df_retired = df[~df[\"retired\"].isnull()]"
   ]
  },
  {
   "cell_type": "markdown",
   "metadata": {},
   "source": [
    "- Group retired objects by filename,\n",
    "- extract properties (RA, DEC, etc.) from them,\n",
    "- append properties as new columns to task0 dataframe"
   ]
  },
  {
   "cell_type": "code",
   "execution_count": 24,
   "metadata": {},
   "outputs": [],
   "source": [
    "gr_retired = df_retired.groupby([\"Filename\"])  # group by filename\n",
    "props = [\"R\", \"RA\", \"DEC\", \"G-I\"]              # extract object properties\n",
    "\n",
    "props_list = []\n",
    "\n",
    "for objectName in candidate_names_classify:\n",
    "    # get group\n",
    "    try:\n",
    "        row = gr_retired.get_group(objectName)['subject_data']\n",
    "\n",
    "        # get first entry in the group (props should be the same for every entry since they all describe the same object)\n",
    "        firstEntry = row.iloc[0]\n",
    "        values  = list(firstEntry.values())[0]\n",
    "\n",
    "        # create object with name, properties\n",
    "        entry = {'name': objectName[:-9]}\n",
    "\n",
    "        for key in props:\n",
    "            entry[key] = values[key]\n",
    "\n",
    "        props_list.append(entry)\n",
    "    except:\n",
    "        continue\n",
    "        \n",
    "df_props = pd.DataFrame(props_list)"
   ]
  },
  {
   "cell_type": "code",
   "execution_count": 25,
   "metadata": {},
   "outputs": [],
   "source": [
    "df_with_props = df_task0.merge(df_props, how='outer')"
   ]
  },
  {
   "cell_type": "code",
   "execution_count": 26,
   "metadata": {},
   "outputs": [
    {
     "data": {
      "text/html": [
       "<div>\n",
       "<style scoped>\n",
       "    .dataframe tbody tr th:only-of-type {\n",
       "        vertical-align: middle;\n",
       "    }\n",
       "\n",
       "    .dataframe tbody tr th {\n",
       "        vertical-align: top;\n",
       "    }\n",
       "\n",
       "    .dataframe thead th {\n",
       "        text-align: right;\n",
       "    }\n",
       "</style>\n",
       "<table border=\"1\" class=\"dataframe\">\n",
       "  <thead>\n",
       "    <tr style=\"text-align: right;\">\n",
       "      <th></th>\n",
       "      <th>name</th>\n",
       "      <th>counts</th>\n",
       "      <th># votes</th>\n",
       "      <th>% votes Galaxy</th>\n",
       "      <th>% votes Group of objects (Cluster)</th>\n",
       "      <th>% votes Something else/empty center</th>\n",
       "      <th>R</th>\n",
       "      <th>RA</th>\n",
       "      <th>DEC</th>\n",
       "      <th>G-I</th>\n",
       "    </tr>\n",
       "  </thead>\n",
       "  <tbody>\n",
       "    <tr>\n",
       "      <th>0</th>\n",
       "      <td>UDGcand_1541</td>\n",
       "      <td>{'Galaxy': 15}</td>\n",
       "      <td>15</td>\n",
       "      <td>100.0</td>\n",
       "      <td>0.0</td>\n",
       "      <td>0.0</td>\n",
       "      <td>18.1924</td>\n",
       "      <td>56.6240234375</td>\n",
       "      <td>-35.0544166565</td>\n",
       "      <td>0.587689876556</td>\n",
       "    </tr>\n",
       "    <tr>\n",
       "      <th>1</th>\n",
       "      <td>UDGcand_5603</td>\n",
       "      <td>{'Group of objects (Cluster)': 11, 'Galaxy': 4}</td>\n",
       "      <td>15</td>\n",
       "      <td>26.7</td>\n",
       "      <td>73.3</td>\n",
       "      <td>0.0</td>\n",
       "      <td>19.9224</td>\n",
       "      <td>52.5327110291</td>\n",
       "      <td>-35.0038948059</td>\n",
       "      <td>1.24255418777</td>\n",
       "    </tr>\n",
       "    <tr>\n",
       "      <th>2</th>\n",
       "      <td>UDGcand_6077</td>\n",
       "      <td>{'Group of objects (Cluster)': 17}</td>\n",
       "      <td>17</td>\n",
       "      <td>0.0</td>\n",
       "      <td>100.0</td>\n",
       "      <td>0.0</td>\n",
       "      <td>20.8128</td>\n",
       "      <td>57.528503418</td>\n",
       "      <td>-34.5431938171</td>\n",
       "      <td>1.43765449524</td>\n",
       "    </tr>\n",
       "    <tr>\n",
       "      <th>3</th>\n",
       "      <td>UDGcand_5840</td>\n",
       "      <td>{'Something else/empty center': 14}</td>\n",
       "      <td>14</td>\n",
       "      <td>0.0</td>\n",
       "      <td>0.0</td>\n",
       "      <td>100.0</td>\n",
       "      <td>18.8742</td>\n",
       "      <td>51.9040298462</td>\n",
       "      <td>-35.703163147</td>\n",
       "      <td>1.45068645477</td>\n",
       "    </tr>\n",
       "    <tr>\n",
       "      <th>4</th>\n",
       "      <td>UDGcand_5600</td>\n",
       "      <td>{'Something else/empty center': 16}</td>\n",
       "      <td>16</td>\n",
       "      <td>0.0</td>\n",
       "      <td>0.0</td>\n",
       "      <td>100.0</td>\n",
       "      <td>19.1851</td>\n",
       "      <td>51.8673019409</td>\n",
       "      <td>-35.73462677</td>\n",
       "      <td>1.50421380997</td>\n",
       "    </tr>\n",
       "  </tbody>\n",
       "</table>\n",
       "</div>"
      ],
      "text/plain": [
       "           name                                           counts  # votes  \\\n",
       "0  UDGcand_1541                                   {'Galaxy': 15}       15   \n",
       "1  UDGcand_5603  {'Group of objects (Cluster)': 11, 'Galaxy': 4}       15   \n",
       "2  UDGcand_6077               {'Group of objects (Cluster)': 17}       17   \n",
       "3  UDGcand_5840              {'Something else/empty center': 14}       14   \n",
       "4  UDGcand_5600              {'Something else/empty center': 16}       16   \n",
       "\n",
       "   % votes Galaxy  % votes Group of objects (Cluster)  \\\n",
       "0           100.0                                 0.0   \n",
       "1            26.7                                73.3   \n",
       "2             0.0                               100.0   \n",
       "3             0.0                                 0.0   \n",
       "4             0.0                                 0.0   \n",
       "\n",
       "   % votes Something else/empty center        R             RA  \\\n",
       "0                                  0.0  18.1924  56.6240234375   \n",
       "1                                  0.0  19.9224  52.5327110291   \n",
       "2                                  0.0  20.8128   57.528503418   \n",
       "3                                100.0  18.8742  51.9040298462   \n",
       "4                                100.0  19.1851  51.8673019409   \n",
       "\n",
       "              DEC             G-I  \n",
       "0  -35.0544166565  0.587689876556  \n",
       "1  -35.0038948059   1.24255418777  \n",
       "2  -34.5431938171   1.43765449524  \n",
       "3   -35.703163147   1.45068645477  \n",
       "4    -35.73462677   1.50421380997  "
      ]
     },
     "execution_count": 26,
     "metadata": {},
     "output_type": "execute_result"
    }
   ],
   "source": [
    "df_with_props.head()"
   ]
  },
  {
   "cell_type": "markdown",
   "metadata": {},
   "source": [
    "### Objects that don't have enough votes haven't been retired, so have to get properties elsewhere (Q: where?)"
   ]
  },
  {
   "cell_type": "code",
   "execution_count": 27,
   "metadata": {},
   "outputs": [
    {
     "data": {
      "text/html": [
       "<div>\n",
       "<style scoped>\n",
       "    .dataframe tbody tr th:only-of-type {\n",
       "        vertical-align: middle;\n",
       "    }\n",
       "\n",
       "    .dataframe tbody tr th {\n",
       "        vertical-align: top;\n",
       "    }\n",
       "\n",
       "    .dataframe thead th {\n",
       "        text-align: right;\n",
       "    }\n",
       "</style>\n",
       "<table border=\"1\" class=\"dataframe\">\n",
       "  <thead>\n",
       "    <tr style=\"text-align: right;\">\n",
       "      <th></th>\n",
       "      <th>name</th>\n",
       "      <th>counts</th>\n",
       "      <th># votes</th>\n",
       "      <th>% votes Galaxy</th>\n",
       "      <th>% votes Group of objects (Cluster)</th>\n",
       "      <th>% votes Something else/empty center</th>\n",
       "      <th>R</th>\n",
       "      <th>RA</th>\n",
       "      <th>DEC</th>\n",
       "      <th>G-I</th>\n",
       "    </tr>\n",
       "  </thead>\n",
       "  <tbody>\n",
       "    <tr>\n",
       "      <th>10</th>\n",
       "      <td>UDGcand_6896</td>\n",
       "      <td>{'Group of objects (Cluster)': 1}</td>\n",
       "      <td>1</td>\n",
       "      <td>0.0</td>\n",
       "      <td>100.0</td>\n",
       "      <td>0.0</td>\n",
       "      <td>NaN</td>\n",
       "      <td>NaN</td>\n",
       "      <td>NaN</td>\n",
       "      <td>NaN</td>\n",
       "    </tr>\n",
       "    <tr>\n",
       "      <th>21</th>\n",
       "      <td>UDGcand_6943</td>\n",
       "      <td>{'Group of objects (Cluster)': 1}</td>\n",
       "      <td>1</td>\n",
       "      <td>0.0</td>\n",
       "      <td>100.0</td>\n",
       "      <td>0.0</td>\n",
       "      <td>NaN</td>\n",
       "      <td>NaN</td>\n",
       "      <td>NaN</td>\n",
       "      <td>NaN</td>\n",
       "    </tr>\n",
       "    <tr>\n",
       "      <th>43</th>\n",
       "      <td>UDGcand_6915</td>\n",
       "      <td>{'Galaxy': 1}</td>\n",
       "      <td>1</td>\n",
       "      <td>100.0</td>\n",
       "      <td>0.0</td>\n",
       "      <td>0.0</td>\n",
       "      <td>NaN</td>\n",
       "      <td>NaN</td>\n",
       "      <td>NaN</td>\n",
       "      <td>NaN</td>\n",
       "    </tr>\n",
       "    <tr>\n",
       "      <th>175</th>\n",
       "      <td>UDGcand_6977</td>\n",
       "      <td>{'Galaxy': 1}</td>\n",
       "      <td>1</td>\n",
       "      <td>100.0</td>\n",
       "      <td>0.0</td>\n",
       "      <td>0.0</td>\n",
       "      <td>NaN</td>\n",
       "      <td>NaN</td>\n",
       "      <td>NaN</td>\n",
       "      <td>NaN</td>\n",
       "    </tr>\n",
       "    <tr>\n",
       "      <th>259</th>\n",
       "      <td>UDGcand_6882</td>\n",
       "      <td>{'Galaxy': 1}</td>\n",
       "      <td>1</td>\n",
       "      <td>100.0</td>\n",
       "      <td>0.0</td>\n",
       "      <td>0.0</td>\n",
       "      <td>NaN</td>\n",
       "      <td>NaN</td>\n",
       "      <td>NaN</td>\n",
       "      <td>NaN</td>\n",
       "    </tr>\n",
       "    <tr>\n",
       "      <th>...</th>\n",
       "      <td>...</td>\n",
       "      <td>...</td>\n",
       "      <td>...</td>\n",
       "      <td>...</td>\n",
       "      <td>...</td>\n",
       "      <td>...</td>\n",
       "      <td>...</td>\n",
       "      <td>...</td>\n",
       "      <td>...</td>\n",
       "      <td>...</td>\n",
       "    </tr>\n",
       "    <tr>\n",
       "      <th>6209</th>\n",
       "      <td>UDGcand_6877</td>\n",
       "      <td>{'Group of objects (Cluster)': 1}</td>\n",
       "      <td>1</td>\n",
       "      <td>0.0</td>\n",
       "      <td>100.0</td>\n",
       "      <td>0.0</td>\n",
       "      <td>NaN</td>\n",
       "      <td>NaN</td>\n",
       "      <td>NaN</td>\n",
       "      <td>NaN</td>\n",
       "    </tr>\n",
       "    <tr>\n",
       "      <th>6306</th>\n",
       "      <td>UDGcand_7017</td>\n",
       "      <td>{'Galaxy': 2}</td>\n",
       "      <td>2</td>\n",
       "      <td>100.0</td>\n",
       "      <td>0.0</td>\n",
       "      <td>0.0</td>\n",
       "      <td>NaN</td>\n",
       "      <td>NaN</td>\n",
       "      <td>NaN</td>\n",
       "      <td>NaN</td>\n",
       "    </tr>\n",
       "    <tr>\n",
       "      <th>6307</th>\n",
       "      <td>UDGcand_6986</td>\n",
       "      <td>{'Galaxy': 1}</td>\n",
       "      <td>1</td>\n",
       "      <td>100.0</td>\n",
       "      <td>0.0</td>\n",
       "      <td>0.0</td>\n",
       "      <td>NaN</td>\n",
       "      <td>NaN</td>\n",
       "      <td>NaN</td>\n",
       "      <td>NaN</td>\n",
       "    </tr>\n",
       "    <tr>\n",
       "      <th>6348</th>\n",
       "      <td>UDGcand_6931</td>\n",
       "      <td>{'Group of objects (Cluster)': 2}</td>\n",
       "      <td>2</td>\n",
       "      <td>0.0</td>\n",
       "      <td>100.0</td>\n",
       "      <td>0.0</td>\n",
       "      <td>NaN</td>\n",
       "      <td>NaN</td>\n",
       "      <td>NaN</td>\n",
       "      <td>NaN</td>\n",
       "    </tr>\n",
       "    <tr>\n",
       "      <th>6474</th>\n",
       "      <td>UDGcand_6925</td>\n",
       "      <td>{'Group of objects (Cluster)': 1}</td>\n",
       "      <td>1</td>\n",
       "      <td>0.0</td>\n",
       "      <td>100.0</td>\n",
       "      <td>0.0</td>\n",
       "      <td>NaN</td>\n",
       "      <td>NaN</td>\n",
       "      <td>NaN</td>\n",
       "      <td>NaN</td>\n",
       "    </tr>\n",
       "  </tbody>\n",
       "</table>\n",
       "<p>122 rows × 10 columns</p>\n",
       "</div>"
      ],
      "text/plain": [
       "              name                             counts  # votes  \\\n",
       "10    UDGcand_6896  {'Group of objects (Cluster)': 1}        1   \n",
       "21    UDGcand_6943  {'Group of objects (Cluster)': 1}        1   \n",
       "43    UDGcand_6915                      {'Galaxy': 1}        1   \n",
       "175   UDGcand_6977                      {'Galaxy': 1}        1   \n",
       "259   UDGcand_6882                      {'Galaxy': 1}        1   \n",
       "...            ...                                ...      ...   \n",
       "6209  UDGcand_6877  {'Group of objects (Cluster)': 1}        1   \n",
       "6306  UDGcand_7017                      {'Galaxy': 2}        2   \n",
       "6307  UDGcand_6986                      {'Galaxy': 1}        1   \n",
       "6348  UDGcand_6931  {'Group of objects (Cluster)': 2}        2   \n",
       "6474  UDGcand_6925  {'Group of objects (Cluster)': 1}        1   \n",
       "\n",
       "      % votes Galaxy  % votes Group of objects (Cluster)  \\\n",
       "10               0.0                               100.0   \n",
       "21               0.0                               100.0   \n",
       "43             100.0                                 0.0   \n",
       "175            100.0                                 0.0   \n",
       "259            100.0                                 0.0   \n",
       "...              ...                                 ...   \n",
       "6209             0.0                               100.0   \n",
       "6306           100.0                                 0.0   \n",
       "6307           100.0                                 0.0   \n",
       "6348             0.0                               100.0   \n",
       "6474             0.0                               100.0   \n",
       "\n",
       "      % votes Something else/empty center    R   RA  DEC  G-I  \n",
       "10                                    0.0  NaN  NaN  NaN  NaN  \n",
       "21                                    0.0  NaN  NaN  NaN  NaN  \n",
       "43                                    0.0  NaN  NaN  NaN  NaN  \n",
       "175                                   0.0  NaN  NaN  NaN  NaN  \n",
       "259                                   0.0  NaN  NaN  NaN  NaN  \n",
       "...                                   ...  ...  ...  ...  ...  \n",
       "6209                                  0.0  NaN  NaN  NaN  NaN  \n",
       "6306                                  0.0  NaN  NaN  NaN  NaN  \n",
       "6307                                  0.0  NaN  NaN  NaN  NaN  \n",
       "6348                                  0.0  NaN  NaN  NaN  NaN  \n",
       "6474                                  0.0  NaN  NaN  NaN  NaN  \n",
       "\n",
       "[122 rows x 10 columns]"
      ]
     },
     "execution_count": 27,
     "metadata": {},
     "output_type": "execute_result"
    }
   ],
   "source": [
    "# objects that aren't retired don't have properties in their subject_data\n",
    "df_with_props[df_with_props['RA'].isnull()]"
   ]
  },
  {
   "cell_type": "markdown",
   "metadata": {},
   "source": [
    "---"
   ]
  },
  {
   "cell_type": "code",
   "execution_count": 28,
   "metadata": {},
   "outputs": [
    {
     "data": {
      "text/html": [
       "<div>\n",
       "<style scoped>\n",
       "    .dataframe tbody tr th:only-of-type {\n",
       "        vertical-align: middle;\n",
       "    }\n",
       "\n",
       "    .dataframe tbody tr th {\n",
       "        vertical-align: top;\n",
       "    }\n",
       "\n",
       "    .dataframe thead th {\n",
       "        text-align: right;\n",
       "    }\n",
       "</style>\n",
       "<table border=\"1\" class=\"dataframe\">\n",
       "  <thead>\n",
       "    <tr style=\"text-align: right;\">\n",
       "      <th></th>\n",
       "      <th># votes</th>\n",
       "      <th>% votes Galaxy</th>\n",
       "      <th>% votes Group of objects (Cluster)</th>\n",
       "      <th>% votes Something else/empty center</th>\n",
       "    </tr>\n",
       "  </thead>\n",
       "  <tbody>\n",
       "    <tr>\n",
       "      <th>mean</th>\n",
       "      <td>15.289944</td>\n",
       "      <td>50.607603</td>\n",
       "      <td>34.565885</td>\n",
       "      <td>14.821468</td>\n",
       "    </tr>\n",
       "  </tbody>\n",
       "</table>\n",
       "</div>"
      ],
      "text/plain": [
       "        # votes  % votes Galaxy  % votes Group of objects (Cluster)  \\\n",
       "mean  15.289944       50.607603                           34.565885   \n",
       "\n",
       "      % votes Something else/empty center  \n",
       "mean                            14.821468  "
      ]
     },
     "execution_count": 28,
     "metadata": {},
     "output_type": "execute_result"
    }
   ],
   "source": [
    "df_task0.sort_values(['# votes'], ascending=False).agg(['mean'])"
   ]
  },
  {
   "cell_type": "markdown",
   "metadata": {},
   "source": [
    "---"
   ]
  },
  {
   "cell_type": "markdown",
   "metadata": {},
   "source": [
    "### Group by filename for inspection:"
   ]
  },
  {
   "cell_type": "code",
   "execution_count": 29,
   "metadata": {},
   "outputs": [],
   "source": [
    "gr_by_name = df.groupby(['Filename'])\n",
    "groups = list(gr_by_name.groups)\n",
    "\n",
    "# gr_name.get_group(groups[1])"
   ]
  },
  {
   "cell_type": "markdown",
   "metadata": {},
   "source": [
    "- Each object was supposed to have a target of ~15 votes. Inspect the object with the most votes to see what's up."
   ]
  },
  {
   "cell_type": "code",
   "execution_count": 30,
   "metadata": {},
   "outputs": [],
   "source": [
    "sorted_by_votes = df_task0.sort_values(['# votes'], ascending=False)\n",
    "most_voted = sorted_by_votes.iloc[0]"
   ]
  },
  {
   "cell_type": "code",
   "execution_count": 31,
   "metadata": {
    "scrolled": false
   },
   "outputs": [],
   "source": [
    "most_voted_group = gr_by_name.get_group('{}_insp.png'.format(most_voted['name']))"
   ]
  },
  {
   "cell_type": "code",
   "execution_count": 32,
   "metadata": {},
   "outputs": [
    {
     "data": {
      "text/plain": [
       "{'retired': False,\n",
       " 'selected_at': '2020-10-22T21:08:47.295Z',\n",
       " 'already_seen': False,\n",
       " 'selection_state': 'normal',\n",
       " 'finished_workflow': False,\n",
       " 'user_has_finished_workflow': False}"
      ]
     },
     "execution_count": 32,
     "metadata": {},
     "output_type": "execute_result"
    }
   ],
   "source": [
    "most_voted_group['metadata'].iloc[16]['subject_selection_state']"
   ]
  },
  {
   "cell_type": "markdown",
   "metadata": {},
   "source": [
    "# Inspect vote count per object"
   ]
  },
  {
   "cell_type": "markdown",
   "metadata": {},
   "source": [
    "- Extract vote count:"
   ]
  },
  {
   "cell_type": "code",
   "execution_count": 33,
   "metadata": {},
   "outputs": [],
   "source": [
    "vote_counts = list(df_task0['# votes'])"
   ]
  },
  {
   "cell_type": "markdown",
   "metadata": {},
   "source": [
    "- Plot histogram of votes per object:"
   ]
  },
  {
   "cell_type": "code",
   "execution_count": 34,
   "metadata": {},
   "outputs": [
    {
     "data": {
      "image/png": "[encoded data removed]",
      "text/plain": [
       "<Figure size 576x360 with 1 Axes>"
      ]
     },
     "metadata": {
      "needs_background": "light"
     },
     "output_type": "display_data"
    }
   ],
   "source": [
    "fig, fr = plt.subplots(figsize=(8,5))\n",
    "\n",
    "fr.hist(vote_counts, bins=15)\n",
    "fr.grid(alpha=0.2, which='both')\n",
    "fr.update({\n",
    "    'xlabel': '# votes',\n",
    "    'ylabel': '# objects',\n",
    "    'title': 'Distribution of votes per object',\n",
    "})\n",
    "\n",
    "plt.show()"
   ]
  },
  {
   "cell_type": "markdown",
   "metadata": {},
   "source": [
    "- Extract the occurrence rate of every `# votes` value:"
   ]
  },
  {
   "cell_type": "code",
   "execution_count": 35,
   "metadata": {},
   "outputs": [],
   "source": [
    "def count_dict(entries):\n",
    "    '''\n",
    "    @params: entries: list of vals\n",
    "    @returns: dictionary where the keys are the vals, and the values are the number of times each val occurs in entries\n",
    "    '''\n",
    "    count_dict = {}\n",
    "    \n",
    "    for key in set(entries):\n",
    "        count_dict[key] = entries.count(key)\n",
    "        \n",
    "    return count_dict"
   ]
  },
  {
   "cell_type": "code",
   "execution_count": 36,
   "metadata": {
    "scrolled": true
   },
   "outputs": [
    {
     "data": {
      "text/plain": [
       "{1: 110,\n",
       " 2: 12,\n",
       " 9: 3,\n",
       " 10: 16,\n",
       " 11: 65,\n",
       " 12: 63,\n",
       " 13: 86,\n",
       " 14: 361,\n",
       " 15: 1735,\n",
       " 16: 3483,\n",
       " 17: 496,\n",
       " 18: 44,\n",
       " 19: 4,\n",
       " 20: 3,\n",
       " 21: 3}"
      ]
     },
     "execution_count": 36,
     "metadata": {},
     "output_type": "execute_result"
    }
   ],
   "source": [
    "count_dict(vote_counts)  # uncomment to inspect vote count occurrence rate"
   ]
  },
  {
   "cell_type": "markdown",
   "metadata": {},
   "source": [
    "---\n",
    "---"
   ]
  },
  {
   "cell_type": "markdown",
   "metadata": {},
   "source": [
    "## Back to inspecting vote distributions."
   ]
  },
  {
   "cell_type": "code",
   "execution_count": 37,
   "metadata": {},
   "outputs": [],
   "source": [
    "df_task0 = df_task0[df_task0['# votes'] > 5]"
   ]
  },
  {
   "cell_type": "code",
   "execution_count": 38,
   "metadata": {},
   "outputs": [
    {
     "data": {
      "text/html": [
       "<div>\n",
       "<style scoped>\n",
       "    .dataframe tbody tr th:only-of-type {\n",
       "        vertical-align: middle;\n",
       "    }\n",
       "\n",
       "    .dataframe tbody tr th {\n",
       "        vertical-align: top;\n",
       "    }\n",
       "\n",
       "    .dataframe thead th {\n",
       "        text-align: right;\n",
       "    }\n",
       "</style>\n",
       "<table border=\"1\" class=\"dataframe\">\n",
       "  <thead>\n",
       "    <tr style=\"text-align: right;\">\n",
       "      <th></th>\n",
       "      <th>name</th>\n",
       "      <th>counts</th>\n",
       "      <th># votes</th>\n",
       "      <th>% votes Galaxy</th>\n",
       "      <th>% votes Group of objects (Cluster)</th>\n",
       "      <th>% votes Something else/empty center</th>\n",
       "    </tr>\n",
       "  </thead>\n",
       "  <tbody>\n",
       "    <tr>\n",
       "      <th>0</th>\n",
       "      <td>UDGcand_1541</td>\n",
       "      <td>{'Galaxy': 15}</td>\n",
       "      <td>15</td>\n",
       "      <td>100.0</td>\n",
       "      <td>0.0</td>\n",
       "      <td>0.0</td>\n",
       "    </tr>\n",
       "    <tr>\n",
       "      <th>6256</th>\n",
       "      <td>UDGcand_1157</td>\n",
       "      <td>{'Galaxy': 16}</td>\n",
       "      <td>16</td>\n",
       "      <td>100.0</td>\n",
       "      <td>0.0</td>\n",
       "      <td>0.0</td>\n",
       "    </tr>\n",
       "    <tr>\n",
       "      <th>6244</th>\n",
       "      <td>UDGcand_969</td>\n",
       "      <td>{'Galaxy': 16}</td>\n",
       "      <td>16</td>\n",
       "      <td>100.0</td>\n",
       "      <td>0.0</td>\n",
       "      <td>0.0</td>\n",
       "    </tr>\n",
       "    <tr>\n",
       "      <th>4858</th>\n",
       "      <td>UDGcand_1850</td>\n",
       "      <td>{'Galaxy': 16}</td>\n",
       "      <td>16</td>\n",
       "      <td>100.0</td>\n",
       "      <td>0.0</td>\n",
       "      <td>0.0</td>\n",
       "    </tr>\n",
       "    <tr>\n",
       "      <th>2500</th>\n",
       "      <td>UDGcand_2499</td>\n",
       "      <td>{'Galaxy': 17}</td>\n",
       "      <td>17</td>\n",
       "      <td>100.0</td>\n",
       "      <td>0.0</td>\n",
       "      <td>0.0</td>\n",
       "    </tr>\n",
       "    <tr>\n",
       "      <th>...</th>\n",
       "      <td>...</td>\n",
       "      <td>...</td>\n",
       "      <td>...</td>\n",
       "      <td>...</td>\n",
       "      <td>...</td>\n",
       "      <td>...</td>\n",
       "    </tr>\n",
       "    <tr>\n",
       "      <th>1133</th>\n",
       "      <td>UDGcand_3858</td>\n",
       "      <td>{'Group of objects (Cluster)': 13, 'Something ...</td>\n",
       "      <td>14</td>\n",
       "      <td>0.0</td>\n",
       "      <td>92.9</td>\n",
       "      <td>7.1</td>\n",
       "    </tr>\n",
       "    <tr>\n",
       "      <th>563</th>\n",
       "      <td>UDGcand_3944</td>\n",
       "      <td>{'Something else/empty center': 15}</td>\n",
       "      <td>15</td>\n",
       "      <td>0.0</td>\n",
       "      <td>0.0</td>\n",
       "      <td>100.0</td>\n",
       "    </tr>\n",
       "    <tr>\n",
       "      <th>2162</th>\n",
       "      <td>UDGcand_5665</td>\n",
       "      <td>{'Something else/empty center': 16}</td>\n",
       "      <td>16</td>\n",
       "      <td>0.0</td>\n",
       "      <td>0.0</td>\n",
       "      <td>100.0</td>\n",
       "    </tr>\n",
       "    <tr>\n",
       "      <th>2172</th>\n",
       "      <td>UDGcand_5149</td>\n",
       "      <td>{'Something else/empty center': 15, 'Group of ...</td>\n",
       "      <td>16</td>\n",
       "      <td>0.0</td>\n",
       "      <td>6.2</td>\n",
       "      <td>93.8</td>\n",
       "    </tr>\n",
       "    <tr>\n",
       "      <th>5268</th>\n",
       "      <td>UDGcand_1155</td>\n",
       "      <td>{'Something else/empty center': 15, 'Group of ...</td>\n",
       "      <td>16</td>\n",
       "      <td>0.0</td>\n",
       "      <td>6.2</td>\n",
       "      <td>93.8</td>\n",
       "    </tr>\n",
       "  </tbody>\n",
       "</table>\n",
       "<p>6362 rows × 6 columns</p>\n",
       "</div>"
      ],
      "text/plain": [
       "              name                                             counts  \\\n",
       "0     UDGcand_1541                                     {'Galaxy': 15}   \n",
       "6256  UDGcand_1157                                     {'Galaxy': 16}   \n",
       "6244   UDGcand_969                                     {'Galaxy': 16}   \n",
       "4858  UDGcand_1850                                     {'Galaxy': 16}   \n",
       "2500  UDGcand_2499                                     {'Galaxy': 17}   \n",
       "...            ...                                                ...   \n",
       "1133  UDGcand_3858  {'Group of objects (Cluster)': 13, 'Something ...   \n",
       "563   UDGcand_3944                {'Something else/empty center': 15}   \n",
       "2162  UDGcand_5665                {'Something else/empty center': 16}   \n",
       "2172  UDGcand_5149  {'Something else/empty center': 15, 'Group of ...   \n",
       "5268  UDGcand_1155  {'Something else/empty center': 15, 'Group of ...   \n",
       "\n",
       "      # votes  % votes Galaxy  % votes Group of objects (Cluster)  \\\n",
       "0          15           100.0                                 0.0   \n",
       "6256       16           100.0                                 0.0   \n",
       "6244       16           100.0                                 0.0   \n",
       "4858       16           100.0                                 0.0   \n",
       "2500       17           100.0                                 0.0   \n",
       "...       ...             ...                                 ...   \n",
       "1133       14             0.0                                92.9   \n",
       "563        15             0.0                                 0.0   \n",
       "2162       16             0.0                                 0.0   \n",
       "2172       16             0.0                                 6.2   \n",
       "5268       16             0.0                                 6.2   \n",
       "\n",
       "      % votes Something else/empty center  \n",
       "0                                     0.0  \n",
       "6256                                  0.0  \n",
       "6244                                  0.0  \n",
       "4858                                  0.0  \n",
       "2500                                  0.0  \n",
       "...                                   ...  \n",
       "1133                                  7.1  \n",
       "563                                 100.0  \n",
       "2162                                100.0  \n",
       "2172                                 93.8  \n",
       "5268                                 93.8  \n",
       "\n",
       "[6362 rows x 6 columns]"
      ]
     },
     "execution_count": 38,
     "metadata": {},
     "output_type": "execute_result"
    }
   ],
   "source": [
    "df_task0.sort_values(['% votes Galaxy'], ascending=False)"
   ]
  },
  {
   "cell_type": "markdown",
   "metadata": {},
   "source": [
    "## Plot vote distributions"
   ]
  },
  {
   "cell_type": "code",
   "execution_count": 39,
   "metadata": {},
   "outputs": [
    {
     "data": {
      "image/png": "[encoded data removed]",
      "text/plain": [
       "<Figure size 432x864 with 3 Axes>"
      ]
     },
     "metadata": {
      "needs_background": "light"
     },
     "output_type": "display_data"
    }
   ],
   "source": [
    "fields = ['% votes {}'.format(ans) for ans in answer_types]\n",
    "\n",
    "fig, fr = plt.subplots(len(fields), figsize=(6, 12))\n",
    "fig.tight_layout()\n",
    "\n",
    "for idx, field in enumerate(fields):\n",
    "    fr[idx].hist(df_task0[field], bins=20)\n",
    "\n",
    "    fr[idx].grid(alpha=0.2, which='both')\n",
    "    fr[idx].update({\n",
    "        'xlabel': field,\n",
    "        'ylabel': '# objects'\n",
    "    })"
   ]
  },
  {
   "cell_type": "markdown",
   "metadata": {},
   "source": [
    "Of note: \n",
    "- votes for `galaxy` is a relatively two-sided distribution. Most likely are basically either 'definitely not a galaxy' and 'definitely a galaxy'.\n",
    "    Looking at this distribution, a naive first approximation for 'certainty' in the people's vote might be, say, 75% votes for `galaxy`.\n",
    "- votes for `cluster` is mostly 'no', but there are still plenty of objects where people do vote for `cluster`\n",
    "- relatively few objects are supposedly `empty` or `something else`"
   ]
  },
  {
   "cell_type": "markdown",
   "metadata": {},
   "source": [
    "Examine 'Task 1' results. \n",
    "- If task 0 answer is `galaxy`, task 1 asks \"Is the galaxy fluffy or is it bright?\""
   ]
  },
  {
   "cell_type": "code",
   "execution_count": 40,
   "metadata": {},
   "outputs": [
    {
     "data": {
      "text/plain": [
       "['Galaxy', 'Group of objects (Cluster)', 'Something else/empty center']"
      ]
     },
     "execution_count": 40,
     "metadata": {},
     "output_type": "execute_result"
    }
   ],
   "source": [
    "answer_types"
   ]
  },
  {
   "cell_type": "code",
   "execution_count": 41,
   "metadata": {},
   "outputs": [],
   "source": [
    "# find classifications where people voted 'galaxy'\n",
    "df_galaxy = df[(df['Task0'] == 'Galaxy') & (df['annotations'].map(len) > 1)]"
   ]
  },
  {
   "cell_type": "code",
   "execution_count": 42,
   "metadata": {},
   "outputs": [
    {
     "data": {
      "text/plain": [
       "{'Bright', 'Fluffy', None}"
      ]
     },
     "execution_count": 42,
     "metadata": {},
     "output_type": "execute_result"
    }
   ],
   "source": [
    "# sanity check: check if 'is the galaxy fluffy or is it bright?' is the only question asked \n",
    "#    when people answer 'galaxy' in task 0\n",
    "# also check which answers are possible\n",
    "task1_questions = []\n",
    "task1_values = []\n",
    "\n",
    "for answer in answer_types[:1]:\n",
    "    df_filtered = df[(df['Task0'] == answer) & (df['annotations'].map(len) > 1)]\n",
    "    df_filtered['annotations'].apply(lambda x: task1_questions.append(x[1]['task_label']))\n",
    "    df_filtered['annotations'].apply(lambda x: task1_values.append(x[1]['value']))\n",
    "    \n",
    "\n",
    "set(task1_questions)  # set of all questions asked (turns out, it's only the one above)\n",
    "set(task1_values)     # set of all answers. \n",
    "                      # note this could also be found simply using df_galaxy.groupby(['Task1']).groups.keys()"
   ]
  },
  {
   "cell_type": "code",
   "execution_count": 43,
   "metadata": {},
   "outputs": [
    {
     "name": "stdout",
     "output_type": "stream",
     "text": [
      "Fluffy    31674\n",
      "Bright    17974\n",
      "Name: Task1, dtype: int64\n",
      "None: 755\n"
     ]
    }
   ],
   "source": [
    "gr_galaxy_task1 = df_galaxy.groupby(['Task1'])\n",
    "\n",
    "print(df_galaxy.Task1.value_counts())  # count of 'Fluffy' and 'Bright'\n",
    "print('None:', df_galaxy[df_galaxy['Task1'].isnull()].shape[0])  # count of None, presumably people didn't give an answer in this case"
   ]
  },
  {
   "cell_type": "markdown",
   "metadata": {},
   "source": [
    "---"
   ]
  },
  {
   "cell_type": "markdown",
   "metadata": {},
   "source": [
    "## Plot % votes galaxy vs. % fluffy/bright"
   ]
  },
  {
   "cell_type": "code",
   "execution_count": 44,
   "metadata": {},
   "outputs": [],
   "source": [
    "galaxy_names = df_galaxy['Filename']\n",
    "\n",
    "galaxy_task1_values = []\n",
    "\n",
    "for name in set(galaxy_names):\n",
    "    group = gr_by_name.get_group(name)        # get all classifications of this object from df\n",
    "    group = group[group['Task0'] == 'Galaxy'] # select only rows where task0 was answered with 'galaxy'\n",
    "    \n",
    "#     rowObj = count_dict(list(group['Task1']))  # create occurence dictionary of answer\n",
    "    \n",
    "    rowObj = {}\n",
    "    for answer in ['Fluffy', 'Bright']:\n",
    "        rowObj['% {}'.format(answer)] = round(list(group['Task1']).count(answer)*100/group.shape[0], 1)\n",
    "    \n",
    "    rowObj['% None'] = group[group['Task1'].isnull()].shape[0]  # manually add 'None' row since None is parsed to NaN otherwise\n",
    "    rowObj['name'] = name[:-9]  # add object's name to rowObj\n",
    "    \n",
    "    galaxy_task1_values.append(rowObj)  # append rowObj to list\n",
    "\n",
    "# galaxy_task1_values"
   ]
  },
  {
   "cell_type": "code",
   "execution_count": 45,
   "metadata": {},
   "outputs": [],
   "source": [
    "df_task1 = pd.DataFrame(galaxy_task1_values)\n",
    "\n",
    "df_tasks = df_task1.merge(df_task0, on='name', how='outer')"
   ]
  },
  {
   "cell_type": "code",
   "execution_count": 46,
   "metadata": {},
   "outputs": [
    {
     "data": {
      "text/html": [
       "<div>\n",
       "<style scoped>\n",
       "    .dataframe tbody tr th:only-of-type {\n",
       "        vertical-align: middle;\n",
       "    }\n",
       "\n",
       "    .dataframe tbody tr th {\n",
       "        vertical-align: top;\n",
       "    }\n",
       "\n",
       "    .dataframe thead th {\n",
       "        text-align: right;\n",
       "    }\n",
       "</style>\n",
       "<table border=\"1\" class=\"dataframe\">\n",
       "  <thead>\n",
       "    <tr style=\"text-align: right;\">\n",
       "      <th></th>\n",
       "      <th>% Fluffy</th>\n",
       "      <th>% Bright</th>\n",
       "      <th>% None</th>\n",
       "      <th>name</th>\n",
       "      <th>counts</th>\n",
       "      <th># votes</th>\n",
       "      <th>% votes Galaxy</th>\n",
       "      <th>% votes Group of objects (Cluster)</th>\n",
       "      <th>% votes Something else/empty center</th>\n",
       "    </tr>\n",
       "  </thead>\n",
       "  <tbody>\n",
       "    <tr>\n",
       "      <th>0</th>\n",
       "      <td>66.7</td>\n",
       "      <td>33.3</td>\n",
       "      <td>0.0</td>\n",
       "      <td>UDGcand_5780</td>\n",
       "      <td>{'Group of objects (Cluster)': 10, 'Something ...</td>\n",
       "      <td>16.0</td>\n",
       "      <td>18.8</td>\n",
       "      <td>62.5</td>\n",
       "      <td>18.8</td>\n",
       "    </tr>\n",
       "    <tr>\n",
       "      <th>1</th>\n",
       "      <td>26.7</td>\n",
       "      <td>73.3</td>\n",
       "      <td>0.0</td>\n",
       "      <td>UDGcand_2205</td>\n",
       "      <td>{'Galaxy': 15, 'Group of objects (Cluster)': 1}</td>\n",
       "      <td>16.0</td>\n",
       "      <td>93.8</td>\n",
       "      <td>6.2</td>\n",
       "      <td>0.0</td>\n",
       "    </tr>\n",
       "    <tr>\n",
       "      <th>2</th>\n",
       "      <td>20.0</td>\n",
       "      <td>73.3</td>\n",
       "      <td>1.0</td>\n",
       "      <td>UDGcand_6836</td>\n",
       "      <td>{'Galaxy': 15}</td>\n",
       "      <td>15.0</td>\n",
       "      <td>100.0</td>\n",
       "      <td>0.0</td>\n",
       "      <td>0.0</td>\n",
       "    </tr>\n",
       "    <tr>\n",
       "      <th>3</th>\n",
       "      <td>100.0</td>\n",
       "      <td>0.0</td>\n",
       "      <td>0.0</td>\n",
       "      <td>UDGcand_5706</td>\n",
       "      <td>{'Galaxy': 7, 'Something else/empty center': 6...</td>\n",
       "      <td>16.0</td>\n",
       "      <td>43.8</td>\n",
       "      <td>18.8</td>\n",
       "      <td>37.5</td>\n",
       "    </tr>\n",
       "    <tr>\n",
       "      <th>4</th>\n",
       "      <td>27.3</td>\n",
       "      <td>72.7</td>\n",
       "      <td>0.0</td>\n",
       "      <td>UDGcand_3001</td>\n",
       "      <td>{'Galaxy': 11, 'Group of objects (Cluster)': 4}</td>\n",
       "      <td>15.0</td>\n",
       "      <td>73.3</td>\n",
       "      <td>26.7</td>\n",
       "      <td>0.0</td>\n",
       "    </tr>\n",
       "  </tbody>\n",
       "</table>\n",
       "</div>"
      ],
      "text/plain": [
       "   % Fluffy  % Bright  % None          name  \\\n",
       "0      66.7      33.3     0.0  UDGcand_5780   \n",
       "1      26.7      73.3     0.0  UDGcand_2205   \n",
       "2      20.0      73.3     1.0  UDGcand_6836   \n",
       "3     100.0       0.0     0.0  UDGcand_5706   \n",
       "4      27.3      72.7     0.0  UDGcand_3001   \n",
       "\n",
       "                                              counts  # votes  % votes Galaxy  \\\n",
       "0  {'Group of objects (Cluster)': 10, 'Something ...     16.0            18.8   \n",
       "1    {'Galaxy': 15, 'Group of objects (Cluster)': 1}     16.0            93.8   \n",
       "2                                     {'Galaxy': 15}     15.0           100.0   \n",
       "3  {'Galaxy': 7, 'Something else/empty center': 6...     16.0            43.8   \n",
       "4    {'Galaxy': 11, 'Group of objects (Cluster)': 4}     15.0            73.3   \n",
       "\n",
       "   % votes Group of objects (Cluster)  % votes Something else/empty center  \n",
       "0                                62.5                                 18.8  \n",
       "1                                 6.2                                  0.0  \n",
       "2                                 0.0                                  0.0  \n",
       "3                                18.8                                 37.5  \n",
       "4                                26.7                                  0.0  "
      ]
     },
     "execution_count": 46,
     "metadata": {},
     "output_type": "execute_result"
    }
   ],
   "source": [
    "has_galaxy_votes = df_tasks[df_tasks['% votes Galaxy'] > 0]\n",
    "has_galaxy_votes.head()"
   ]
  },
  {
   "cell_type": "markdown",
   "metadata": {},
   "source": [
    "- Inspect the percentage of votes for 'bright' as function of how many people voted 'galaxy' on the object to begin with. Do this to see if possibly people more more often vote for 'galaxy' on objects they consider bright, for example"
   ]
  },
  {
   "cell_type": "code",
   "execution_count": 47,
   "metadata": {},
   "outputs": [
    {
     "data": {
      "image/png": "[encoded data removed]",
      "text/plain": [
       "<Figure size 576x360 with 1 Axes>"
      ]
     },
     "metadata": {
      "needs_background": "light"
     },
     "output_type": "display_data"
    }
   ],
   "source": [
    "fig, fr = plt.subplots(figsize=(8,5))\n",
    "\n",
    "fr.scatter(has_galaxy_votes['% votes Galaxy'], has_galaxy_votes['% Bright'], s=12, label='Bright')\n",
    "\n",
    "fr.update({\n",
    "    'xlabel': '% votes Galaxy',\n",
    "    'ylabel': '% votes Fluffy or Bright'\n",
    "})\n",
    "\n",
    "fr.legend(loc='lower left')\n",
    "plt.show()"
   ]
  },
  {
   "cell_type": "markdown",
   "metadata": {},
   "source": [
    "Looks fairly symmetric about y=50%, so presumably no correlation here."
   ]
  },
  {
   "cell_type": "markdown",
   "metadata": {},
   "source": [
    "---\n",
    "---"
   ]
  },
  {
   "cell_type": "markdown",
   "metadata": {},
   "source": [
    "## Inspect the votes for objects that are in the post-selection catalogue:"
   ]
  },
  {
   "cell_type": "code",
   "execution_count": 48,
   "metadata": {},
   "outputs": [],
   "source": [
    "# extract object names from catalogue\n",
    "catalogue = np.loadtxt('../catalogue/sf_catalogue_targets.txt', dtype='str')"
   ]
  },
  {
   "cell_type": "code",
   "execution_count": 52,
   "metadata": {},
   "outputs": [],
   "source": [
    "# filter df_tasks to only contain objects in the catalogue\n",
    "in_catalogue = df_tasks[df_tasks['name'].isin(catalogue)]\n",
    "not_in_catalogue = df_tasks[~df_tasks['name'].isin(catalogue)]"
   ]
  },
  {
   "cell_type": "code",
   "execution_count": 50,
   "metadata": {},
   "outputs": [
    {
     "data": {
      "image/png": "[encoded data removed]",
      "text/plain": [
       "<Figure size 576x360 with 1 Axes>"
      ]
     },
     "metadata": {
      "needs_background": "light"
     },
     "output_type": "display_data"
    }
   ],
   "source": [
    "# plot histograms of vote distribution for the objects in the catalogue\n",
    "fig, fr = plt.subplots(figsize=(8,5))\n",
    "\n",
    "fr.hist(in_catalogue['% votes Group of objects (Cluster)'], alpha=0.6, label='Cluster')\n",
    "fr.hist(in_catalogue['% votes Galaxy'], alpha=0.75, label='Galaxy')\n",
    "\n",
    "fr.update({\n",
    "    'xlabel': '% votes Galaxy',\n",
    "    'ylabel': '# objects',\n",
    "    'title': \"% votes of objects in Aku's catalogue\"\n",
    "})\n",
    "fr.grid(alpha=0.2, which='both')\n",
    "fr.legend()\n",
    "plt.show()"
   ]
  },
  {
   "cell_type": "code",
   "execution_count": 60,
   "metadata": {},
   "outputs": [
    {
     "data": {
      "image/png": "[encoded data removed]",
      "text/plain": [
       "<Figure size 576x360 with 1 Axes>"
      ]
     },
     "metadata": {
      "needs_background": "light"
     },
     "output_type": "display_data"
    }
   ],
   "source": [
    "# plot histograms of vote distribution for the objects NOT in the catalogue\n",
    "fig, fr = plt.subplots(figsize=(8,5))\n",
    "\n",
    "fr.hist(not_in_catalogue['% votes Group of objects (Cluster)'], alpha=0.6, label='Cluster')\n",
    "fr.hist(not_in_catalogue['% votes Galaxy'], alpha=0.75, label='Galaxy')\n",
    "\n",
    "fr.update({\n",
    "    'xlabel': '% votes Galaxy',\n",
    "    'ylabel': '# objects',\n",
    "    'title': \"% votes of objects NOT in Aku's catalogue\"\n",
    "})\n",
    "fr.grid(alpha=0.2, which='both')\n",
    "fr.legend()\n",
    "plt.show()"
   ]
  },
  {
   "cell_type": "code",
   "execution_count": 51,
   "metadata": {},
   "outputs": [],
   "source": [
    "# list of objects both in catalogue and raw dataframe\n",
    "in_catalogue_and_spacefluff = list(set(catalogue) & set(df['Filename'].apply(lambda x: x[:-9])))\n",
    "\n",
    "# list of objects in raw dataframe, not in df_tasks\n",
    "_names_df = set(df['Filename'].apply(lambda x: x[:-9]))\n",
    "_names_df_tasks = set(df_tasks['name'])\n",
    "\n",
    "difference = []\n",
    "for name in _names_df:\n",
    "    if not name in _names_df_tasks:\n",
    "        difference.append(name)\n",
    "\n",
    "# filter df to see the objects that didn't make it into df_tasks, but are in raw df\n",
    "# df[df['Filename'].apply(lambda x: x[:-9]).isin(difference)]  # uncomment to inspect"
   ]
  },
  {
   "cell_type": "markdown",
   "metadata": {},
   "source": [
    "---\n",
    "---"
   ]
  },
  {
   "cell_type": "code",
   "execution_count": 81,
   "metadata": {},
   "outputs": [
    {
     "data": {
      "text/plain": [
       "Index(['name', 'RA', 'DEC', 'Reff', 'r_mag', 'g_mag', 'axis_ratio',\n",
       "       'pos_angle', 'n', 'u', 'g', 'r', 'i', 'ue', 'ge', 're', 'ie', 'Reffe',\n",
       "       'r_mage', 'ne', 'C', 'mue_r', 'bae', 'RFF'],\n",
       "      dtype='object')"
      ]
     },
     "execution_count": 81,
     "metadata": {},
     "output_type": "execute_result"
    }
   ],
   "source": [
    "# read csv with object info, which was extracted from the catalogue (without selection cuts)\n",
    "object_info = pd.read_csv('../catalogue/sf_spacefluff_object_data.csv', comment=\"#\")\n",
    "\n",
    "object_info.columns"
   ]
  },
  {
   "cell_type": "code",
   "execution_count": 78,
   "metadata": {},
   "outputs": [],
   "source": [
    "# merge properties onto dataframe\n",
    "df_tasks_with_props = df_tasks.merge(object_info, how='outer', on='name')\n",
    "\n",
    "# filter out objects without actual votes\n",
    "df_tasks_with_props = df_tasks_with_props[~df_tasks_with_props['# votes'].isnull()]"
   ]
  },
  {
   "cell_type": "code",
   "execution_count": 80,
   "metadata": {},
   "outputs": [
    {
     "data": {
      "text/html": [
       "<div>\n",
       "<style scoped>\n",
       "    .dataframe tbody tr th:only-of-type {\n",
       "        vertical-align: middle;\n",
       "    }\n",
       "\n",
       "    .dataframe tbody tr th {\n",
       "        vertical-align: top;\n",
       "    }\n",
       "\n",
       "    .dataframe thead th {\n",
       "        text-align: right;\n",
       "    }\n",
       "</style>\n",
       "<table border=\"1\" class=\"dataframe\">\n",
       "  <thead>\n",
       "    <tr style=\"text-align: right;\">\n",
       "      <th></th>\n",
       "      <th>% Fluffy</th>\n",
       "      <th>% Bright</th>\n",
       "      <th>% None</th>\n",
       "      <th>name</th>\n",
       "      <th>counts</th>\n",
       "      <th># votes</th>\n",
       "      <th>% votes Galaxy</th>\n",
       "      <th>% votes Group of objects (Cluster)</th>\n",
       "      <th>% votes Something else/empty center</th>\n",
       "      <th>RA</th>\n",
       "      <th>...</th>\n",
       "      <th>ge</th>\n",
       "      <th>re</th>\n",
       "      <th>ie</th>\n",
       "      <th>Reffe</th>\n",
       "      <th>r_mage</th>\n",
       "      <th>ne</th>\n",
       "      <th>C</th>\n",
       "      <th>mue_r</th>\n",
       "      <th>bae</th>\n",
       "      <th>RFF</th>\n",
       "    </tr>\n",
       "  </thead>\n",
       "  <tbody>\n",
       "    <tr>\n",
       "      <th>3</th>\n",
       "      <td>100.0</td>\n",
       "      <td>0.0</td>\n",
       "      <td>0.0</td>\n",
       "      <td>UDGcand_5706</td>\n",
       "      <td>{'Galaxy': 7, 'Something else/empty center': 6...</td>\n",
       "      <td>16.0</td>\n",
       "      <td>43.8</td>\n",
       "      <td>18.8</td>\n",
       "      <td>37.5</td>\n",
       "      <td>51.668171</td>\n",
       "      <td>...</td>\n",
       "      <td>0.144354</td>\n",
       "      <td>0.092332</td>\n",
       "      <td>0.076108</td>\n",
       "      <td>0.873798</td>\n",
       "      <td>0.355620</td>\n",
       "      <td>0.255138</td>\n",
       "      <td>3.132097</td>\n",
       "      <td>25.446960</td>\n",
       "      <td>0.058488</td>\n",
       "      <td>-99.0</td>\n",
       "    </tr>\n",
       "    <tr>\n",
       "      <th>19</th>\n",
       "      <td>100.0</td>\n",
       "      <td>0.0</td>\n",
       "      <td>0.0</td>\n",
       "      <td>UDGcand_5464</td>\n",
       "      <td>{'Group of objects (Cluster)': 8, 'Something e...</td>\n",
       "      <td>16.0</td>\n",
       "      <td>25.0</td>\n",
       "      <td>50.0</td>\n",
       "      <td>25.0</td>\n",
       "      <td>51.868996</td>\n",
       "      <td>...</td>\n",
       "      <td>0.152085</td>\n",
       "      <td>0.095637</td>\n",
       "      <td>0.069404</td>\n",
       "      <td>0.583846</td>\n",
       "      <td>0.261711</td>\n",
       "      <td>0.200781</td>\n",
       "      <td>2.385606</td>\n",
       "      <td>24.873968</td>\n",
       "      <td>0.046271</td>\n",
       "      <td>-99.0</td>\n",
       "    </tr>\n",
       "    <tr>\n",
       "      <th>73</th>\n",
       "      <td>75.0</td>\n",
       "      <td>25.0</td>\n",
       "      <td>0.0</td>\n",
       "      <td>UDGcand_2356</td>\n",
       "      <td>{'Something else/empty center': 7, 'Group of o...</td>\n",
       "      <td>15.0</td>\n",
       "      <td>26.7</td>\n",
       "      <td>26.7</td>\n",
       "      <td>46.7</td>\n",
       "      <td>51.798145</td>\n",
       "      <td>...</td>\n",
       "      <td>0.352385</td>\n",
       "      <td>0.162261</td>\n",
       "      <td>0.118369</td>\n",
       "      <td>1.137835</td>\n",
       "      <td>0.428178</td>\n",
       "      <td>0.294975</td>\n",
       "      <td>2.113818</td>\n",
       "      <td>25.793941</td>\n",
       "      <td>0.067405</td>\n",
       "      <td>-99.0</td>\n",
       "    </tr>\n",
       "    <tr>\n",
       "      <th>150</th>\n",
       "      <td>100.0</td>\n",
       "      <td>0.0</td>\n",
       "      <td>0.0</td>\n",
       "      <td>UDGcand_2253</td>\n",
       "      <td>{'Galaxy': 12, 'Group of objects (Cluster)': 4}</td>\n",
       "      <td>16.0</td>\n",
       "      <td>75.0</td>\n",
       "      <td>25.0</td>\n",
       "      <td>0.0</td>\n",
       "      <td>52.574825</td>\n",
       "      <td>...</td>\n",
       "      <td>0.061807</td>\n",
       "      <td>0.049343</td>\n",
       "      <td>0.044010</td>\n",
       "      <td>0.247254</td>\n",
       "      <td>0.139454</td>\n",
       "      <td>0.122771</td>\n",
       "      <td>2.898918</td>\n",
       "      <td>23.697582</td>\n",
       "      <td>0.028601</td>\n",
       "      <td>-99.0</td>\n",
       "    </tr>\n",
       "    <tr>\n",
       "      <th>165</th>\n",
       "      <td>87.5</td>\n",
       "      <td>12.5</td>\n",
       "      <td>0.0</td>\n",
       "      <td>UDGcand_4008</td>\n",
       "      <td>{'Galaxy': 8, 'Group of objects (Cluster)': 4,...</td>\n",
       "      <td>16.0</td>\n",
       "      <td>50.0</td>\n",
       "      <td>25.0</td>\n",
       "      <td>25.0</td>\n",
       "      <td>53.432720</td>\n",
       "      <td>...</td>\n",
       "      <td>0.135062</td>\n",
       "      <td>0.090473</td>\n",
       "      <td>0.066937</td>\n",
       "      <td>0.561504</td>\n",
       "      <td>0.251117</td>\n",
       "      <td>0.194401</td>\n",
       "      <td>2.583149</td>\n",
       "      <td>24.796743</td>\n",
       "      <td>0.044832</td>\n",
       "      <td>-99.0</td>\n",
       "    </tr>\n",
       "    <tr>\n",
       "      <th>...</th>\n",
       "      <td>...</td>\n",
       "      <td>...</td>\n",
       "      <td>...</td>\n",
       "      <td>...</td>\n",
       "      <td>...</td>\n",
       "      <td>...</td>\n",
       "      <td>...</td>\n",
       "      <td>...</td>\n",
       "      <td>...</td>\n",
       "      <td>...</td>\n",
       "      <td>...</td>\n",
       "      <td>...</td>\n",
       "      <td>...</td>\n",
       "      <td>...</td>\n",
       "      <td>...</td>\n",
       "      <td>...</td>\n",
       "      <td>...</td>\n",
       "      <td>...</td>\n",
       "      <td>...</td>\n",
       "      <td>...</td>\n",
       "      <td>...</td>\n",
       "    </tr>\n",
       "    <tr>\n",
       "      <th>6346</th>\n",
       "      <td>NaN</td>\n",
       "      <td>NaN</td>\n",
       "      <td>NaN</td>\n",
       "      <td>UDGcand_6457</td>\n",
       "      <td>{'Something else/empty center': 14, 'Group of ...</td>\n",
       "      <td>16.0</td>\n",
       "      <td>0.0</td>\n",
       "      <td>12.5</td>\n",
       "      <td>87.5</td>\n",
       "      <td>55.077614</td>\n",
       "      <td>...</td>\n",
       "      <td>0.356866</td>\n",
       "      <td>0.238301</td>\n",
       "      <td>0.215258</td>\n",
       "      <td>3.627467</td>\n",
       "      <td>0.623958</td>\n",
       "      <td>0.395883</td>\n",
       "      <td>2.914625</td>\n",
       "      <td>26.497606</td>\n",
       "      <td>0.089880</td>\n",
       "      <td>-99.0</td>\n",
       "    </tr>\n",
       "    <tr>\n",
       "      <th>6377</th>\n",
       "      <td>NaN</td>\n",
       "      <td>NaN</td>\n",
       "      <td>NaN</td>\n",
       "      <td>UDGcand_3779</td>\n",
       "      <td>{'Something else/empty center': 15, 'Group of ...</td>\n",
       "      <td>16.0</td>\n",
       "      <td>0.0</td>\n",
       "      <td>6.2</td>\n",
       "      <td>93.8</td>\n",
       "      <td>54.887302</td>\n",
       "      <td>...</td>\n",
       "      <td>0.464883</td>\n",
       "      <td>0.275343</td>\n",
       "      <td>0.492124</td>\n",
       "      <td>1.514738</td>\n",
       "      <td>0.618220</td>\n",
       "      <td>0.393035</td>\n",
       "      <td>2.385606</td>\n",
       "      <td>26.480339</td>\n",
       "      <td>0.089247</td>\n",
       "      <td>-99.0</td>\n",
       "    </tr>\n",
       "    <tr>\n",
       "      <th>6393</th>\n",
       "      <td>NaN</td>\n",
       "      <td>NaN</td>\n",
       "      <td>NaN</td>\n",
       "      <td>UDGcand_6086</td>\n",
       "      <td>{'Something else/empty center': 13, 'Group of ...</td>\n",
       "      <td>15.0</td>\n",
       "      <td>0.0</td>\n",
       "      <td>13.3</td>\n",
       "      <td>86.7</td>\n",
       "      <td>57.652386</td>\n",
       "      <td>...</td>\n",
       "      <td>0.221269</td>\n",
       "      <td>0.123539</td>\n",
       "      <td>0.132188</td>\n",
       "      <td>0.829612</td>\n",
       "      <td>0.365684</td>\n",
       "      <td>0.260762</td>\n",
       "      <td>2.385606</td>\n",
       "      <td>25.499113</td>\n",
       "      <td>0.059749</td>\n",
       "      <td>-99.0</td>\n",
       "    </tr>\n",
       "    <tr>\n",
       "      <th>6403</th>\n",
       "      <td>NaN</td>\n",
       "      <td>NaN</td>\n",
       "      <td>NaN</td>\n",
       "      <td>UDGcand_378</td>\n",
       "      <td>{'Something else/empty center': 8, 'Group of o...</td>\n",
       "      <td>11.0</td>\n",
       "      <td>0.0</td>\n",
       "      <td>27.3</td>\n",
       "      <td>72.7</td>\n",
       "      <td>56.409840</td>\n",
       "      <td>...</td>\n",
       "      <td>0.195701</td>\n",
       "      <td>0.120930</td>\n",
       "      <td>0.117776</td>\n",
       "      <td>1.426114</td>\n",
       "      <td>0.387644</td>\n",
       "      <td>0.272920</td>\n",
       "      <td>2.385606</td>\n",
       "      <td>25.608091</td>\n",
       "      <td>0.062472</td>\n",
       "      <td>-99.0</td>\n",
       "    </tr>\n",
       "    <tr>\n",
       "      <th>6413</th>\n",
       "      <td>NaN</td>\n",
       "      <td>NaN</td>\n",
       "      <td>NaN</td>\n",
       "      <td>UDGcand_485</td>\n",
       "      <td>{'Something else/empty center': 15, 'Group of ...</td>\n",
       "      <td>16.0</td>\n",
       "      <td>0.0</td>\n",
       "      <td>6.2</td>\n",
       "      <td>93.8</td>\n",
       "      <td>55.754314</td>\n",
       "      <td>...</td>\n",
       "      <td>0.378767</td>\n",
       "      <td>0.233680</td>\n",
       "      <td>0.623413</td>\n",
       "      <td>2.394938</td>\n",
       "      <td>0.578404</td>\n",
       "      <td>0.373113</td>\n",
       "      <td>2.286886</td>\n",
       "      <td>26.355936</td>\n",
       "      <td>0.084821</td>\n",
       "      <td>-99.0</td>\n",
       "    </tr>\n",
       "  </tbody>\n",
       "</table>\n",
       "<p>232 rows × 32 columns</p>\n",
       "</div>"
      ],
      "text/plain": [
       "      % Fluffy  % Bright  % None          name  \\\n",
       "3        100.0       0.0     0.0  UDGcand_5706   \n",
       "19       100.0       0.0     0.0  UDGcand_5464   \n",
       "73        75.0      25.0     0.0  UDGcand_2356   \n",
       "150      100.0       0.0     0.0  UDGcand_2253   \n",
       "165       87.5      12.5     0.0  UDGcand_4008   \n",
       "...        ...       ...     ...           ...   \n",
       "6346       NaN       NaN     NaN  UDGcand_6457   \n",
       "6377       NaN       NaN     NaN  UDGcand_3779   \n",
       "6393       NaN       NaN     NaN  UDGcand_6086   \n",
       "6403       NaN       NaN     NaN   UDGcand_378   \n",
       "6413       NaN       NaN     NaN   UDGcand_485   \n",
       "\n",
       "                                                 counts  # votes  \\\n",
       "3     {'Galaxy': 7, 'Something else/empty center': 6...     16.0   \n",
       "19    {'Group of objects (Cluster)': 8, 'Something e...     16.0   \n",
       "73    {'Something else/empty center': 7, 'Group of o...     15.0   \n",
       "150     {'Galaxy': 12, 'Group of objects (Cluster)': 4}     16.0   \n",
       "165   {'Galaxy': 8, 'Group of objects (Cluster)': 4,...     16.0   \n",
       "...                                                 ...      ...   \n",
       "6346  {'Something else/empty center': 14, 'Group of ...     16.0   \n",
       "6377  {'Something else/empty center': 15, 'Group of ...     16.0   \n",
       "6393  {'Something else/empty center': 13, 'Group of ...     15.0   \n",
       "6403  {'Something else/empty center': 8, 'Group of o...     11.0   \n",
       "6413  {'Something else/empty center': 15, 'Group of ...     16.0   \n",
       "\n",
       "      % votes Galaxy  % votes Group of objects (Cluster)  \\\n",
       "3               43.8                                18.8   \n",
       "19              25.0                                50.0   \n",
       "73              26.7                                26.7   \n",
       "150             75.0                                25.0   \n",
       "165             50.0                                25.0   \n",
       "...              ...                                 ...   \n",
       "6346             0.0                                12.5   \n",
       "6377             0.0                                 6.2   \n",
       "6393             0.0                                13.3   \n",
       "6403             0.0                                27.3   \n",
       "6413             0.0                                 6.2   \n",
       "\n",
       "      % votes Something else/empty center         RA  ...        ge        re  \\\n",
       "3                                    37.5  51.668171  ...  0.144354  0.092332   \n",
       "19                                   25.0  51.868996  ...  0.152085  0.095637   \n",
       "73                                   46.7  51.798145  ...  0.352385  0.162261   \n",
       "150                                   0.0  52.574825  ...  0.061807  0.049343   \n",
       "165                                  25.0  53.432720  ...  0.135062  0.090473   \n",
       "...                                   ...        ...  ...       ...       ...   \n",
       "6346                                 87.5  55.077614  ...  0.356866  0.238301   \n",
       "6377                                 93.8  54.887302  ...  0.464883  0.275343   \n",
       "6393                                 86.7  57.652386  ...  0.221269  0.123539   \n",
       "6403                                 72.7  56.409840  ...  0.195701  0.120930   \n",
       "6413                                 93.8  55.754314  ...  0.378767  0.233680   \n",
       "\n",
       "            ie     Reffe    r_mage        ne         C      mue_r       bae  \\\n",
       "3     0.076108  0.873798  0.355620  0.255138  3.132097  25.446960  0.058488   \n",
       "19    0.069404  0.583846  0.261711  0.200781  2.385606  24.873968  0.046271   \n",
       "73    0.118369  1.137835  0.428178  0.294975  2.113818  25.793941  0.067405   \n",
       "150   0.044010  0.247254  0.139454  0.122771  2.898918  23.697582  0.028601   \n",
       "165   0.066937  0.561504  0.251117  0.194401  2.583149  24.796743  0.044832   \n",
       "...        ...       ...       ...       ...       ...        ...       ...   \n",
       "6346  0.215258  3.627467  0.623958  0.395883  2.914625  26.497606  0.089880   \n",
       "6377  0.492124  1.514738  0.618220  0.393035  2.385606  26.480339  0.089247   \n",
       "6393  0.132188  0.829612  0.365684  0.260762  2.385606  25.499113  0.059749   \n",
       "6403  0.117776  1.426114  0.387644  0.272920  2.385606  25.608091  0.062472   \n",
       "6413  0.623413  2.394938  0.578404  0.373113  2.286886  26.355936  0.084821   \n",
       "\n",
       "       RFF  \n",
       "3    -99.0  \n",
       "19   -99.0  \n",
       "73   -99.0  \n",
       "150  -99.0  \n",
       "165  -99.0  \n",
       "...    ...  \n",
       "6346 -99.0  \n",
       "6377 -99.0  \n",
       "6393 -99.0  \n",
       "6403 -99.0  \n",
       "6413 -99.0  \n",
       "\n",
       "[232 rows x 32 columns]"
      ]
     },
     "execution_count": 80,
     "metadata": {},
     "output_type": "execute_result"
    }
   ],
   "source": [
    "df_tasks_with_props[df_tasks_with_props['name'].isin(in_catalogue_and_spacefluff)]"
   ]
  }
 ],
 "metadata": {
  "kernelspec": {
   "display_name": "Python 3",
   "language": "python",
   "name": "python3"
  },
  "language_info": {
   "codemirror_mode": {
    "name": "ipython",
    "version": 3
   },
   "file_extension": ".py",
   "mimetype": "text/x-python",
   "name": "python",
   "nbconvert_exporter": "python",
   "pygments_lexer": "ipython3",
   "version": "3.9.0"
  }
 },
 "nbformat": 4,
 "nbformat_minor": 4
}
