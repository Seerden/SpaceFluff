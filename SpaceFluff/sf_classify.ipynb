{
 "cells": [
  {
   "cell_type": "code",
   "execution_count": 1,
   "metadata": {},
   "outputs": [],
   "source": [
    "import json\n",
    "import numpy as np\n",
    "import pandas as pd\n",
    "import matplotlib.pyplot as plt\n",
    "from matplotlib import rc\n",
    "from dateutil.parser import parse\n",
    "%matplotlib inline"
   ]
  },
  {
   "cell_type": "code",
   "execution_count": 2,
   "metadata": {},
   "outputs": [],
   "source": [
    "font = {\n",
    "    'family': 'Verdana',\n",
    "    'weight': '300',\n",
    "    'size': 13\n",
    "}\n",
    "\n",
    "rc('font', **font)"
   ]
  },
  {
   "cell_type": "markdown",
   "metadata": {},
   "source": [
    "## Utils"
   ]
  },
  {
   "cell_type": "code",
   "execution_count": 3,
   "metadata": {},
   "outputs": [],
   "source": [
    "def getFilename(row):\n",
    "    \"extract the 'Filename'|'image'|'IMAGE' field from the subject_data column from a row\"\n",
    "    \n",
    "    keys = list(row.values())[0].keys()\n",
    "    accessKey = 'Filename' if 'Filename' in keys else 'image' if 'image' in keys else 'IMAGE' if 'IMAGE' in keys else None\n",
    "    \n",
    "    if accessKey:\n",
    "        return list(row.values())[0][accessKey]\n",
    "    else: \n",
    "        print('No filename found!')\n",
    "    \n",
    "def extract_task_value(task_index, row):\n",
    "    try:\n",
    "        return row[task_index]['value']\n",
    "    except: \n",
    "        return\n",
    "    \n",
    "def parse_time(string):\n",
    "    return pd.Timestamp(parse(string))\n",
    "\n",
    "def percentageVotesForAnswer(counts, answer):\n",
    "    '''\n",
    "    `counts` is a df column like {galaxy: 15, group of objects (cluster): 10, something else/empty center: 2}\n",
    "    `answer` is one of the keys of counts\n",
    "    '''\n",
    "    \n",
    "    totalVotes = sum(counts.values())\n",
    "    \n",
    "    if not answer in counts.keys():\n",
    "        return 0\n",
    "    \n",
    "    votesForAnswer = counts[answer]\n",
    "    \n",
    "    return round(100*votesForAnswer/totalVotes, 0)"
   ]
  },
  {
   "cell_type": "markdown",
   "metadata": {},
   "source": [
    "---\n",
    "\n",
    "---"
   ]
  },
  {
   "cell_type": "markdown",
   "metadata": {},
   "source": [
    "- Load dataframe"
   ]
  },
  {
   "cell_type": "code",
   "execution_count": 4,
   "metadata": {},
   "outputs": [],
   "source": [
    "df = pd.read_csv('./zooniverse_exports/classify-classifications.csv', delimiter=\",\")"
   ]
  },
  {
   "cell_type": "markdown",
   "metadata": {},
   "source": [
    "- Inspect column names"
   ]
  },
  {
   "cell_type": "code",
   "execution_count": 5,
   "metadata": {},
   "outputs": [
    {
     "data": {
      "text/plain": [
       "Index(['classification_id', 'user_name', 'user_id', 'user_ip', 'workflow_id',\n",
       "       'workflow_name', 'workflow_version', 'created_at', 'gold_standard',\n",
       "       'expert', 'metadata', 'annotations', 'subject_data', 'subject_ids'],\n",
       "      dtype='object')"
      ]
     },
     "execution_count": 5,
     "metadata": {},
     "output_type": "execute_result"
    }
   ],
   "source": [
    "df.keys()"
   ]
  },
  {
   "cell_type": "markdown",
   "metadata": {},
   "source": [
    "- JSON parse the stringified columns"
   ]
  },
  {
   "cell_type": "code",
   "execution_count": 6,
   "metadata": {},
   "outputs": [],
   "source": [
    "to_parse = ['annotations', 'subject_data', 'metadata']\n",
    "\n",
    "for column in to_parse:\n",
    "    df[column] = df[column].apply(json.loads)"
   ]
  },
  {
   "cell_type": "markdown",
   "metadata": {},
   "source": [
    "- Extract filename, task 0 value and task 1 value to separate columns"
   ]
  },
  {
   "cell_type": "code",
   "execution_count": 7,
   "metadata": {},
   "outputs": [],
   "source": [
    "df['Filename'] = df['subject_data'].apply(getFilename)\n",
    "df['Task0'] = df['annotations'].apply(lambda x: extract_task_value(0, x))\n",
    "df['Task1'] = df['annotations'].apply(lambda x: extract_task_value(1, x))"
   ]
  },
  {
   "cell_type": "markdown",
   "metadata": {},
   "source": [
    "- Remove rows where user didn't complete `Task 0`"
   ]
  },
  {
   "cell_type": "code",
   "execution_count": 8,
   "metadata": {},
   "outputs": [],
   "source": [
    "df = df[~df['Task0'].isnull()]"
   ]
  },
  {
   "cell_type": "markdown",
   "metadata": {},
   "source": [
    "- Remove 'retired' rows. \n",
    "<div style=\"color: orangered\">Q: Why didn't the object simply get taken out of the rotation once 'retired'?</div>\n",
    "\n",
    "To eliminate 'retired' entries and 'already seen entries':\n",
    "- extract subject_selection_state metadata, which contains both `retired` and `already_seen` fields\n",
    "- filter out entries where either `retired` or `already_seen` is true"
   ]
  },
  {
   "cell_type": "code",
   "execution_count": 9,
   "metadata": {},
   "outputs": [],
   "source": [
    "df['isRetired'] = df['metadata'].apply(lambda x: x['subject_selection_state']['retired'])\n",
    "df['alreadySeen'] = df['metadata'].apply(lambda x: x['subject_selection_state']['already_seen'])"
   ]
  },
  {
   "cell_type": "code",
   "execution_count": 10,
   "metadata": {},
   "outputs": [],
   "source": [
    "df = df[~df['isRetired'] & ~df['alreadySeen']]"
   ]
  },
  {
   "cell_type": "markdown",
   "metadata": {},
   "source": [
    "## Goal of this notebook:\n",
    "\n",
    "- For every unique object in the dataset, extract the following fields:\n",
    "    - name,\n",
    "    - 'task 0' value (recall 'task 0' asks if the users sees a galaxy or a group of objects\n",
    "    - @todo: 'task 1' value if it exists"
   ]
  },
  {
   "cell_type": "code",
   "execution_count": 11,
   "metadata": {},
   "outputs": [],
   "source": [
    "# extract unique object names that resulted from another notebook \n",
    "candidate_names_classify = np.loadtxt('./sf_objectImageStrings__classification-classify.txt', dtype=str)"
   ]
  },
  {
   "cell_type": "code",
   "execution_count": 12,
   "metadata": {},
   "outputs": [],
   "source": [
    "# group df by filename, so that each group contains only rows belonging to that object\n",
    "gr = df.groupby('Filename')\n",
    "\n",
    "# create empty list to push results to\n",
    "task0Values = []"
   ]
  },
  {
   "cell_type": "code",
   "execution_count": 13,
   "metadata": {},
   "outputs": [],
   "source": [
    "# loop over every group created above to accumulate 'task 0' votes ('galaxy'/'group of objects'/'something else')\n",
    "for objectName in candidate_names_classify:\n",
    "    task0 = gr.get_group(objectName)['Task0']\n",
    "    \n",
    "    counts = task0.value_counts().to_dict()\n",
    "    \n",
    "    countObj = {\n",
    "        \"name\": objectName,\n",
    "        \"counts\": counts,\n",
    "    }\n",
    "    \n",
    "    task0Values.append(countObj)"
   ]
  },
  {
   "cell_type": "code",
   "execution_count": 14,
   "metadata": {},
   "outputs": [
    {
     "data": {
      "text/html": [
       "<div>\n",
       "<style scoped>\n",
       "    .dataframe tbody tr th:only-of-type {\n",
       "        vertical-align: middle;\n",
       "    }\n",
       "\n",
       "    .dataframe tbody tr th {\n",
       "        vertical-align: top;\n",
       "    }\n",
       "\n",
       "    .dataframe thead th {\n",
       "        text-align: right;\n",
       "    }\n",
       "</style>\n",
       "<table border=\"1\" class=\"dataframe\">\n",
       "  <thead>\n",
       "    <tr style=\"text-align: right;\">\n",
       "      <th></th>\n",
       "      <th>name</th>\n",
       "      <th>counts</th>\n",
       "    </tr>\n",
       "  </thead>\n",
       "  <tbody>\n",
       "    <tr>\n",
       "      <th>0</th>\n",
       "      <td>UDGcand_1541_insp.png</td>\n",
       "      <td>{'Galaxy': 15}</td>\n",
       "    </tr>\n",
       "    <tr>\n",
       "      <th>1</th>\n",
       "      <td>UDGcand_5603_insp.png</td>\n",
       "      <td>{'Group of objects (Cluster)': 11, 'Galaxy': 4}</td>\n",
       "    </tr>\n",
       "    <tr>\n",
       "      <th>2</th>\n",
       "      <td>UDGcand_6077_insp.png</td>\n",
       "      <td>{'Group of objects (Cluster)': 17}</td>\n",
       "    </tr>\n",
       "    <tr>\n",
       "      <th>3</th>\n",
       "      <td>UDGcand_5840_insp.png</td>\n",
       "      <td>{'Something else/empty center': 14}</td>\n",
       "    </tr>\n",
       "    <tr>\n",
       "      <th>4</th>\n",
       "      <td>UDGcand_5600_insp.png</td>\n",
       "      <td>{'Something else/empty center': 16}</td>\n",
       "    </tr>\n",
       "  </tbody>\n",
       "</table>\n",
       "</div>"
      ],
      "text/plain": [
       "                    name                                           counts\n",
       "0  UDGcand_1541_insp.png                                   {'Galaxy': 15}\n",
       "1  UDGcand_5603_insp.png  {'Group of objects (Cluster)': 11, 'Galaxy': 4}\n",
       "2  UDGcand_6077_insp.png               {'Group of objects (Cluster)': 17}\n",
       "3  UDGcand_5840_insp.png              {'Something else/empty center': 14}\n",
       "4  UDGcand_5600_insp.png              {'Something else/empty center': 16}"
      ]
     },
     "execution_count": 14,
     "metadata": {},
     "output_type": "execute_result"
    }
   ],
   "source": [
    "df_task0 = pd.DataFrame(task0Values)\n",
    "df_task0.head()"
   ]
  },
  {
   "cell_type": "code",
   "execution_count": 15,
   "metadata": {},
   "outputs": [],
   "source": [
    "answer_types = ['Galaxy', 'Group of objects (Cluster)', 'Something else/empty center']\n",
    "\n",
    "df_task0['# votes'] = df_task0['counts'].apply(lambda x: sum(x.values()))\n",
    "\n",
    "for ans_type in answer_types:\n",
    "    vote_percentage_column = df_task0['counts'].apply(lambda x: percentageVotesForAnswer(x, ans_type))\n",
    "    df_task0['% votes {}'.format(ans_type)] = vote_percentage_column"
   ]
  },
  {
   "cell_type": "code",
   "execution_count": 16,
   "metadata": {},
   "outputs": [],
   "source": [
    "# rough initial separation just for inspection\n",
    "mostly_something = df_task0[df_task0['% votes Galaxy'] > 50]\n",
    "mostly_nothing = df_task0[df_task0['% votes Something else/empty center'] > 50]\n",
    "\n",
    "# strip the image extension from the names\n",
    "mostly_nothing = list(map(lambda x: x[:-9], list(mostly_nothing['name'])))\n",
    "mostly_something = list(map(lambda x: x[:-9], list(mostly_something['name'])))"
   ]
  },
  {
   "cell_type": "code",
   "execution_count": 17,
   "metadata": {},
   "outputs": [],
   "source": [
    "# extract catalogue targets from other notebook\n",
    "ct = np.loadtxt('../catalogue/sf_catalogue_targets.txt', dtype='str')\n",
    "\n",
    "# differing: objects in the catalogue that people mostly vote 'something else' on\n",
    "difference = list(set(ct) & set(mostly_nothing))\n",
    "\n",
    "# corresponding: objects in the catalogue that people mostly vote 'galaxy'/'cluster' on\n",
    "intersection = list(set(ct) & set(mostly_something))"
   ]
  },
  {
   "cell_type": "code",
   "execution_count": 18,
   "metadata": {},
   "outputs": [
    {
     "name": "stdout",
     "output_type": "stream",
     "text": [
      "95 80\n"
     ]
    },
    {
     "data": {
      "text/plain": [
       "90"
      ]
     },
     "execution_count": 18,
     "metadata": {},
     "output_type": "execute_result"
    }
   ],
   "source": [
    "print(len(difference), len(intersection))\n",
    "\n",
    "len(ct) - len(difference) - len(intersection)"
   ]
  },
  {
   "cell_type": "code",
   "execution_count": 19,
   "metadata": {},
   "outputs": [],
   "source": [
    "remaining_objects = np.setdiff1d(np.setdiff1d(ct, difference), intersection)"
   ]
  },
  {
   "cell_type": "code",
   "execution_count": 20,
   "metadata": {},
   "outputs": [
    {
     "data": {
      "text/html": [
       "<div>\n",
       "<style scoped>\n",
       "    .dataframe tbody tr th:only-of-type {\n",
       "        vertical-align: middle;\n",
       "    }\n",
       "\n",
       "    .dataframe tbody tr th {\n",
       "        vertical-align: top;\n",
       "    }\n",
       "\n",
       "    .dataframe thead th {\n",
       "        text-align: right;\n",
       "    }\n",
       "</style>\n",
       "<table border=\"1\" class=\"dataframe\">\n",
       "  <thead>\n",
       "    <tr style=\"text-align: right;\">\n",
       "      <th></th>\n",
       "      <th>name</th>\n",
       "      <th>counts</th>\n",
       "      <th># votes</th>\n",
       "      <th>% votes Galaxy</th>\n",
       "      <th>% votes Group of objects (Cluster)</th>\n",
       "      <th>% votes Something else/empty center</th>\n",
       "    </tr>\n",
       "  </thead>\n",
       "  <tbody>\n",
       "    <tr>\n",
       "      <th>79</th>\n",
       "      <td>UDGcand_5044</td>\n",
       "      <td>{'Galaxy': 7, 'Something else/empty center': 5...</td>\n",
       "      <td>17</td>\n",
       "      <td>41.0</td>\n",
       "      <td>29.0</td>\n",
       "      <td>29.0</td>\n",
       "    </tr>\n",
       "    <tr>\n",
       "      <th>203</th>\n",
       "      <td>UDGcand_7158</td>\n",
       "      <td>{'Something else/empty center': 7, 'Group of o...</td>\n",
       "      <td>16</td>\n",
       "      <td>25.0</td>\n",
       "      <td>31.0</td>\n",
       "      <td>44.0</td>\n",
       "    </tr>\n",
       "    <tr>\n",
       "      <th>263</th>\n",
       "      <td>UDGcand_4474</td>\n",
       "      <td>{'Something else/empty center': 6, 'Group of o...</td>\n",
       "      <td>15</td>\n",
       "      <td>27.0</td>\n",
       "      <td>33.0</td>\n",
       "      <td>40.0</td>\n",
       "    </tr>\n",
       "    <tr>\n",
       "      <th>335</th>\n",
       "      <td>UDGcand_2824</td>\n",
       "      <td>{'Galaxy': 7, 'Group of objects (Cluster)': 5,...</td>\n",
       "      <td>15</td>\n",
       "      <td>47.0</td>\n",
       "      <td>33.0</td>\n",
       "      <td>20.0</td>\n",
       "    </tr>\n",
       "    <tr>\n",
       "      <th>387</th>\n",
       "      <td>UDGcand_1765</td>\n",
       "      <td>{'Galaxy': 7, 'Something else/empty center': 6...</td>\n",
       "      <td>17</td>\n",
       "      <td>41.0</td>\n",
       "      <td>24.0</td>\n",
       "      <td>35.0</td>\n",
       "    </tr>\n",
       "    <tr>\n",
       "      <th>...</th>\n",
       "      <td>...</td>\n",
       "      <td>...</td>\n",
       "      <td>...</td>\n",
       "      <td>...</td>\n",
       "      <td>...</td>\n",
       "      <td>...</td>\n",
       "    </tr>\n",
       "    <tr>\n",
       "      <th>5856</th>\n",
       "      <td>UDGcand_4237</td>\n",
       "      <td>{'Galaxy': 6, 'Something else/empty center': 6...</td>\n",
       "      <td>15</td>\n",
       "      <td>40.0</td>\n",
       "      <td>20.0</td>\n",
       "      <td>40.0</td>\n",
       "    </tr>\n",
       "    <tr>\n",
       "      <th>5859</th>\n",
       "      <td>UDGcand_4321</td>\n",
       "      <td>{'Group of objects (Cluster)': 11, 'Galaxy': 3...</td>\n",
       "      <td>16</td>\n",
       "      <td>19.0</td>\n",
       "      <td>69.0</td>\n",
       "      <td>12.0</td>\n",
       "    </tr>\n",
       "    <tr>\n",
       "      <th>6086</th>\n",
       "      <td>UDGcand_949</td>\n",
       "      <td>{'Something else/empty center': 8, 'Galaxy': 4...</td>\n",
       "      <td>16</td>\n",
       "      <td>25.0</td>\n",
       "      <td>25.0</td>\n",
       "      <td>50.0</td>\n",
       "    </tr>\n",
       "    <tr>\n",
       "      <th>6221</th>\n",
       "      <td>UDGcand_6648</td>\n",
       "      <td>{'Something else/empty center': 8, 'Galaxy': 7...</td>\n",
       "      <td>16</td>\n",
       "      <td>44.0</td>\n",
       "      <td>6.0</td>\n",
       "      <td>50.0</td>\n",
       "    </tr>\n",
       "    <tr>\n",
       "      <th>6278</th>\n",
       "      <td>UDGcand_405</td>\n",
       "      <td>{'Galaxy': 7, 'Group of objects (Cluster)': 7,...</td>\n",
       "      <td>17</td>\n",
       "      <td>41.0</td>\n",
       "      <td>41.0</td>\n",
       "      <td>18.0</td>\n",
       "    </tr>\n",
       "  </tbody>\n",
       "</table>\n",
       "<p>63 rows × 6 columns</p>\n",
       "</div>"
      ],
      "text/plain": [
       "              name                                             counts  \\\n",
       "79    UDGcand_5044  {'Galaxy': 7, 'Something else/empty center': 5...   \n",
       "203   UDGcand_7158  {'Something else/empty center': 7, 'Group of o...   \n",
       "263   UDGcand_4474  {'Something else/empty center': 6, 'Group of o...   \n",
       "335   UDGcand_2824  {'Galaxy': 7, 'Group of objects (Cluster)': 5,...   \n",
       "387   UDGcand_1765  {'Galaxy': 7, 'Something else/empty center': 6...   \n",
       "...            ...                                                ...   \n",
       "5856  UDGcand_4237  {'Galaxy': 6, 'Something else/empty center': 6...   \n",
       "5859  UDGcand_4321  {'Group of objects (Cluster)': 11, 'Galaxy': 3...   \n",
       "6086   UDGcand_949  {'Something else/empty center': 8, 'Galaxy': 4...   \n",
       "6221  UDGcand_6648  {'Something else/empty center': 8, 'Galaxy': 7...   \n",
       "6278   UDGcand_405  {'Galaxy': 7, 'Group of objects (Cluster)': 7,...   \n",
       "\n",
       "      # votes  % votes Galaxy  % votes Group of objects (Cluster)  \\\n",
       "79         17            41.0                                29.0   \n",
       "203        16            25.0                                31.0   \n",
       "263        15            27.0                                33.0   \n",
       "335        15            47.0                                33.0   \n",
       "387        17            41.0                                24.0   \n",
       "...       ...             ...                                 ...   \n",
       "5856       15            40.0                                20.0   \n",
       "5859       16            19.0                                69.0   \n",
       "6086       16            25.0                                25.0   \n",
       "6221       16            44.0                                 6.0   \n",
       "6278       17            41.0                                41.0   \n",
       "\n",
       "      % votes Something else/empty center  \n",
       "79                                   29.0  \n",
       "203                                  44.0  \n",
       "263                                  40.0  \n",
       "335                                  20.0  \n",
       "387                                  35.0  \n",
       "...                                   ...  \n",
       "5856                                 40.0  \n",
       "5859                                 12.0  \n",
       "6086                                 50.0  \n",
       "6221                                 50.0  \n",
       "6278                                 18.0  \n",
       "\n",
       "[63 rows x 6 columns]"
      ]
     },
     "execution_count": 20,
     "metadata": {},
     "output_type": "execute_result"
    }
   ],
   "source": [
    "# slice df_task0 to see votes for objects that are included in the catalogue as potential UDGs\n",
    "df_task0['name'] = df_task0['name'].apply(lambda x: x[:-9])\n",
    "df_task0[df_task0['name'].isin(remaining_objects)]"
   ]
  },
  {
   "cell_type": "markdown",
   "metadata": {},
   "source": [
    "---"
   ]
  },
  {
   "cell_type": "markdown",
   "metadata": {},
   "source": [
    "## <div style=\"color: slateblue;\">Q: Are all votes counted properly?</div>"
   ]
  },
  {
   "cell_type": "code",
   "execution_count": 21,
   "metadata": {},
   "outputs": [
    {
     "data": {
      "text/plain": [
       "(sum    99140\n",
       " Name: # votes, dtype: int64,\n",
       " 99140)"
      ]
     },
     "execution_count": 21,
     "metadata": {},
     "output_type": "execute_result"
    }
   ],
   "source": [
    "df_task0['# votes'].agg(['sum']), df.shape[0]"
   ]
  },
  {
   "cell_type": "markdown",
   "metadata": {},
   "source": [
    "## <div style=\"color: slateblue;\">A: After filtering out retired and already_seen entries: yes, everything is counted properly</div>"
   ]
  },
  {
   "cell_type": "markdown",
   "metadata": {},
   "source": [
    "---"
   ]
  },
  {
   "cell_type": "code",
   "execution_count": 22,
   "metadata": {},
   "outputs": [],
   "source": [
    "def extract_retired_info(row):\n",
    "    return list(row.values())[0][\"retired\"]\n",
    "\n",
    "def extract_retired_object_props(row):\n",
    "    keys = list(list(first.values())[0].keys())\n",
    "    "
   ]
  },
  {
   "cell_type": "code",
   "execution_count": 23,
   "metadata": {},
   "outputs": [],
   "source": [
    "df[\"retired\"] = df[\"subject_data\"].apply(extract_retired_info)\n",
    "df_retired = df[~df[\"retired\"].isnull()]"
   ]
  },
  {
   "cell_type": "markdown",
   "metadata": {},
   "source": [
    "- Group retired objects by filename,\n",
    "- extract properties (RA, DEC, etc.) from them,\n",
    "- append properties as new columns to task0 dataframe"
   ]
  },
  {
   "cell_type": "code",
   "execution_count": 24,
   "metadata": {},
   "outputs": [],
   "source": [
    "gr_retired = df_retired.groupby([\"Filename\"])  # group by filename\n",
    "props = [\"R\", \"RA\", \"DEC\", \"G-I\"]              # extract object properties\n",
    "\n",
    "props_list = []\n",
    "\n",
    "for objectName in candidate_names_classify:\n",
    "    # get group\n",
    "    try:\n",
    "        row = gr_retired.get_group(objectName)['subject_data']\n",
    "\n",
    "        # get first entry in the group (props should be the same for every entry since they all describe the same object)\n",
    "        firstEntry = row.iloc[0]\n",
    "        values  = list(firstEntry.values())[0]\n",
    "\n",
    "        # create object with name, properties\n",
    "        entry = {'name': objectName[:-9]}\n",
    "\n",
    "        for key in props:\n",
    "            entry[key] = values[key]\n",
    "\n",
    "        props_list.append(entry)\n",
    "    except:\n",
    "        continue\n",
    "        \n",
    "df_props = pd.DataFrame(props_list)"
   ]
  },
  {
   "cell_type": "code",
   "execution_count": 25,
   "metadata": {},
   "outputs": [],
   "source": [
    "df_with_props = df_task0.merge(df_props, how='outer')"
   ]
  },
  {
   "cell_type": "code",
   "execution_count": 26,
   "metadata": {},
   "outputs": [
    {
     "data": {
      "text/html": [
       "<div>\n",
       "<style scoped>\n",
       "    .dataframe tbody tr th:only-of-type {\n",
       "        vertical-align: middle;\n",
       "    }\n",
       "\n",
       "    .dataframe tbody tr th {\n",
       "        vertical-align: top;\n",
       "    }\n",
       "\n",
       "    .dataframe thead th {\n",
       "        text-align: right;\n",
       "    }\n",
       "</style>\n",
       "<table border=\"1\" class=\"dataframe\">\n",
       "  <thead>\n",
       "    <tr style=\"text-align: right;\">\n",
       "      <th></th>\n",
       "      <th>name</th>\n",
       "      <th>counts</th>\n",
       "      <th># votes</th>\n",
       "      <th>% votes Galaxy</th>\n",
       "      <th>% votes Group of objects (Cluster)</th>\n",
       "      <th>% votes Something else/empty center</th>\n",
       "      <th>R</th>\n",
       "      <th>RA</th>\n",
       "      <th>DEC</th>\n",
       "      <th>G-I</th>\n",
       "    </tr>\n",
       "  </thead>\n",
       "  <tbody>\n",
       "    <tr>\n",
       "      <th>0</th>\n",
       "      <td>UDGcand_1541</td>\n",
       "      <td>{'Galaxy': 15}</td>\n",
       "      <td>15</td>\n",
       "      <td>100.0</td>\n",
       "      <td>0.0</td>\n",
       "      <td>0.0</td>\n",
       "      <td>18.1924</td>\n",
       "      <td>56.6240234375</td>\n",
       "      <td>-35.0544166565</td>\n",
       "      <td>0.587689876556</td>\n",
       "    </tr>\n",
       "    <tr>\n",
       "      <th>1</th>\n",
       "      <td>UDGcand_5603</td>\n",
       "      <td>{'Group of objects (Cluster)': 11, 'Galaxy': 4}</td>\n",
       "      <td>15</td>\n",
       "      <td>27.0</td>\n",
       "      <td>73.0</td>\n",
       "      <td>0.0</td>\n",
       "      <td>19.9224</td>\n",
       "      <td>52.5327110291</td>\n",
       "      <td>-35.0038948059</td>\n",
       "      <td>1.24255418777</td>\n",
       "    </tr>\n",
       "    <tr>\n",
       "      <th>2</th>\n",
       "      <td>UDGcand_6077</td>\n",
       "      <td>{'Group of objects (Cluster)': 17}</td>\n",
       "      <td>17</td>\n",
       "      <td>0.0</td>\n",
       "      <td>100.0</td>\n",
       "      <td>0.0</td>\n",
       "      <td>20.8128</td>\n",
       "      <td>57.528503418</td>\n",
       "      <td>-34.5431938171</td>\n",
       "      <td>1.43765449524</td>\n",
       "    </tr>\n",
       "    <tr>\n",
       "      <th>3</th>\n",
       "      <td>UDGcand_5840</td>\n",
       "      <td>{'Something else/empty center': 14}</td>\n",
       "      <td>14</td>\n",
       "      <td>0.0</td>\n",
       "      <td>0.0</td>\n",
       "      <td>100.0</td>\n",
       "      <td>18.8742</td>\n",
       "      <td>51.9040298462</td>\n",
       "      <td>-35.703163147</td>\n",
       "      <td>1.45068645477</td>\n",
       "    </tr>\n",
       "    <tr>\n",
       "      <th>4</th>\n",
       "      <td>UDGcand_5600</td>\n",
       "      <td>{'Something else/empty center': 16}</td>\n",
       "      <td>16</td>\n",
       "      <td>0.0</td>\n",
       "      <td>0.0</td>\n",
       "      <td>100.0</td>\n",
       "      <td>19.1851</td>\n",
       "      <td>51.8673019409</td>\n",
       "      <td>-35.73462677</td>\n",
       "      <td>1.50421380997</td>\n",
       "    </tr>\n",
       "  </tbody>\n",
       "</table>\n",
       "</div>"
      ],
      "text/plain": [
       "           name                                           counts  # votes  \\\n",
       "0  UDGcand_1541                                   {'Galaxy': 15}       15   \n",
       "1  UDGcand_5603  {'Group of objects (Cluster)': 11, 'Galaxy': 4}       15   \n",
       "2  UDGcand_6077               {'Group of objects (Cluster)': 17}       17   \n",
       "3  UDGcand_5840              {'Something else/empty center': 14}       14   \n",
       "4  UDGcand_5600              {'Something else/empty center': 16}       16   \n",
       "\n",
       "   % votes Galaxy  % votes Group of objects (Cluster)  \\\n",
       "0           100.0                                 0.0   \n",
       "1            27.0                                73.0   \n",
       "2             0.0                               100.0   \n",
       "3             0.0                                 0.0   \n",
       "4             0.0                                 0.0   \n",
       "\n",
       "   % votes Something else/empty center        R             RA  \\\n",
       "0                                  0.0  18.1924  56.6240234375   \n",
       "1                                  0.0  19.9224  52.5327110291   \n",
       "2                                  0.0  20.8128   57.528503418   \n",
       "3                                100.0  18.8742  51.9040298462   \n",
       "4                                100.0  19.1851  51.8673019409   \n",
       "\n",
       "              DEC             G-I  \n",
       "0  -35.0544166565  0.587689876556  \n",
       "1  -35.0038948059   1.24255418777  \n",
       "2  -34.5431938171   1.43765449524  \n",
       "3   -35.703163147   1.45068645477  \n",
       "4    -35.73462677   1.50421380997  "
      ]
     },
     "execution_count": 26,
     "metadata": {},
     "output_type": "execute_result"
    }
   ],
   "source": [
    "df_with_props.head()"
   ]
  },
  {
   "cell_type": "markdown",
   "metadata": {},
   "source": [
    "### Objects that don't have enough votes haven't been retired, so have to get properties elsewhere (Q: where?)"
   ]
  },
  {
   "cell_type": "code",
   "execution_count": 27,
   "metadata": {},
   "outputs": [
    {
     "data": {
      "text/html": [
       "<div>\n",
       "<style scoped>\n",
       "    .dataframe tbody tr th:only-of-type {\n",
       "        vertical-align: middle;\n",
       "    }\n",
       "\n",
       "    .dataframe tbody tr th {\n",
       "        vertical-align: top;\n",
       "    }\n",
       "\n",
       "    .dataframe thead th {\n",
       "        text-align: right;\n",
       "    }\n",
       "</style>\n",
       "<table border=\"1\" class=\"dataframe\">\n",
       "  <thead>\n",
       "    <tr style=\"text-align: right;\">\n",
       "      <th></th>\n",
       "      <th>name</th>\n",
       "      <th>counts</th>\n",
       "      <th># votes</th>\n",
       "      <th>% votes Galaxy</th>\n",
       "      <th>% votes Group of objects (Cluster)</th>\n",
       "      <th>% votes Something else/empty center</th>\n",
       "      <th>R</th>\n",
       "      <th>RA</th>\n",
       "      <th>DEC</th>\n",
       "      <th>G-I</th>\n",
       "    </tr>\n",
       "  </thead>\n",
       "  <tbody>\n",
       "    <tr>\n",
       "      <th>10</th>\n",
       "      <td>UDGcand_6896</td>\n",
       "      <td>{'Group of objects (Cluster)': 1}</td>\n",
       "      <td>1</td>\n",
       "      <td>0.0</td>\n",
       "      <td>100.0</td>\n",
       "      <td>0.0</td>\n",
       "      <td>NaN</td>\n",
       "      <td>NaN</td>\n",
       "      <td>NaN</td>\n",
       "      <td>NaN</td>\n",
       "    </tr>\n",
       "    <tr>\n",
       "      <th>21</th>\n",
       "      <td>UDGcand_6943</td>\n",
       "      <td>{'Group of objects (Cluster)': 1}</td>\n",
       "      <td>1</td>\n",
       "      <td>0.0</td>\n",
       "      <td>100.0</td>\n",
       "      <td>0.0</td>\n",
       "      <td>NaN</td>\n",
       "      <td>NaN</td>\n",
       "      <td>NaN</td>\n",
       "      <td>NaN</td>\n",
       "    </tr>\n",
       "    <tr>\n",
       "      <th>43</th>\n",
       "      <td>UDGcand_6915</td>\n",
       "      <td>{'Galaxy': 1}</td>\n",
       "      <td>1</td>\n",
       "      <td>100.0</td>\n",
       "      <td>0.0</td>\n",
       "      <td>0.0</td>\n",
       "      <td>NaN</td>\n",
       "      <td>NaN</td>\n",
       "      <td>NaN</td>\n",
       "      <td>NaN</td>\n",
       "    </tr>\n",
       "    <tr>\n",
       "      <th>175</th>\n",
       "      <td>UDGcand_6977</td>\n",
       "      <td>{'Galaxy': 1}</td>\n",
       "      <td>1</td>\n",
       "      <td>100.0</td>\n",
       "      <td>0.0</td>\n",
       "      <td>0.0</td>\n",
       "      <td>NaN</td>\n",
       "      <td>NaN</td>\n",
       "      <td>NaN</td>\n",
       "      <td>NaN</td>\n",
       "    </tr>\n",
       "    <tr>\n",
       "      <th>259</th>\n",
       "      <td>UDGcand_6882</td>\n",
       "      <td>{'Galaxy': 1}</td>\n",
       "      <td>1</td>\n",
       "      <td>100.0</td>\n",
       "      <td>0.0</td>\n",
       "      <td>0.0</td>\n",
       "      <td>NaN</td>\n",
       "      <td>NaN</td>\n",
       "      <td>NaN</td>\n",
       "      <td>NaN</td>\n",
       "    </tr>\n",
       "    <tr>\n",
       "      <th>...</th>\n",
       "      <td>...</td>\n",
       "      <td>...</td>\n",
       "      <td>...</td>\n",
       "      <td>...</td>\n",
       "      <td>...</td>\n",
       "      <td>...</td>\n",
       "      <td>...</td>\n",
       "      <td>...</td>\n",
       "      <td>...</td>\n",
       "      <td>...</td>\n",
       "    </tr>\n",
       "    <tr>\n",
       "      <th>6209</th>\n",
       "      <td>UDGcand_6877</td>\n",
       "      <td>{'Group of objects (Cluster)': 1}</td>\n",
       "      <td>1</td>\n",
       "      <td>0.0</td>\n",
       "      <td>100.0</td>\n",
       "      <td>0.0</td>\n",
       "      <td>NaN</td>\n",
       "      <td>NaN</td>\n",
       "      <td>NaN</td>\n",
       "      <td>NaN</td>\n",
       "    </tr>\n",
       "    <tr>\n",
       "      <th>6306</th>\n",
       "      <td>UDGcand_7017</td>\n",
       "      <td>{'Galaxy': 2}</td>\n",
       "      <td>2</td>\n",
       "      <td>100.0</td>\n",
       "      <td>0.0</td>\n",
       "      <td>0.0</td>\n",
       "      <td>NaN</td>\n",
       "      <td>NaN</td>\n",
       "      <td>NaN</td>\n",
       "      <td>NaN</td>\n",
       "    </tr>\n",
       "    <tr>\n",
       "      <th>6307</th>\n",
       "      <td>UDGcand_6986</td>\n",
       "      <td>{'Galaxy': 1}</td>\n",
       "      <td>1</td>\n",
       "      <td>100.0</td>\n",
       "      <td>0.0</td>\n",
       "      <td>0.0</td>\n",
       "      <td>NaN</td>\n",
       "      <td>NaN</td>\n",
       "      <td>NaN</td>\n",
       "      <td>NaN</td>\n",
       "    </tr>\n",
       "    <tr>\n",
       "      <th>6348</th>\n",
       "      <td>UDGcand_6931</td>\n",
       "      <td>{'Group of objects (Cluster)': 2}</td>\n",
       "      <td>2</td>\n",
       "      <td>0.0</td>\n",
       "      <td>100.0</td>\n",
       "      <td>0.0</td>\n",
       "      <td>NaN</td>\n",
       "      <td>NaN</td>\n",
       "      <td>NaN</td>\n",
       "      <td>NaN</td>\n",
       "    </tr>\n",
       "    <tr>\n",
       "      <th>6474</th>\n",
       "      <td>UDGcand_6925</td>\n",
       "      <td>{'Group of objects (Cluster)': 1}</td>\n",
       "      <td>1</td>\n",
       "      <td>0.0</td>\n",
       "      <td>100.0</td>\n",
       "      <td>0.0</td>\n",
       "      <td>NaN</td>\n",
       "      <td>NaN</td>\n",
       "      <td>NaN</td>\n",
       "      <td>NaN</td>\n",
       "    </tr>\n",
       "  </tbody>\n",
       "</table>\n",
       "<p>122 rows × 10 columns</p>\n",
       "</div>"
      ],
      "text/plain": [
       "              name                             counts  # votes  \\\n",
       "10    UDGcand_6896  {'Group of objects (Cluster)': 1}        1   \n",
       "21    UDGcand_6943  {'Group of objects (Cluster)': 1}        1   \n",
       "43    UDGcand_6915                      {'Galaxy': 1}        1   \n",
       "175   UDGcand_6977                      {'Galaxy': 1}        1   \n",
       "259   UDGcand_6882                      {'Galaxy': 1}        1   \n",
       "...            ...                                ...      ...   \n",
       "6209  UDGcand_6877  {'Group of objects (Cluster)': 1}        1   \n",
       "6306  UDGcand_7017                      {'Galaxy': 2}        2   \n",
       "6307  UDGcand_6986                      {'Galaxy': 1}        1   \n",
       "6348  UDGcand_6931  {'Group of objects (Cluster)': 2}        2   \n",
       "6474  UDGcand_6925  {'Group of objects (Cluster)': 1}        1   \n",
       "\n",
       "      % votes Galaxy  % votes Group of objects (Cluster)  \\\n",
       "10               0.0                               100.0   \n",
       "21               0.0                               100.0   \n",
       "43             100.0                                 0.0   \n",
       "175            100.0                                 0.0   \n",
       "259            100.0                                 0.0   \n",
       "...              ...                                 ...   \n",
       "6209             0.0                               100.0   \n",
       "6306           100.0                                 0.0   \n",
       "6307           100.0                                 0.0   \n",
       "6348             0.0                               100.0   \n",
       "6474             0.0                               100.0   \n",
       "\n",
       "      % votes Something else/empty center    R   RA  DEC  G-I  \n",
       "10                                    0.0  NaN  NaN  NaN  NaN  \n",
       "21                                    0.0  NaN  NaN  NaN  NaN  \n",
       "43                                    0.0  NaN  NaN  NaN  NaN  \n",
       "175                                   0.0  NaN  NaN  NaN  NaN  \n",
       "259                                   0.0  NaN  NaN  NaN  NaN  \n",
       "...                                   ...  ...  ...  ...  ...  \n",
       "6209                                  0.0  NaN  NaN  NaN  NaN  \n",
       "6306                                  0.0  NaN  NaN  NaN  NaN  \n",
       "6307                                  0.0  NaN  NaN  NaN  NaN  \n",
       "6348                                  0.0  NaN  NaN  NaN  NaN  \n",
       "6474                                  0.0  NaN  NaN  NaN  NaN  \n",
       "\n",
       "[122 rows x 10 columns]"
      ]
     },
     "execution_count": 27,
     "metadata": {},
     "output_type": "execute_result"
    }
   ],
   "source": [
    "# objects that aren't retired don't have properties in their subject_data\n",
    "df_with_props[df_with_props['RA'].isnull()]"
   ]
  },
  {
   "cell_type": "markdown",
   "metadata": {},
   "source": [
    "---"
   ]
  },
  {
   "cell_type": "code",
   "execution_count": 28,
   "metadata": {},
   "outputs": [
    {
     "data": {
      "text/html": [
       "<div>\n",
       "<style scoped>\n",
       "    .dataframe tbody tr th:only-of-type {\n",
       "        vertical-align: middle;\n",
       "    }\n",
       "\n",
       "    .dataframe tbody tr th {\n",
       "        vertical-align: top;\n",
       "    }\n",
       "\n",
       "    .dataframe thead th {\n",
       "        text-align: right;\n",
       "    }\n",
       "</style>\n",
       "<table border=\"1\" class=\"dataframe\">\n",
       "  <thead>\n",
       "    <tr style=\"text-align: right;\">\n",
       "      <th></th>\n",
       "      <th># votes</th>\n",
       "      <th>% votes Galaxy</th>\n",
       "      <th>% votes Group of objects (Cluster)</th>\n",
       "      <th>% votes Something else/empty center</th>\n",
       "    </tr>\n",
       "  </thead>\n",
       "  <tbody>\n",
       "    <tr>\n",
       "      <th>mean</th>\n",
       "      <td>15.289944</td>\n",
       "      <td>50.608883</td>\n",
       "      <td>34.54673</td>\n",
       "      <td>14.800895</td>\n",
       "    </tr>\n",
       "  </tbody>\n",
       "</table>\n",
       "</div>"
      ],
      "text/plain": [
       "        # votes  % votes Galaxy  % votes Group of objects (Cluster)  \\\n",
       "mean  15.289944       50.608883                            34.54673   \n",
       "\n",
       "      % votes Something else/empty center  \n",
       "mean                            14.800895  "
      ]
     },
     "execution_count": 28,
     "metadata": {},
     "output_type": "execute_result"
    }
   ],
   "source": [
    "df_task0.sort_values(['# votes'], ascending=False).agg(['mean'])"
   ]
  },
  {
   "cell_type": "markdown",
   "metadata": {},
   "source": [
    "---"
   ]
  },
  {
   "cell_type": "markdown",
   "metadata": {},
   "source": [
    "### Group by filename for inspection:"
   ]
  },
  {
   "cell_type": "code",
   "execution_count": 29,
   "metadata": {},
   "outputs": [],
   "source": [
    "gr_by_name = df.groupby(['Filename'])\n",
    "groups = list(gr_by_name.groups)\n",
    "\n",
    "# gr_name.get_group(groups[1])"
   ]
  },
  {
   "cell_type": "markdown",
   "metadata": {},
   "source": [
    "- Each object was supposed to have a target of ~15 votes. Inspect the object with the most votes to see what's up."
   ]
  },
  {
   "cell_type": "code",
   "execution_count": 30,
   "metadata": {},
   "outputs": [],
   "source": [
    "sorted_by_votes = df_task0.sort_values(['# votes'], ascending=False)\n",
    "most_voted = sorted_by_votes.iloc[0]"
   ]
  },
  {
   "cell_type": "code",
   "execution_count": 31,
   "metadata": {
    "scrolled": false
   },
   "outputs": [],
   "source": [
    "most_voted_group = gr_by_name.get_group('{}_insp.png'.format(most_voted['name']))"
   ]
  },
  {
   "cell_type": "code",
   "execution_count": 32,
   "metadata": {},
   "outputs": [
    {
     "data": {
      "text/plain": [
       "{'retired': False,\n",
       " 'selected_at': '2020-10-22T21:08:47.295Z',\n",
       " 'already_seen': False,\n",
       " 'selection_state': 'normal',\n",
       " 'finished_workflow': False,\n",
       " 'user_has_finished_workflow': False}"
      ]
     },
     "execution_count": 32,
     "metadata": {},
     "output_type": "execute_result"
    }
   ],
   "source": [
    "most_voted_group['metadata'].iloc[16]['subject_selection_state']"
   ]
  },
  {
   "cell_type": "markdown",
   "metadata": {},
   "source": [
    "# Inspect vote count per object"
   ]
  },
  {
   "cell_type": "markdown",
   "metadata": {},
   "source": [
    "- Extract vote count:"
   ]
  },
  {
   "cell_type": "code",
   "execution_count": 33,
   "metadata": {},
   "outputs": [],
   "source": [
    "vote_counts = list(df_task0['# votes'])"
   ]
  },
  {
   "cell_type": "markdown",
   "metadata": {},
   "source": [
    "- Plot histogram of votes per object:"
   ]
  },
  {
   "cell_type": "code",
   "execution_count": 34,
   "metadata": {},
   "outputs": [
    {
     "data": {
      "image/png": "[encoded data removed]",
      "text/plain": [
       "<Figure size 576x360 with 1 Axes>"
      ]
     },
     "metadata": {
      "needs_background": "light"
     },
     "output_type": "display_data"
    }
   ],
   "source": [
    "fig, fr = plt.subplots(figsize=(8,5))\n",
    "\n",
    "fr.hist(vote_counts, bins=15)\n",
    "fr.grid(alpha=0.2, which='both')\n",
    "fr.update({\n",
    "    'xlabel': '# votes',\n",
    "    'ylabel': '# objects',\n",
    "    'title': 'Distribution of votes per object',\n",
    "})\n",
    "\n",
    "plt.show()"
   ]
  },
  {
   "cell_type": "markdown",
   "metadata": {},
   "source": [
    "- Extract the occurrence rate of every `# votes` value:"
   ]
  },
  {
   "cell_type": "code",
   "execution_count": 35,
   "metadata": {},
   "outputs": [],
   "source": [
    "def count_dict(entries):\n",
    "    '''\n",
    "    @params: entries: list of vals\n",
    "    @returns: dictionary where the keys are the vals, and the values are the number of times each val occurs in entries\n",
    "    '''\n",
    "    count_dict = {}\n",
    "    \n",
    "    for key in set(entries):\n",
    "        count_dict[key] = entries.count(key)\n",
    "        \n",
    "    return count_dict"
   ]
  },
  {
   "cell_type": "code",
   "execution_count": 36,
   "metadata": {},
   "outputs": [
    {
     "data": {
      "text/plain": [
       "{1: 110,\n",
       " 2: 12,\n",
       " 9: 3,\n",
       " 10: 16,\n",
       " 11: 65,\n",
       " 12: 63,\n",
       " 13: 86,\n",
       " 14: 361,\n",
       " 15: 1735,\n",
       " 16: 3483,\n",
       " 17: 496,\n",
       " 18: 44,\n",
       " 19: 4,\n",
       " 20: 3,\n",
       " 21: 3}"
      ]
     },
     "execution_count": 36,
     "metadata": {},
     "output_type": "execute_result"
    }
   ],
   "source": [
    "count_dict(vote_counts)  # uncomment to inspect vote count occurrence rate"
   ]
  },
  {
   "cell_type": "code",
   "execution_count": 37,
   "metadata": {},
   "outputs": [
    {
     "data": {
      "text/plain": [
       "'UDGcand_317'"
      ]
     },
     "execution_count": 37,
     "metadata": {},
     "output_type": "execute_result"
    }
   ],
   "source": [
    "sorted_by_votes = df_task0.sort_values(['# votes'], ascending=False)\n",
    "most_voted = sorted_by_votes.iloc[0]\n",
    "most_voted['name']"
   ]
  }
 ],
 "metadata": {
  "kernelspec": {
   "display_name": "Python 3",
   "language": "python",
   "name": "python3"
  },
  "language_info": {
   "codemirror_mode": {
    "name": "ipython",
    "version": 3
   },
   "file_extension": ".py",
   "mimetype": "text/x-python",
   "name": "python",
   "nbconvert_exporter": "python",
   "pygments_lexer": "ipython3",
   "version": "3.9.0"
  }
 },
 "nbformat": 4,
 "nbformat_minor": 4
}
