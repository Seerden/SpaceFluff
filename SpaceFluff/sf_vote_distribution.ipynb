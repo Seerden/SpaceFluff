{
 "cells": [
  {
   "cell_type": "code",
   "execution_count": 1,
   "metadata": {},
   "outputs": [],
   "source": [
    "import json\n",
    "import numpy as np\n",
    "import pandas as pd\n",
    "import matplotlib.pyplot as plt\n",
    "%matplotlib inline"
   ]
  },
  {
   "cell_type": "code",
   "execution_count": 21,
   "metadata": {},
   "outputs": [],
   "source": [
    "# load classifications\n",
    "df = pd.read_csv('./zooniverse_exports/classify-classifications.csv', delimiter=\",\")"
   ]
  },
  {
   "cell_type": "code",
   "execution_count": 3,
   "metadata": {},
   "outputs": [
    {
     "name": "stdout",
     "output_type": "stream",
     "text": [
      "Index(['classification_id', 'user_name', 'user_id', 'user_ip', 'workflow_id',\n",
      "       'workflow_name', 'workflow_version', 'created_at', 'gold_standard',\n",
      "       'expert', 'metadata', 'annotations', 'subject_data', 'subject_ids'],\n",
      "      dtype='object')\n"
     ]
    }
   ],
   "source": [
    "print(df.keys())"
   ]
  },
  {
   "cell_type": "code",
   "execution_count": 29,
   "metadata": {},
   "outputs": [
    {
     "data": {
      "text/plain": [
       "'[{\"task\":\"T0\",\"task_label\":\"Look at the very center of the image: do you see a single galaxy or a group of far away objects? \",\"value\":\"Galaxy\"},{\"task\":\"T1\",\"task_label\":\"Is the galaxy fluffy or is it bright?\",\"value\":\"Fluffy\"}]'"
      ]
     },
     "execution_count": 29,
     "metadata": {},
     "output_type": "execute_result"
    }
   ],
   "source": [
    "firstEntry = df.loc[0]\n",
    "firstEntry['subject_data']\n",
    "firstEntry['annotations']"
   ]
  },
  {
   "cell_type": "code",
   "execution_count": 4,
   "metadata": {},
   "outputs": [],
   "source": [
    "def parse_task(row):\n",
    "    loads = json.loads(row)\n",
    "    return loads\n",
    "\n",
    "def getFilename(row):\n",
    "    '''\n",
    "    extract the 'Filename'|'image'|'IMAGE' field from the subject_data column in every row\n",
    "    '''\n",
    "    keys = list(row.values())[0].keys()\n",
    "    accessKey = 'Filename' if 'Filename' in keys else 'image' if 'image' in keys else 'IMAGE' if 'IMAGE' in keys else None\n",
    "    \n",
    "    if accessKey:\n",
    "        return list(row.values())[0][accessKey]\n",
    "    \n",
    "def extract_task(task_index, row):\n",
    "    try:\n",
    "        return row[task_index]['value']\n",
    "    except: \n",
    "        return"
   ]
  },
  {
   "cell_type": "code",
   "execution_count": 5,
   "metadata": {},
   "outputs": [],
   "source": [
    "# json parse 'annotations' column \n",
    "df['annotations'] = df['annotations'].apply(parse_task)\n",
    "df['subject_data'] = df['subject_data'].apply(json.loads)\n",
    "\n",
    "df['Filename'] = df['subject_data'].apply(getFilename)\n",
    "\n",
    "df['Task0'] = df['annotations'].apply(lambda x: extract_task(0, x))\n",
    "df['Task1'] = df['annotations'].apply(lambda x: extract_task(1, x))"
   ]
  },
  {
   "cell_type": "markdown",
   "metadata": {},
   "source": [
    "## Goal of this notebook:\n",
    "\n",
    "- For every unique object in the dataset, extract the following fields:\n",
    "    - name,\n",
    "    - 'task 0' value (recall 'task 0' asks if the users sees a galaxy or a group of objects"
   ]
  },
  {
   "cell_type": "code",
   "execution_count": 20,
   "metadata": {},
   "outputs": [],
   "source": [
    "def percentageVotesForAnswer(counts, answer):\n",
    "    '''\n",
    "    `counts` is a df column like {galaxy: 15, group of objects (cluster): 10, something else/empty center: 2}\n",
    "    `answer` is one of the keys of counts\n",
    "    '''\n",
    "    \n",
    "    totalVotes = sum(counts.values())\n",
    "    \n",
    "    if not answer in counts.keys():\n",
    "        return 0\n",
    "    \n",
    "    votesForAnswer = counts[answer]\n",
    "    \n",
    "    return round(100*votesForAnswer/totalVotes,0)"
   ]
  },
  {
   "cell_type": "code",
   "execution_count": 8,
   "metadata": {},
   "outputs": [],
   "source": [
    "# extract unique object names that resulted from another notebook \n",
    "candidate_names_classify = np.loadtxt('./sf_objectImageStrings__classification-classify.txt', dtype=str)"
   ]
  },
  {
   "cell_type": "code",
   "execution_count": 9,
   "metadata": {},
   "outputs": [],
   "source": [
    "# group df by filename, so that each group contains only rows belonging to that object\n",
    "gr = df.groupby('Filename')\n",
    "\n",
    "# create empty list to push results to\n",
    "task0Values = []"
   ]
  },
  {
   "cell_type": "code",
   "execution_count": 10,
   "metadata": {},
   "outputs": [],
   "source": [
    "# loop over every group created above to accumulate 'task 0' votes ('galaxy'/'group of objects'/'something else')\n",
    "for objectName in candidate_names_classify:\n",
    "    task0 = gr.get_group(objectName)['Task0']\n",
    "    \n",
    "    counts = task0.value_counts().to_dict()\n",
    "    \n",
    "    countObj = {\n",
    "        \"name\": objectName,\n",
    "        \"counts\": counts\n",
    "    }\n",
    "    \n",
    "    task0Values.append(countObj)"
   ]
  },
  {
   "cell_type": "code",
   "execution_count": 11,
   "metadata": {},
   "outputs": [
    {
     "data": {
      "text/html": [
       "<div>\n",
       "<style scoped>\n",
       "    .dataframe tbody tr th:only-of-type {\n",
       "        vertical-align: middle;\n",
       "    }\n",
       "\n",
       "    .dataframe tbody tr th {\n",
       "        vertical-align: top;\n",
       "    }\n",
       "\n",
       "    .dataframe thead th {\n",
       "        text-align: right;\n",
       "    }\n",
       "</style>\n",
       "<table border=\"1\" class=\"dataframe\">\n",
       "  <thead>\n",
       "    <tr style=\"text-align: right;\">\n",
       "      <th></th>\n",
       "      <th>name</th>\n",
       "      <th>counts</th>\n",
       "    </tr>\n",
       "  </thead>\n",
       "  <tbody>\n",
       "    <tr>\n",
       "      <th>0</th>\n",
       "      <td>UDGcand_1541_insp.png</td>\n",
       "      <td>{'Galaxy': 15}</td>\n",
       "    </tr>\n",
       "    <tr>\n",
       "      <th>1</th>\n",
       "      <td>UDGcand_5603_insp.png</td>\n",
       "      <td>{'Group of objects (Cluster)': 11, 'Galaxy': 4}</td>\n",
       "    </tr>\n",
       "    <tr>\n",
       "      <th>2</th>\n",
       "      <td>UDGcand_6077_insp.png</td>\n",
       "      <td>{'Group of objects (Cluster)': 17}</td>\n",
       "    </tr>\n",
       "    <tr>\n",
       "      <th>3</th>\n",
       "      <td>UDGcand_5840_insp.png</td>\n",
       "      <td>{'Something else/empty center': 14}</td>\n",
       "    </tr>\n",
       "    <tr>\n",
       "      <th>4</th>\n",
       "      <td>UDGcand_5600_insp.png</td>\n",
       "      <td>{'Something else/empty center': 16}</td>\n",
       "    </tr>\n",
       "  </tbody>\n",
       "</table>\n",
       "</div>"
      ],
      "text/plain": [
       "                    name                                           counts\n",
       "0  UDGcand_1541_insp.png                                   {'Galaxy': 15}\n",
       "1  UDGcand_5603_insp.png  {'Group of objects (Cluster)': 11, 'Galaxy': 4}\n",
       "2  UDGcand_6077_insp.png               {'Group of objects (Cluster)': 17}\n",
       "3  UDGcand_5840_insp.png              {'Something else/empty center': 14}\n",
       "4  UDGcand_5600_insp.png              {'Something else/empty center': 16}"
      ]
     },
     "execution_count": 11,
     "metadata": {},
     "output_type": "execute_result"
    }
   ],
   "source": [
    "df_task0 = pd.DataFrame(task0Values)\n",
    "df_task0.head()"
   ]
  },
  {
   "cell_type": "code",
   "execution_count": 12,
   "metadata": {},
   "outputs": [],
   "source": [
    "answer_types = ['Galaxy', 'Group of objects (Cluster)', 'Something else/empty center']\n",
    "\n",
    "df_task0['# votes'] = df_task0['counts'].apply(lambda x: sum(x.values()))\n",
    "\n",
    "for ans_type in answer_types:\n",
    "    df_task0['% votes {}'.format(ans_type)] = df_task0['counts'].apply(\n",
    "        lambda x: percentageVotesForAnswer(x, ans_type)\n",
    "    )\n"
   ]
  },
  {
   "cell_type": "code",
   "execution_count": 13,
   "metadata": {},
   "outputs": [],
   "source": [
    "mostly_something = df_task0[df_task0['% votes Something else/empty center'] < 30]\n",
    "mostly_nothing = df_task0[df_task0['% votes Something else/empty center'] > 70]"
   ]
  },
  {
   "cell_type": "code",
   "execution_count": 14,
   "metadata": {},
   "outputs": [],
   "source": [
    "# extract names of objects where people votes mostly 'Something else/empty center' with a 50% threshold (@todo: refine!)\n",
    "probably_not_galaxy = list(map(lambda x: x[:-9], list(mostly_nothing['name'])))\n",
    "probably_galaxy = list(map(lambda x: x[:-9], list(mostly_something['name'])))"
   ]
  },
  {
   "cell_type": "code",
   "execution_count": 15,
   "metadata": {},
   "outputs": [],
   "source": [
    "# extract catalogue targets from other notebook\n",
    "ct = np.loadtxt('../aku/sf_catalogue_targets.txt', dtype='str')\n",
    "\n",
    "differing_answers = list(set(ct) & set(probably_not_galaxy))\n",
    "corresponding_answers = list(set(ct) & set(probably_galaxy))"
   ]
  },
  {
   "cell_type": "code",
   "execution_count": 16,
   "metadata": {},
   "outputs": [
    {
     "data": {
      "text/plain": [
       "107"
      ]
     },
     "execution_count": 16,
     "metadata": {},
     "output_type": "execute_result"
    }
   ],
   "source": [
    "len(differing_answers), len(corresponding_answers)\n",
    "\n",
    "len(ct) - len(differing_answers) - len(corresponding_answers)"
   ]
  },
  {
   "cell_type": "code",
   "execution_count": 17,
   "metadata": {},
   "outputs": [],
   "source": [
    "remaining_objects = np.setdiff1d(np.setdiff1d(ct, differing_answers), corresponding_answers)"
   ]
  },
  {
   "cell_type": "code",
   "execution_count": 18,
   "metadata": {},
   "outputs": [
    {
     "data": {
      "text/html": [
       "<div>\n",
       "<style scoped>\n",
       "    .dataframe tbody tr th:only-of-type {\n",
       "        vertical-align: middle;\n",
       "    }\n",
       "\n",
       "    .dataframe tbody tr th {\n",
       "        vertical-align: top;\n",
       "    }\n",
       "\n",
       "    .dataframe thead th {\n",
       "        text-align: right;\n",
       "    }\n",
       "</style>\n",
       "<table border=\"1\" class=\"dataframe\">\n",
       "  <thead>\n",
       "    <tr style=\"text-align: right;\">\n",
       "      <th></th>\n",
       "      <th>name</th>\n",
       "      <th>counts</th>\n",
       "      <th># votes</th>\n",
       "      <th>% votes Galaxy</th>\n",
       "      <th>% votes Group of objects (Cluster)</th>\n",
       "      <th>% votes Something else/empty center</th>\n",
       "    </tr>\n",
       "  </thead>\n",
       "  <tbody>\n",
       "    <tr>\n",
       "      <th>122</th>\n",
       "      <td>UDGcand_2367</td>\n",
       "      <td>{'Something else/empty center': 8, 'Galaxy': 5...</td>\n",
       "      <td>14</td>\n",
       "      <td>36.0</td>\n",
       "      <td>7.0</td>\n",
       "      <td>57.0</td>\n",
       "    </tr>\n",
       "    <tr>\n",
       "      <th>203</th>\n",
       "      <td>UDGcand_7158</td>\n",
       "      <td>{'Something else/empty center': 7, 'Group of o...</td>\n",
       "      <td>16</td>\n",
       "      <td>25.0</td>\n",
       "      <td>31.0</td>\n",
       "      <td>44.0</td>\n",
       "    </tr>\n",
       "    <tr>\n",
       "      <th>263</th>\n",
       "      <td>UDGcand_4474</td>\n",
       "      <td>{'Something else/empty center': 6, 'Group of o...</td>\n",
       "      <td>15</td>\n",
       "      <td>27.0</td>\n",
       "      <td>33.0</td>\n",
       "      <td>40.0</td>\n",
       "    </tr>\n",
       "    <tr>\n",
       "      <th>275</th>\n",
       "      <td>UDGcand_197</td>\n",
       "      <td>{'Galaxy': 8, 'Something else/empty center': 5...</td>\n",
       "      <td>14</td>\n",
       "      <td>57.0</td>\n",
       "      <td>7.0</td>\n",
       "      <td>36.0</td>\n",
       "    </tr>\n",
       "    <tr>\n",
       "      <th>387</th>\n",
       "      <td>UDGcand_1765</td>\n",
       "      <td>{'Galaxy': 7, 'Something else/empty center': 6...</td>\n",
       "      <td>17</td>\n",
       "      <td>41.0</td>\n",
       "      <td>24.0</td>\n",
       "      <td>35.0</td>\n",
       "    </tr>\n",
       "    <tr>\n",
       "      <th>...</th>\n",
       "      <td>...</td>\n",
       "      <td>...</td>\n",
       "      <td>...</td>\n",
       "      <td>...</td>\n",
       "      <td>...</td>\n",
       "      <td>...</td>\n",
       "    </tr>\n",
       "    <tr>\n",
       "      <th>6014</th>\n",
       "      <td>UDGcand_5097</td>\n",
       "      <td>{'Something else/empty center': 11, 'Group of ...</td>\n",
       "      <td>16</td>\n",
       "      <td>12.0</td>\n",
       "      <td>19.0</td>\n",
       "      <td>69.0</td>\n",
       "    </tr>\n",
       "    <tr>\n",
       "      <th>6022</th>\n",
       "      <td>UDGcand_6339</td>\n",
       "      <td>{'Something else/empty center': 10, 'Galaxy': ...</td>\n",
       "      <td>16</td>\n",
       "      <td>19.0</td>\n",
       "      <td>19.0</td>\n",
       "      <td>62.0</td>\n",
       "    </tr>\n",
       "    <tr>\n",
       "      <th>6086</th>\n",
       "      <td>UDGcand_949</td>\n",
       "      <td>{'Something else/empty center': 8, 'Galaxy': 4...</td>\n",
       "      <td>16</td>\n",
       "      <td>25.0</td>\n",
       "      <td>25.0</td>\n",
       "      <td>50.0</td>\n",
       "    </tr>\n",
       "    <tr>\n",
       "      <th>6221</th>\n",
       "      <td>UDGcand_6648</td>\n",
       "      <td>{'Something else/empty center': 8, 'Galaxy': 7...</td>\n",
       "      <td>16</td>\n",
       "      <td>44.0</td>\n",
       "      <td>6.0</td>\n",
       "      <td>50.0</td>\n",
       "    </tr>\n",
       "    <tr>\n",
       "      <th>6309</th>\n",
       "      <td>UDGcand_5080</td>\n",
       "      <td>{'Something else/empty center': 11, 'Group of ...</td>\n",
       "      <td>16</td>\n",
       "      <td>12.0</td>\n",
       "      <td>19.0</td>\n",
       "      <td>69.0</td>\n",
       "    </tr>\n",
       "  </tbody>\n",
       "</table>\n",
       "<p>80 rows × 6 columns</p>\n",
       "</div>"
      ],
      "text/plain": [
       "              name                                             counts  \\\n",
       "122   UDGcand_2367  {'Something else/empty center': 8, 'Galaxy': 5...   \n",
       "203   UDGcand_7158  {'Something else/empty center': 7, 'Group of o...   \n",
       "263   UDGcand_4474  {'Something else/empty center': 6, 'Group of o...   \n",
       "275    UDGcand_197  {'Galaxy': 8, 'Something else/empty center': 5...   \n",
       "387   UDGcand_1765  {'Galaxy': 7, 'Something else/empty center': 6...   \n",
       "...            ...                                                ...   \n",
       "6014  UDGcand_5097  {'Something else/empty center': 11, 'Group of ...   \n",
       "6022  UDGcand_6339  {'Something else/empty center': 10, 'Galaxy': ...   \n",
       "6086   UDGcand_949  {'Something else/empty center': 8, 'Galaxy': 4...   \n",
       "6221  UDGcand_6648  {'Something else/empty center': 8, 'Galaxy': 7...   \n",
       "6309  UDGcand_5080  {'Something else/empty center': 11, 'Group of ...   \n",
       "\n",
       "      # votes  % votes Galaxy  % votes Group of objects (Cluster)  \\\n",
       "122        14            36.0                                 7.0   \n",
       "203        16            25.0                                31.0   \n",
       "263        15            27.0                                33.0   \n",
       "275        14            57.0                                 7.0   \n",
       "387        17            41.0                                24.0   \n",
       "...       ...             ...                                 ...   \n",
       "6014       16            12.0                                19.0   \n",
       "6022       16            19.0                                19.0   \n",
       "6086       16            25.0                                25.0   \n",
       "6221       16            44.0                                 6.0   \n",
       "6309       16            12.0                                19.0   \n",
       "\n",
       "      % votes Something else/empty center  \n",
       "122                                  57.0  \n",
       "203                                  44.0  \n",
       "263                                  40.0  \n",
       "275                                  36.0  \n",
       "387                                  35.0  \n",
       "...                                   ...  \n",
       "6014                                 69.0  \n",
       "6022                                 62.0  \n",
       "6086                                 50.0  \n",
       "6221                                 50.0  \n",
       "6309                                 69.0  \n",
       "\n",
       "[80 rows x 6 columns]"
      ]
     },
     "execution_count": 18,
     "metadata": {},
     "output_type": "execute_result"
    }
   ],
   "source": [
    "# slice df_task0 to see votes for objects that are included in the catalogue as potential UDGs\n",
    "df_task0['name'] = df_task0['name'].apply(lambda x: x[:-9])\n",
    "df_task0[df_task0['name'].isin(remaining_objects)]"
   ]
  },
  {
   "cell_type": "code",
   "execution_count": 19,
   "metadata": {},
   "outputs": [
    {
     "data": {
      "text/plain": [
       "(sum    100871\n",
       " Name: # votes, dtype: int64,\n",
       " 103708)"
      ]
     },
     "execution_count": 19,
     "metadata": {},
     "output_type": "execute_result"
    }
   ],
   "source": [
    "df_task0['# votes'].agg(['sum']), df.shape[0]"
   ]
  }
 ],
 "metadata": {
  "kernelspec": {
   "display_name": "Python 3",
   "language": "python",
   "name": "python3"
  },
  "language_info": {
   "codemirror_mode": {
    "name": "ipython",
    "version": 3
   },
   "file_extension": ".py",
   "mimetype": "text/x-python",
   "name": "python",
   "nbconvert_exporter": "python",
   "pygments_lexer": "ipython3",
   "version": "3.9.0"
  }
 },
 "nbformat": 4,
 "nbformat_minor": 4
}
