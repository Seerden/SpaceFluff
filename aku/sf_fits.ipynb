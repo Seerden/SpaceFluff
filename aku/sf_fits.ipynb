{
 "cells": [
  {
   "cell_type": "code",
   "execution_count": 2,
   "metadata": {},
   "outputs": [],
   "source": [
    "from astropy.io import fits\n",
    "import numpy as np"
   ]
  },
  {
   "cell_type": "markdown",
   "metadata": {},
   "source": [
    "### FITS file from Aku"
   ]
  },
  {
   "cell_type": "markdown",
   "metadata": {},
   "source": [
    "Extract targets whose names contain `UDGcand`, assuming they correspond to the `UDGcand_*` targets as used in the `classify-*` files from SpaceFluff. \n",
    "\n",
    "---\n",
    "\n",
    "`@note` _Verify correspondence of names! Don't blindly assume they correspond._"
   ]
  },
  {
   "cell_type": "code",
   "execution_count": 3,
   "metadata": {},
   "outputs": [],
   "source": [
    "hdul = fits.open('./FDSDWARF_LSB.fits')\n",
    "header = hdul[0].header\n",
    "data = hdul[1].data"
   ]
  },
  {
   "cell_type": "code",
   "execution_count": 4,
   "metadata": {},
   "outputs": [],
   "source": [
    "# among the FITS file targets, there are a number of UDGcand_* entries, \n",
    "#   which I assume match UDGCand_* targets as designated in the SpaceFluff .csv files\n",
    "targets = [d['target'] for d in data if 'UDGcand' in d['target']]"
   ]
  },
  {
   "cell_type": "code",
   "execution_count": 7,
   "metadata": {},
   "outputs": [],
   "source": [
    "# # save target names to txt file for later comparison to classification votes\n",
    "# np.savetxt('sf_catalogue_targets.txt', targets, delimiter=',', fmt=\"%s\")"
   ]
  },
  {
   "cell_type": "markdown",
   "metadata": {},
   "source": [
    "### In notebook `sf_12-04-2021`, I extracted a list of unique target names from `classify-classifications.csv`. "
   ]
  },
  {
   "cell_type": "markdown",
   "metadata": {},
   "source": [
    "`@note` _Don't assume the other classification files used the exact same set of targets (presumably so, but verify!)_"
   ]
  },
  {
   "cell_type": "code",
   "execution_count": 44,
   "metadata": {},
   "outputs": [],
   "source": [
    "candidate_names_classify = np.loadtxt('../SpaceFluff/sf_candidate_names__classification-classify.txt', dtype=str)"
   ]
  },
  {
   "cell_type": "code",
   "execution_count": 46,
   "metadata": {},
   "outputs": [
    {
     "data": {
      "text/plain": [
       "238"
      ]
     },
     "execution_count": 46,
     "metadata": {},
     "output_type": "execute_result"
    }
   ],
   "source": [
    "# find the intersection of the targets from the .FITS file and the targets from `classify_classifications.csv`\n",
    "intersecting_names = list(set(targets) & set(candidate_names_classify))\n",
    "len(intersecting_names)"
   ]
  }
 ],
 "metadata": {
  "kernelspec": {
   "display_name": "Python 3",
   "language": "python",
   "name": "python3"
  },
  "language_info": {
   "codemirror_mode": {
    "name": "ipython",
    "version": 3
   },
   "file_extension": ".py",
   "mimetype": "text/x-python",
   "name": "python",
   "nbconvert_exporter": "python",
   "pygments_lexer": "ipython3",
   "version": "3.9.0"
  }
 },
 "nbformat": 4,
 "nbformat_minor": 4
}
