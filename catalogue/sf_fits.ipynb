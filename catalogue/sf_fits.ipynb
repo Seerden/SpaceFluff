{
 "cells": [
  {
   "cell_type": "markdown",
   "metadata": {},
   "source": [
    "### Info\n",
    "We will use the likely ground truth catalogue (`FDSDWARF_LSB`) and the unfiltered set of objects from which this catalogue is derived (`LSBS_no_par_sel`):\n",
    "- `LSBS_no_par_sel` contains a number of objects, including many of the objects used in SpaceFluff.\n",
    "- `FDSDWARF_LSB` contains the objects in the likely ground truth catalogue.\n",
    "\n",
    "### Goal\n",
    "The goal of this notebook is to extract the properties (color, surface brightness, effective radius, etc.) of all the objects present in the catalogue, so we can attach them to our SpaceFluff data for analysis. We also want to extract (the names of) the objects thought to be LSB/UDG Fornax cluster members, so we can easily query these objects.\n",
    "\n",
    "Specifically, we \n",
    "- extract the objects, with their name and all the properties we can extract from the .fits files, to `./sf_spacefluff_object_data.csv`\n",
    "- extract the list of names of objects in the likely ground truth (LGT) catalogue to `sf_catalogue_targets.txt`\n",
    "\n",
    "### Findings\n",
    "\n",
    "In this notebook, we'll come to find out that:\n",
    "- the object names (e.g. 'UDGcand_102') from the catalogue(s) match those used in SpaceFluff, so we can use the objects' names as handles to compare. Alternatively, coordinates (RA/DEC) also be used.\n",
    "- the two catalogues mentioned above find the same object properties (color, concentration, effective radius, etc.), so it doesn't matter from which of the two we extract the properties. There are a few parameters present in each of the catalogues that aren't in the other, and sometimes the names differ (e.g. `PA` vs `pos_angle`). The only relevant difference for us is the presence of a surface brightness (`mue_r`, $\\mu_{e,r}$) in one catalogue. We need this for our analysis."
   ]
  },
  {
   "cell_type": "code",
   "execution_count": 1,
   "metadata": {},
   "outputs": [],
   "source": [
    "from astropy.io import fits\n",
    "import numpy as np\n",
    "import pandas as pd\n",
    "\n",
    "import sys\n",
    "sys.path.append('../')\n",
    "from sf_lib.df import (\n",
    "    make_df_classify, \n",
    "    make_df_tasks_with_props\n",
    ")"
   ]
  },
  {
   "cell_type": "markdown",
   "metadata": {},
   "source": [
    "# Extract catalogue data:\n",
    "\n",
    "## Extract `FDSDWARF_LSB.fits`:"
   ]
  },
  {
   "cell_type": "code",
   "execution_count": 2,
   "metadata": {},
   "outputs": [
    {
     "name": "stdout",
     "output_type": "stream",
     "text": [
      "FDSDWARF_LSB columns: ['target', 'RA', 'DEC', 'PA', 'PA_e', 'arat', 'arat_e', 'r_mag', 'r_mag_e', 'g_mag', 'g_mag_e', 'r_nuc', 'g_nuc', 'reff', 'reff_e', 'n', 'n_e', 'u', 'u_e', 'g', 'g_e', 'r', 'r_e', 'i', 'i_e', 'C', 'RFF', 'Class', 'Ref.']\n"
     ]
    }
   ],
   "source": [
    "# load fits file, and extract column names and object data\n",
    "hdul = fits.open('./FDSDWARF_LSB.fits')\n",
    "header = hdul[0].header\n",
    "data_selective = hdul[1].data\n",
    "\n",
    "col_names = data_selective.columns.names\n",
    "print('FDSDWARF_LSB columns:', col_names)\n",
    "\n",
    "# extract each target's name to a list. \n",
    "#  these target names match those used in SpaceFluff (we'll verify this later in this notebook)\n",
    "targets_selective = [d['target'] for d in data_selective if 'UDGcand' in d['target']]"
   ]
  },
  {
   "cell_type": "markdown",
   "metadata": {},
   "source": [
    "See http://cdsarc.u-strasbg.fr/ftp/J/A+A/620/A165/ReadMe for description of the columns printed above"
   ]
  },
  {
   "cell_type": "code",
   "execution_count": 3,
   "metadata": {},
   "outputs": [],
   "source": [
    "# Loop over every entry in data_selective (which is the `FDSDWARF_LSB.fits` file) and map its properties to a dictionary.\n",
    "\n",
    "selected_data = []\n",
    "\n",
    "for d in data_selective:\n",
    "    if 'UDGcand' in d['target']:\n",
    "        \n",
    "        object_properties = {\n",
    "            \"name\": d[0]  # first manually assign 'name', since I prefer 'name' to 'target'\n",
    "        }\n",
    "        \n",
    "        for idx, column in enumerate(data_selective.columns.names[1:]):  # then loop over the rest of the properties \n",
    "            object_properties[column] = d[idx+1]                         # and assign the property using its existing name\n",
    "        \n",
    "        \n",
    "        selected_data.append(object_properties)"
   ]
  },
  {
   "cell_type": "code",
   "execution_count": 4,
   "metadata": {},
   "outputs": [],
   "source": [
    "# save target names to txt file for later comparison to classification votes\n",
    "#  we only need to this this once. Can uncomment the cell if we need to run it again.\n",
    "\n",
    "np.savetxt('sf_catalogue_targets.txt', targets_selective, delimiter=',', fmt=\"%s\")"
   ]
  },
  {
   "cell_type": "code",
   "execution_count": 5,
   "metadata": {},
   "outputs": [],
   "source": [
    "# in notebook `sf_12-04-2021`, I extracted a list of unique target names from `classify-classifications.csv`. \n",
    "candidate_names_classify = np.loadtxt('../analysis/sf_candidate_names__classification-classify.txt', dtype=str)"
   ]
  },
  {
   "cell_type": "code",
   "execution_count": 6,
   "metadata": {},
   "outputs": [
    {
     "name": "stdout",
     "output_type": "stream",
     "text": [
      "Number of intersecting targets: 238\n"
     ]
    }
   ],
   "source": [
    "# find intersection of names between FDSDWARF_LSB.fits and classify_classifications.csv\n",
    "intersecting = list(set(targets_selective) & set(candidate_names_classify))\n",
    "\n",
    "print('Number of intersecting targets:', len(intersecting))"
   ]
  },
  {
   "cell_type": "markdown",
   "metadata": {},
   "source": [
    "## Extract `LSBS_no_par_sel.fits`"
   ]
  },
  {
   "cell_type": "code",
   "execution_count": 7,
   "metadata": {},
   "outputs": [
    {
     "name": "stdout",
     "output_type": "stream",
     "text": [
      "LSBS_no_par_sel columns: ['target', 'RA', 'DEC', 'Reff', 'r_mag', 'g_mag', 'axis_ratio', 'pos_angle', 'n', 'u', 'g', 'r', 'i', 'ue', 'ge', 're', 'ie', 'Reffe', 'r_mage', 'ne', 'C', 'mue_r', 'bae', 'RFF']\n"
     ]
    }
   ],
   "source": [
    "hdul = fits.open('./LSBS_no_par_sel.fits')\n",
    "header = hdul[0].header\n",
    "data_no_selection = hdul[1].data\n",
    "\n",
    "# Extract all UDGcand_* targets from LSBS_no_par_sel.\n",
    "#  Note that this fits file also contains other targets. We might want to check if any of those happen to be \n",
    "#   Space Fluff candidates, but with another name. Check using RA/dec (see below)\n",
    "targets_no_selection = [d['target'] for d in data_no_selection if 'UDGcand' in d['target']]\n",
    "\n",
    "print('LSBS_no_par_sel columns:', data_no_selection.columns.names)"
   ]
  },
  {
   "cell_type": "code",
   "execution_count": 8,
   "metadata": {},
   "outputs": [],
   "source": [
    "# map targets' properties to a list of objects, same as above with FDS_DWARF_LSB\n",
    "\n",
    "spacefluff_data = []\n",
    "\n",
    "for d in data_no_selection:\n",
    "    object_properties = {\n",
    "        \"name\": d[0]\n",
    "    }\n",
    "    \n",
    "    for idx, column in enumerate(data_no_selection.columns.names[1:]):\n",
    "        object_properties[column] = d[idx+1]\n",
    "    \n",
    "    spacefluff_data.append(object_properties)"
   ]
  },
  {
   "cell_type": "code",
   "execution_count": 9,
   "metadata": {},
   "outputs": [],
   "source": [
    "# convert the list of objects to a DataFrame (and inspect the head to see if it worked properly)\n",
    "df_spacefluff_data = pd.DataFrame(spacefluff_data)"
   ]
  },
  {
   "cell_type": "code",
   "execution_count": 10,
   "metadata": {},
   "outputs": [
    {
     "data": {
      "text/html": [
       "<div>\n",
       "<style scoped>\n",
       "    .dataframe tbody tr th:only-of-type {\n",
       "        vertical-align: middle;\n",
       "    }\n",
       "\n",
       "    .dataframe tbody tr th {\n",
       "        vertical-align: top;\n",
       "    }\n",
       "\n",
       "    .dataframe thead th {\n",
       "        text-align: right;\n",
       "    }\n",
       "</style>\n",
       "<table border=\"1\" class=\"dataframe\">\n",
       "  <thead>\n",
       "    <tr style=\"text-align: right;\">\n",
       "      <th></th>\n",
       "      <th>name</th>\n",
       "      <th>RA</th>\n",
       "      <th>DEC</th>\n",
       "      <th>Reff</th>\n",
       "      <th>r_mag</th>\n",
       "      <th>g_mag</th>\n",
       "      <th>axis_ratio</th>\n",
       "      <th>pos_angle</th>\n",
       "      <th>n</th>\n",
       "      <th>u</th>\n",
       "      <th>...</th>\n",
       "      <th>ge</th>\n",
       "      <th>re</th>\n",
       "      <th>ie</th>\n",
       "      <th>Reffe</th>\n",
       "      <th>r_mage</th>\n",
       "      <th>ne</th>\n",
       "      <th>C</th>\n",
       "      <th>mue_r</th>\n",
       "      <th>bae</th>\n",
       "      <th>RFF</th>\n",
       "    </tr>\n",
       "  </thead>\n",
       "  <tbody>\n",
       "    <tr>\n",
       "      <th>0</th>\n",
       "      <td>UDGcand_0</td>\n",
       "      <td>56.232609</td>\n",
       "      <td>-35.335724</td>\n",
       "      <td>2.893400</td>\n",
       "      <td>19.8319</td>\n",
       "      <td>-1.0</td>\n",
       "      <td>0.6034</td>\n",
       "      <td>-27.775499</td>\n",
       "      <td>1.0271</td>\n",
       "      <td>22.426844</td>\n",
       "      <td>...</td>\n",
       "      <td>0.054816</td>\n",
       "      <td>0.046306</td>\n",
       "      <td>0.044244</td>\n",
       "      <td>0.332842</td>\n",
       "      <td>0.131324</td>\n",
       "      <td>0.117142</td>\n",
       "      <td>2.764210</td>\n",
       "      <td>23.585331</td>\n",
       "      <td>0.027318</td>\n",
       "      <td>-99.0</td>\n",
       "    </tr>\n",
       "    <tr>\n",
       "      <th>1</th>\n",
       "      <td>UDGcand_1</td>\n",
       "      <td>56.448929</td>\n",
       "      <td>-35.060425</td>\n",
       "      <td>23.859739</td>\n",
       "      <td>16.8575</td>\n",
       "      <td>-1.0</td>\n",
       "      <td>0.5255</td>\n",
       "      <td>-26.768299</td>\n",
       "      <td>0.7523</td>\n",
       "      <td>20.010176</td>\n",
       "      <td>...</td>\n",
       "      <td>0.124959</td>\n",
       "      <td>0.074377</td>\n",
       "      <td>0.064501</td>\n",
       "      <td>5.672080</td>\n",
       "      <td>0.286355</td>\n",
       "      <td>0.215407</td>\n",
       "      <td>3.108573</td>\n",
       "      <td>25.042135</td>\n",
       "      <td>0.049565</td>\n",
       "      <td>-99.0</td>\n",
       "    </tr>\n",
       "  </tbody>\n",
       "</table>\n",
       "<p>2 rows × 24 columns</p>\n",
       "</div>"
      ],
      "text/plain": [
       "        name         RA        DEC       Reff    r_mag  g_mag  axis_ratio  \\\n",
       "0  UDGcand_0  56.232609 -35.335724   2.893400  19.8319   -1.0      0.6034   \n",
       "1  UDGcand_1  56.448929 -35.060425  23.859739  16.8575   -1.0      0.5255   \n",
       "\n",
       "   pos_angle       n          u  ...        ge        re        ie     Reffe  \\\n",
       "0 -27.775499  1.0271  22.426844  ...  0.054816  0.046306  0.044244  0.332842   \n",
       "1 -26.768299  0.7523  20.010176  ...  0.124959  0.074377  0.064501  5.672080   \n",
       "\n",
       "     r_mage        ne         C      mue_r       bae   RFF  \n",
       "0  0.131324  0.117142  2.764210  23.585331  0.027318 -99.0  \n",
       "1  0.286355  0.215407  3.108573  25.042135  0.049565 -99.0  \n",
       "\n",
       "[2 rows x 24 columns]"
      ]
     },
     "execution_count": 10,
     "metadata": {},
     "output_type": "execute_result"
    }
   ],
   "source": [
    "# save the DataFrame to csv for later use:\n",
    "df_spacefluff_data.to_csv('./sf_spacefluff_object_data.csv', sep=\",\", index=False)\n",
    "\n",
    "# load and inspect created .csv to see if it saved correctly:\n",
    "df_spacefluff_data_read = pd.read_csv('./sf_spacefluff_object_data.csv', comment=\"#\")\n",
    "\n",
    "df_spacefluff_data_read.head(2)"
   ]
  },
  {
   "cell_type": "markdown",
   "metadata": {},
   "source": [
    "We see above that there is an `r_mag` and an `r`. I assume these represent magnitudes obtained by various methods. We note that g_mag has a placeholder, so already the assumption here is that `r_mag` is less accurate than `r` also. Below, we plot the parameters against each other, but also the absolute difference between them, and a histogram of each of their errors. We find that `r` is most reliable, and thus we will use this throughout our analysis."
   ]
  },
  {
   "cell_type": "code",
   "execution_count": 11,
   "metadata": {},
   "outputs": [
    {
     "data": {
      "image/png": "[encoded data removed]",
      "text/plain": [
       "<Figure size 864x252 with 3 Axes>"
      ]
     },
     "metadata": {
      "needs_background": "light"
     },
     "output_type": "display_data"
    }
   ],
   "source": [
    "d = df_spacefluff_data_read\n",
    "\n",
    "lb = 'xkcd:lightish blue'\n",
    "\n",
    "import matplotlib.pyplot as plt\n",
    "%matplotlib inline\n",
    "fig, fr = plt.subplots(1,3, figsize=(12,3.5))\n",
    "\n",
    "fr[0].scatter(d['r'], d['r_mag'], alpha=0.15, s=4, c=lb)\n",
    "fr[0].update(dict(xlabel='r', ylabel='r_mag'))\n",
    "\n",
    "fr[1].hist(np.abs(d['r']-d['r_mag']), bins=101, color=lb)\n",
    "fr[1].update(dict(xlabel='|r - r_mag|', ylabel='N'))\n",
    "\n",
    "hist_kw = dict(histtype='step', facecolor='none', bins=51)\n",
    "fr[2].hist(d['re'], **hist_kw, label='r')\n",
    "fr[2].hist(d['r_mage'], **hist_kw, label='r_mag')\n",
    "fr[2].update(dict(xlabel='error', ylabel='N', xlim=[0,1]))\n",
    "fr[2].legend()\n",
    "\n",
    "fig.tight_layout()\n",
    "plt.show()"
   ]
  },
  {
   "cell_type": "markdown",
   "metadata": {},
   "source": [
    "---\n",
    "# Compare properties\n",
    "\n",
    "Compare object properties between the selective and non-selective catalogues, to see if they match or if a different (more resource-intensive) method was used to extract objects' properties in the selective catalogue."
   ]
  },
  {
   "cell_type": "code",
   "execution_count": 12,
   "metadata": {},
   "outputs": [],
   "source": [
    "def check_object_property_match(index_sel, index_nosel):\n",
    "    '''\n",
    "        Compare all properties (RA, DEC, etc.) between an object in the two .fits files\n",
    "        @param {int} index_sel: index of the object by this name in selected_data\n",
    "        @param {int} index_nosel: index of the object by this name in spacefluff_data\n",
    "        @returns set of booleans. If all properties match, this will equal set([True])\n",
    "    \n",
    "    '''\n",
    "    candidate_sel = selected_data[index_sel]        # properties of candidate according to `FDSDWARF_LSB.fits`\n",
    "    candidate_nosel = spacefluff_data[index_nosel]  # properties of candidate according to `LSBS_no_par_sel.fits`\n",
    "\n",
    "    columns_match = []\n",
    "    \n",
    "    if candidate_sel['name'] == candidate_nosel['name']:  \n",
    "        col_sel = set(candidate_sel.keys())      # get properties of objects offered by FDSDWARF_LSB.fits\n",
    "        col_nosel = set(candidate_nosel.keys())  # ^, but for LSBS_no_par_sel.fits\n",
    "\n",
    "        col_intersection = col_sel.intersection(col_nosel)  # get the properties present in both the .fits files, \n",
    "                                                            #  so we can compare them in a loop\n",
    "        for column in col_intersection:\n",
    "            match = candidate_sel[column] == candidate_nosel[column]\n",
    "            columns_match.append(match)\n",
    "\n",
    "        set_match = set(columns_match)\n",
    "        return set_match"
   ]
  },
  {
   "cell_type": "code",
   "execution_count": 13,
   "metadata": {},
   "outputs": [],
   "source": [
    "objects_sel = [d['target'] for d in data_selective]      # extract target names\n",
    "objects_nosel = [d['target'] for d in data_no_selection] # ^\n",
    "\n",
    "objects_intersection = set(objects_sel).intersection(set(objects_nosel))  # get the intersection of target names"
   ]
  },
  {
   "cell_type": "code",
   "execution_count": 14,
   "metadata": {},
   "outputs": [],
   "source": [
    "# create a lookup table for object indices, \n",
    "#  like { 'UDGcand_001': { 'sel': 1, 'nosel': 2 } }, \n",
    "#  which would indicate the index of UDGcand_001 to be 1 in the 'sel' file, and 2 in the 'nosel' file\n",
    "#  start with an empty table, and retrieve indices in a loop the next cell\n",
    "\n",
    "object_index_lookup = {}\n",
    "for object_name in objects_intersection:  # create object like {'UDGcand_1': { 'sel': None, 'nosel': None }}\n",
    "    object_index_lookup[object_name] = {  #  so we only have to loop each *_data list once\n",
    "        'sel': None,\n",
    "        'nosel': None\n",
    "    }"
   ]
  },
  {
   "cell_type": "code",
   "execution_count": 15,
   "metadata": {},
   "outputs": [],
   "source": [
    "# loop through each list (selected_data and spacefluff_data), and assign the object's index in the list to the lookup\n",
    "\n",
    "for index, obj in enumerate(selected_data):\n",
    "    if obj['name'] in objects_intersection:\n",
    "        object_index_lookup[obj['name']]['sel'] = index\n",
    "        \n",
    "for index, obj in enumerate(spacefluff_data):\n",
    "    if obj['name'] in objects_intersection:\n",
    "        object_index_lookup[obj['name']]['nosel'] = index"
   ]
  },
  {
   "cell_type": "code",
   "execution_count": 16,
   "metadata": {
    "tags": []
   },
   "outputs": [
    {
     "data": {
      "text/plain": [
       "True"
      ]
     },
     "execution_count": 16,
     "metadata": {},
     "output_type": "execute_result"
    }
   ],
   "source": [
    "# loop through the lookup and compare each object's properties. if any don't match, the loop'll print the object's name\n",
    "#  and we can manually inspect what properties differ\n",
    "\n",
    "all_match = 0\n",
    "not_in_spacefluff = 0\n",
    "\n",
    "for (name, indices) in object_index_lookup.items():\n",
    "    if type(indices['sel']) == int and type(indices['nosel']) == int:\n",
    "        set_match = check_object_property_match(indices['sel'], indices['nosel'])\n",
    "        \n",
    "        if set_match == set([True]):\n",
    "            all_match += 1\n",
    "        else:\n",
    "            print(\"Properties don't match, investigate!\", name, indices) \n",
    "    \n",
    "    else:\n",
    "        # object doesn't exist in SpaceFluff, which is not a problem\n",
    "        not_in_spacefluff += 1\n",
    "        continue\n",
    "    \n",
    "len(objects_intersection) == all_match + not_in_spacefluff"
   ]
  },
  {
   "cell_type": "markdown",
   "metadata": {},
   "source": [
    "As we see, none of the objects have non-matching properties, meaning we're free to use the properties from either .fits file."
   ]
  },
  {
   "cell_type": "markdown",
   "metadata": {},
   "source": [
    "## Check if any of the non-`UDGcand` objects have coordinates corresponding to objects in SpaceFluff, somehow\n",
    "\n",
    "Note from above that not all objects in the catalogue(s) are named `UDGcand_*`. Are the properties still the same for the objects with other names? This is not relevant for our project since we only use `UDGcand_*` objects, but good as a sanity check regardless."
   ]
  },
  {
   "cell_type": "markdown",
   "metadata": {},
   "source": [
    "- load spacefluff objects and their properties"
   ]
  },
  {
   "cell_type": "code",
   "execution_count": 17,
   "metadata": {},
   "outputs": [],
   "source": [
    "object_info = pd.read_csv('./sf_spacefluff_object_data.csv', comment=\"#\")\n",
    "candidate_names_classify = list(np.loadtxt('../analysis/sf_candidate_names__classification-classify.txt', dtype='str'))"
   ]
  },
  {
   "cell_type": "code",
   "execution_count": 18,
   "metadata": {},
   "outputs": [],
   "source": [
    "df = make_df_classify(workflow='classify')\n",
    "df_votes = make_df_tasks_with_props(df, candidate_names_classify, object_info)"
   ]
  },
  {
   "cell_type": "markdown",
   "metadata": {},
   "source": [
    "- list all RA and DEC values of catalogue objects that aren't named `UDGcand_*`"
   ]
  },
  {
   "cell_type": "code",
   "execution_count": 19,
   "metadata": {},
   "outputs": [],
   "source": [
    "ra_index = data_selective.columns.names.index('RA')\n",
    "dec_index = data_selective.columns.names.index('DEC')\n",
    "\n",
    "ras = [d[ra_index] for d in data_selective if d['target'].find('UDGcand') == -1]\n",
    "decs = [d[dec_index] for d in data_selective if d['target'].find('UDGcand') == -1]"
   ]
  },
  {
   "cell_type": "markdown",
   "metadata": {},
   "source": [
    "- see if any of these RA or DEC values correspond to SpaceFluff objects"
   ]
  },
  {
   "cell_type": "code",
   "execution_count": 20,
   "metadata": {},
   "outputs": [],
   "source": [
    "dec_exists = df_votes.query(\"RA.isin(@ras) or DEC.isin(@decs)\")\n",
    "_names = dec_exists['name'].tolist()"
   ]
  },
  {
   "cell_type": "code",
   "execution_count": 21,
   "metadata": {},
   "outputs": [
    {
     "data": {
      "text/plain": [
       "[-1, -1, -1, -1, -1]"
      ]
     },
     "execution_count": 21,
     "metadata": {},
     "output_type": "execute_result"
    }
   ],
   "source": [
    "decs_in_df = dec_exists['RA'].tolist()\n",
    "ras_in_df = []\n",
    "\n",
    "for dec in decs_in_df:\n",
    "    try:\n",
    "        ras_in_df.append(ras.index(dec))\n",
    "    except:\n",
    "        ras_in_df.append(-1)\n",
    "    \n",
    "ras_in_df"
   ]
  },
  {
   "cell_type": "markdown",
   "metadata": {},
   "source": [
    "- All indices are -1, so none of the (RA, DEC) combinations exist, and thus none of the non-`UDGcand_*` objects are in fact SpaceFluff objects."
   ]
  },
  {
   "cell_type": "code",
   "execution_count": 24,
   "metadata": {},
   "outputs": [],
   "source": [
    "names_selective = [d[0] for d in data_selective]"
   ]
  },
  {
   "cell_type": "code",
   "execution_count": 28,
   "metadata": {},
   "outputs": [],
   "source": [
    "names_all = np.array([d[0] for d in data_no_selection])"
   ]
  },
  {
   "cell_type": "code",
   "execution_count": 38,
   "metadata": {},
   "outputs": [
    {
     "data": {
      "text/plain": [
       "6036"
      ]
     },
     "execution_count": 38,
     "metadata": {},
     "output_type": "execute_result"
    }
   ],
   "source": [
    "len([n for n in names_all if 'UDGcand' in n ])"
   ]
  }
 ],
 "metadata": {
  "kernelspec": {
   "display_name": "Python 3",
   "language": "python",
   "name": "python3"
  },
  "language_info": {
   "codemirror_mode": {
    "name": "ipython",
    "version": 3
   },
   "file_extension": ".py",
   "mimetype": "text/x-python",
   "name": "python",
   "nbconvert_exporter": "python",
   "pygments_lexer": "ipython3",
   "version": "3.9.0"
  }
 },
 "nbformat": 4,
 "nbformat_minor": 4
}
