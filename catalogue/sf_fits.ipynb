{
 "cells": [
  {
   "cell_type": "code",
   "execution_count": 1,
   "metadata": {},
   "outputs": [],
   "source": [
    "from astropy.io import fits\n",
    "import numpy as np\n",
    "import pandas as pd"
   ]
  },
  {
   "cell_type": "markdown",
   "metadata": {},
   "source": [
    "# Catalogue FITS file"
   ]
  },
  {
   "cell_type": "markdown",
   "metadata": {},
   "source": [
    "Extract targets whose names contain `UDGcand`, assuming they correspond to the `UDGcand_*` targets as used in the `classify-*` files from SpaceFluff. \n",
    "\n",
    "---\n",
    "\n",
    "`@note` _Verify correspondence of names! Don't blindly assume they correspond._"
   ]
  },
  {
   "cell_type": "code",
   "execution_count": 2,
   "metadata": {},
   "outputs": [],
   "source": [
    "hdul = fits.open('./FDSDWARF_LSB.fits')\n",
    "header = hdul[0].header\n",
    "data = hdul[1].data"
   ]
  },
  {
   "cell_type": "code",
   "execution_count": 3,
   "metadata": {},
   "outputs": [
    {
     "name": "stdout",
     "output_type": "stream",
     "text": [
      "['target', 'RA', 'DEC', 'PA', 'PA_e', 'arat', 'arat_e', 'r_mag', 'r_mag_e', 'g_mag', 'g_mag_e', 'r_nuc', 'g_nuc', 'reff', 'reff_e', 'n', 'n_e', 'u', 'u_e', 'g', 'g_e', 'r', 'r_e', 'i', 'i_e', 'C', 'RFF', 'Class', 'Ref.']\n"
     ]
    }
   ],
   "source": [
    "col_names = data.columns.names\n",
    "print(col_names)"
   ]
  },
  {
   "cell_type": "markdown",
   "metadata": {},
   "source": [
    "See http://cdsarc.u-strasbg.fr/ftp/J/A+A/620/A165/ReadMe for description of columns"
   ]
  },
  {
   "cell_type": "code",
   "execution_count": 4,
   "metadata": {},
   "outputs": [],
   "source": [
    "# among the FITS file targets, there are a number of UDGcand_* entries, \n",
    "#   which I assume match UDGCand_* targets as designated in the SpaceFluff .csv files\n",
    "targets = [d['target'] for d in data if 'UDGcand' in d['target']]"
   ]
  },
  {
   "cell_type": "code",
   "execution_count": 5,
   "metadata": {},
   "outputs": [],
   "source": [
    "# # save target names to txt file for later comparison to classification votes\n",
    "# np.savetxt('sf_catalogue_targets.txt', targets, delimiter=',', fmt=\"%s\")"
   ]
  },
  {
   "cell_type": "markdown",
   "metadata": {},
   "source": [
    "### In notebook `sf_12-04-2021`, I extracted a list of unique target names from `classify-classifications.csv`. "
   ]
  },
  {
   "cell_type": "markdown",
   "metadata": {},
   "source": [
    "`@note` _Don't assume the other classification files used the exact same set of targets (presumably so, but verify!)_"
   ]
  },
  {
   "cell_type": "code",
   "execution_count": 6,
   "metadata": {},
   "outputs": [],
   "source": [
    "candidate_names_classify = np.loadtxt('../SpaceFluff/sf_candidate_names__classification-classify.txt', dtype=str)"
   ]
  },
  {
   "cell_type": "markdown",
   "metadata": {},
   "source": [
    "- Find the intersection of the targets from the .FITS file and the targets from `classify_classifications.csv`:"
   ]
  },
  {
   "cell_type": "code",
   "execution_count": 7,
   "metadata": {},
   "outputs": [
    {
     "data": {
      "text/plain": [
       "238"
      ]
     },
     "execution_count": 7,
     "metadata": {},
     "output_type": "execute_result"
    }
   ],
   "source": [
    "intersecting = list(set(targets) & set(candidate_names_classify))\n",
    "len(intersecting)"
   ]
  },
  {
   "cell_type": "markdown",
   "metadata": {},
   "source": [
    "# FITS file with object data"
   ]
  },
  {
   "cell_type": "code",
   "execution_count": 8,
   "metadata": {},
   "outputs": [],
   "source": [
    "hdul = fits.open('./LSBS_no_par_sel.fits')\n",
    "header = hdul[0].header\n",
    "data = hdul[1].data"
   ]
  },
  {
   "cell_type": "code",
   "execution_count": 9,
   "metadata": {},
   "outputs": [
    {
     "name": "stdout",
     "output_type": "stream",
     "text": [
      "['target', 'RA', 'DEC', 'Reff', 'r_mag', 'g_mag', 'axis_ratio', 'pos_angle', 'n', 'u', 'g', 'r', 'i', 'ue', 'ge', 're', 'ie', 'Reffe', 'r_mage', 'ne', 'C', 'mue_r', 'bae', 'RFF']\n"
     ]
    },
    {
     "data": {
      "text/plain": [
       "SIMPLE  =                    T / conforms to FITS standard                      \n",
       "BITPIX  =                    8 / array data type                                \n",
       "NAXIS   =                    0 / number of array dimensions                     \n",
       "EXTEND  =                    T                                                  "
      ]
     },
     "execution_count": 9,
     "metadata": {},
     "output_type": "execute_result"
    }
   ],
   "source": [
    "print(data.columns.names)\n",
    "\n",
    "header"
   ]
  },
  {
   "cell_type": "code",
   "execution_count": 10,
   "metadata": {},
   "outputs": [],
   "source": [
    "targets = [d['target'] for d in data if 'UDGcand' in d['target']]\n",
    "# targets"
   ]
  },
  {
   "cell_type": "markdown",
   "metadata": {},
   "source": [
    "- Create an array of { name, properties } containing every object in the FITS file that's also a SpaceFluff object:"
   ]
  },
  {
   "cell_type": "code",
   "execution_count": 11,
   "metadata": {},
   "outputs": [],
   "source": [
    "spacefluff_data = []\n",
    "\n",
    "for d in data:\n",
    "    if d['target'] in set(candidate_names_classify):\n",
    "        \n",
    "        object_properties = {\n",
    "            \"name\": d[0]\n",
    "        }\n",
    "        \n",
    "        for idx, column in enumerate(data.columns.names[1:]):\n",
    "            object_properties[column] = d[idx+1]\n",
    "        \n",
    "        \n",
    "        spacefluff_data.append(object_properties)"
   ]
  },
  {
   "cell_type": "markdown",
   "metadata": {},
   "source": [
    "- Convert into a DataFrame, and inspect the head to see if nothing went wrong:"
   ]
  },
  {
   "cell_type": "code",
   "execution_count": 12,
   "metadata": {},
   "outputs": [
    {
     "data": {
      "text/html": [
       "<div>\n",
       "<style scoped>\n",
       "    .dataframe tbody tr th:only-of-type {\n",
       "        vertical-align: middle;\n",
       "    }\n",
       "\n",
       "    .dataframe tbody tr th {\n",
       "        vertical-align: top;\n",
       "    }\n",
       "\n",
       "    .dataframe thead th {\n",
       "        text-align: right;\n",
       "    }\n",
       "</style>\n",
       "<table border=\"1\" class=\"dataframe\">\n",
       "  <thead>\n",
       "    <tr style=\"text-align: right;\">\n",
       "      <th></th>\n",
       "      <th>name</th>\n",
       "      <th>RA</th>\n",
       "      <th>DEC</th>\n",
       "      <th>Reff</th>\n",
       "      <th>r_mag</th>\n",
       "      <th>g_mag</th>\n",
       "      <th>axis_ratio</th>\n",
       "      <th>pos_angle</th>\n",
       "      <th>n</th>\n",
       "      <th>u</th>\n",
       "      <th>...</th>\n",
       "      <th>ge</th>\n",
       "      <th>re</th>\n",
       "      <th>ie</th>\n",
       "      <th>Reffe</th>\n",
       "      <th>r_mage</th>\n",
       "      <th>ne</th>\n",
       "      <th>C</th>\n",
       "      <th>mue_r</th>\n",
       "      <th>bae</th>\n",
       "      <th>RFF</th>\n",
       "    </tr>\n",
       "  </thead>\n",
       "  <tbody>\n",
       "    <tr>\n",
       "      <th>0</th>\n",
       "      <td>UDGcand_0</td>\n",
       "      <td>56.232609</td>\n",
       "      <td>-35.335724</td>\n",
       "      <td>2.89340</td>\n",
       "      <td>19.831900</td>\n",
       "      <td>-1.0</td>\n",
       "      <td>0.6034</td>\n",
       "      <td>-27.775499</td>\n",
       "      <td>1.0271</td>\n",
       "      <td>22.426844</td>\n",
       "      <td>...</td>\n",
       "      <td>0.054816</td>\n",
       "      <td>0.046306</td>\n",
       "      <td>0.044244</td>\n",
       "      <td>0.332842</td>\n",
       "      <td>0.131324</td>\n",
       "      <td>0.117142</td>\n",
       "      <td>2.764210</td>\n",
       "      <td>23.585331</td>\n",
       "      <td>0.027318</td>\n",
       "      <td>-99.0</td>\n",
       "    </tr>\n",
       "    <tr>\n",
       "      <th>1</th>\n",
       "      <td>UDGcand_2</td>\n",
       "      <td>55.633900</td>\n",
       "      <td>-35.866928</td>\n",
       "      <td>2.63998</td>\n",
       "      <td>20.237101</td>\n",
       "      <td>-1.0</td>\n",
       "      <td>0.7488</td>\n",
       "      <td>15.694100</td>\n",
       "      <td>1.6470</td>\n",
       "      <td>25.864775</td>\n",
       "      <td>...</td>\n",
       "      <td>0.160716</td>\n",
       "      <td>0.051180</td>\n",
       "      <td>0.041536</td>\n",
       "      <td>0.378239</td>\n",
       "      <td>0.166238</td>\n",
       "      <td>0.140836</td>\n",
       "      <td>3.494850</td>\n",
       "      <td>24.025892</td>\n",
       "      <td>0.032711</td>\n",
       "      <td>-99.0</td>\n",
       "    </tr>\n",
       "    <tr>\n",
       "      <th>2</th>\n",
       "      <td>UDGcand_3</td>\n",
       "      <td>55.688835</td>\n",
       "      <td>-35.471954</td>\n",
       "      <td>1.97838</td>\n",
       "      <td>21.729500</td>\n",
       "      <td>-1.0</td>\n",
       "      <td>0.8003</td>\n",
       "      <td>10.619600</td>\n",
       "      <td>0.3000</td>\n",
       "      <td>23.426687</td>\n",
       "      <td>...</td>\n",
       "      <td>0.125680</td>\n",
       "      <td>0.112662</td>\n",
       "      <td>0.066605</td>\n",
       "      <td>0.452366</td>\n",
       "      <td>0.274637</td>\n",
       "      <td>0.208488</td>\n",
       "      <td>1.926754</td>\n",
       "      <td>24.964056</td>\n",
       "      <td>0.048007</td>\n",
       "      <td>-99.0</td>\n",
       "    </tr>\n",
       "    <tr>\n",
       "      <th>3</th>\n",
       "      <td>UDGcand_4</td>\n",
       "      <td>55.832767</td>\n",
       "      <td>-35.379551</td>\n",
       "      <td>5.79236</td>\n",
       "      <td>18.351999</td>\n",
       "      <td>-1.0</td>\n",
       "      <td>0.6255</td>\n",
       "      <td>61.521198</td>\n",
       "      <td>6.1206</td>\n",
       "      <td>22.914799</td>\n",
       "      <td>...</td>\n",
       "      <td>0.090910</td>\n",
       "      <td>0.037912</td>\n",
       "      <td>0.041479</td>\n",
       "      <td>0.688735</td>\n",
       "      <td>0.136073</td>\n",
       "      <td>0.120439</td>\n",
       "      <td>3.838429</td>\n",
       "      <td>23.651720</td>\n",
       "      <td>0.028070</td>\n",
       "      <td>-99.0</td>\n",
       "    </tr>\n",
       "    <tr>\n",
       "      <th>4</th>\n",
       "      <td>UDGcand_5</td>\n",
       "      <td>56.058018</td>\n",
       "      <td>-35.596409</td>\n",
       "      <td>2.98190</td>\n",
       "      <td>19.478001</td>\n",
       "      <td>-1.0</td>\n",
       "      <td>0.8144</td>\n",
       "      <td>-11.880000</td>\n",
       "      <td>0.8693</td>\n",
       "      <td>22.430893</td>\n",
       "      <td>...</td>\n",
       "      <td>0.055276</td>\n",
       "      <td>0.043606</td>\n",
       "      <td>0.043281</td>\n",
       "      <td>0.349424</td>\n",
       "      <td>0.133957</td>\n",
       "      <td>0.118973</td>\n",
       "      <td>2.764210</td>\n",
       "      <td>23.622435</td>\n",
       "      <td>0.027735</td>\n",
       "      <td>-99.0</td>\n",
       "    </tr>\n",
       "  </tbody>\n",
       "</table>\n",
       "<p>5 rows × 24 columns</p>\n",
       "</div>"
      ],
      "text/plain": [
       "        name         RA        DEC     Reff      r_mag  g_mag  axis_ratio  \\\n",
       "0  UDGcand_0  56.232609 -35.335724  2.89340  19.831900   -1.0      0.6034   \n",
       "1  UDGcand_2  55.633900 -35.866928  2.63998  20.237101   -1.0      0.7488   \n",
       "2  UDGcand_3  55.688835 -35.471954  1.97838  21.729500   -1.0      0.8003   \n",
       "3  UDGcand_4  55.832767 -35.379551  5.79236  18.351999   -1.0      0.6255   \n",
       "4  UDGcand_5  56.058018 -35.596409  2.98190  19.478001   -1.0      0.8144   \n",
       "\n",
       "   pos_angle       n          u  ...        ge        re        ie     Reffe  \\\n",
       "0 -27.775499  1.0271  22.426844  ...  0.054816  0.046306  0.044244  0.332842   \n",
       "1  15.694100  1.6470  25.864775  ...  0.160716  0.051180  0.041536  0.378239   \n",
       "2  10.619600  0.3000  23.426687  ...  0.125680  0.112662  0.066605  0.452366   \n",
       "3  61.521198  6.1206  22.914799  ...  0.090910  0.037912  0.041479  0.688735   \n",
       "4 -11.880000  0.8693  22.430893  ...  0.055276  0.043606  0.043281  0.349424   \n",
       "\n",
       "     r_mage        ne         C      mue_r       bae   RFF  \n",
       "0  0.131324  0.117142  2.764210  23.585331  0.027318 -99.0  \n",
       "1  0.166238  0.140836  3.494850  24.025892  0.032711 -99.0  \n",
       "2  0.274637  0.208488  1.926754  24.964056  0.048007 -99.0  \n",
       "3  0.136073  0.120439  3.838429  23.651720  0.028070 -99.0  \n",
       "4  0.133957  0.118973  2.764210  23.622435  0.027735 -99.0  \n",
       "\n",
       "[5 rows x 24 columns]"
      ]
     },
     "execution_count": 12,
     "metadata": {},
     "output_type": "execute_result"
    }
   ],
   "source": [
    "df_spacefluff_data = pd.DataFrame(spacefluff_data)\n",
    "\n",
    "df_spacefluff_data.head()"
   ]
  },
  {
   "cell_type": "markdown",
   "metadata": {},
   "source": [
    "- Save the DataFrame to csv for later use:"
   ]
  },
  {
   "cell_type": "code",
   "execution_count": 13,
   "metadata": {},
   "outputs": [],
   "source": [
    "df_spacefluff_data.to_csv('./sf_spacefluff_object_data.csv', sep=\",\", index=False)"
   ]
  },
  {
   "cell_type": "markdown",
   "metadata": {},
   "source": [
    "- Load and inspect created .csv to see if it saved correctly:"
   ]
  },
  {
   "cell_type": "code",
   "execution_count": 14,
   "metadata": {},
   "outputs": [
    {
     "data": {
      "text/html": [
       "<div>\n",
       "<style scoped>\n",
       "    .dataframe tbody tr th:only-of-type {\n",
       "        vertical-align: middle;\n",
       "    }\n",
       "\n",
       "    .dataframe tbody tr th {\n",
       "        vertical-align: top;\n",
       "    }\n",
       "\n",
       "    .dataframe thead th {\n",
       "        text-align: right;\n",
       "    }\n",
       "</style>\n",
       "<table border=\"1\" class=\"dataframe\">\n",
       "  <thead>\n",
       "    <tr style=\"text-align: right;\">\n",
       "      <th></th>\n",
       "      <th>name</th>\n",
       "      <th>RA</th>\n",
       "      <th>DEC</th>\n",
       "      <th>Reff</th>\n",
       "      <th>r_mag</th>\n",
       "      <th>g_mag</th>\n",
       "      <th>axis_ratio</th>\n",
       "      <th>pos_angle</th>\n",
       "      <th>n</th>\n",
       "      <th>u</th>\n",
       "      <th>...</th>\n",
       "      <th>ge</th>\n",
       "      <th>re</th>\n",
       "      <th>ie</th>\n",
       "      <th>Reffe</th>\n",
       "      <th>r_mage</th>\n",
       "      <th>ne</th>\n",
       "      <th>C</th>\n",
       "      <th>mue_r</th>\n",
       "      <th>bae</th>\n",
       "      <th>RFF</th>\n",
       "    </tr>\n",
       "  </thead>\n",
       "  <tbody>\n",
       "    <tr>\n",
       "      <th>0</th>\n",
       "      <td>UDGcand_0</td>\n",
       "      <td>56.232609</td>\n",
       "      <td>-35.335724</td>\n",
       "      <td>2.89340</td>\n",
       "      <td>19.831900</td>\n",
       "      <td>-1.0</td>\n",
       "      <td>0.6034</td>\n",
       "      <td>-27.775499</td>\n",
       "      <td>1.0271</td>\n",
       "      <td>22.426844</td>\n",
       "      <td>...</td>\n",
       "      <td>0.054816</td>\n",
       "      <td>0.046306</td>\n",
       "      <td>0.044244</td>\n",
       "      <td>0.332842</td>\n",
       "      <td>0.131324</td>\n",
       "      <td>0.117142</td>\n",
       "      <td>2.764210</td>\n",
       "      <td>23.585331</td>\n",
       "      <td>0.027318</td>\n",
       "      <td>-99.0</td>\n",
       "    </tr>\n",
       "    <tr>\n",
       "      <th>1</th>\n",
       "      <td>UDGcand_2</td>\n",
       "      <td>55.633900</td>\n",
       "      <td>-35.866928</td>\n",
       "      <td>2.63998</td>\n",
       "      <td>20.237101</td>\n",
       "      <td>-1.0</td>\n",
       "      <td>0.7488</td>\n",
       "      <td>15.694100</td>\n",
       "      <td>1.6470</td>\n",
       "      <td>25.864775</td>\n",
       "      <td>...</td>\n",
       "      <td>0.160716</td>\n",
       "      <td>0.051180</td>\n",
       "      <td>0.041536</td>\n",
       "      <td>0.378239</td>\n",
       "      <td>0.166238</td>\n",
       "      <td>0.140836</td>\n",
       "      <td>3.494850</td>\n",
       "      <td>24.025892</td>\n",
       "      <td>0.032711</td>\n",
       "      <td>-99.0</td>\n",
       "    </tr>\n",
       "    <tr>\n",
       "      <th>2</th>\n",
       "      <td>UDGcand_3</td>\n",
       "      <td>55.688835</td>\n",
       "      <td>-35.471954</td>\n",
       "      <td>1.97838</td>\n",
       "      <td>21.729500</td>\n",
       "      <td>-1.0</td>\n",
       "      <td>0.8003</td>\n",
       "      <td>10.619600</td>\n",
       "      <td>0.3000</td>\n",
       "      <td>23.426687</td>\n",
       "      <td>...</td>\n",
       "      <td>0.125680</td>\n",
       "      <td>0.112662</td>\n",
       "      <td>0.066605</td>\n",
       "      <td>0.452366</td>\n",
       "      <td>0.274637</td>\n",
       "      <td>0.208488</td>\n",
       "      <td>1.926754</td>\n",
       "      <td>24.964056</td>\n",
       "      <td>0.048007</td>\n",
       "      <td>-99.0</td>\n",
       "    </tr>\n",
       "    <tr>\n",
       "      <th>3</th>\n",
       "      <td>UDGcand_4</td>\n",
       "      <td>55.832767</td>\n",
       "      <td>-35.379551</td>\n",
       "      <td>5.79236</td>\n",
       "      <td>18.351999</td>\n",
       "      <td>-1.0</td>\n",
       "      <td>0.6255</td>\n",
       "      <td>61.521198</td>\n",
       "      <td>6.1206</td>\n",
       "      <td>22.914799</td>\n",
       "      <td>...</td>\n",
       "      <td>0.090910</td>\n",
       "      <td>0.037912</td>\n",
       "      <td>0.041479</td>\n",
       "      <td>0.688735</td>\n",
       "      <td>0.136073</td>\n",
       "      <td>0.120439</td>\n",
       "      <td>3.838429</td>\n",
       "      <td>23.651720</td>\n",
       "      <td>0.028070</td>\n",
       "      <td>-99.0</td>\n",
       "    </tr>\n",
       "    <tr>\n",
       "      <th>4</th>\n",
       "      <td>UDGcand_5</td>\n",
       "      <td>56.058018</td>\n",
       "      <td>-35.596409</td>\n",
       "      <td>2.98190</td>\n",
       "      <td>19.478001</td>\n",
       "      <td>-1.0</td>\n",
       "      <td>0.8144</td>\n",
       "      <td>-11.880000</td>\n",
       "      <td>0.8693</td>\n",
       "      <td>22.430893</td>\n",
       "      <td>...</td>\n",
       "      <td>0.055276</td>\n",
       "      <td>0.043606</td>\n",
       "      <td>0.043281</td>\n",
       "      <td>0.349424</td>\n",
       "      <td>0.133957</td>\n",
       "      <td>0.118973</td>\n",
       "      <td>2.764210</td>\n",
       "      <td>23.622435</td>\n",
       "      <td>0.027735</td>\n",
       "      <td>-99.0</td>\n",
       "    </tr>\n",
       "  </tbody>\n",
       "</table>\n",
       "<p>5 rows × 24 columns</p>\n",
       "</div>"
      ],
      "text/plain": [
       "        name         RA        DEC     Reff      r_mag  g_mag  axis_ratio  \\\n",
       "0  UDGcand_0  56.232609 -35.335724  2.89340  19.831900   -1.0      0.6034   \n",
       "1  UDGcand_2  55.633900 -35.866928  2.63998  20.237101   -1.0      0.7488   \n",
       "2  UDGcand_3  55.688835 -35.471954  1.97838  21.729500   -1.0      0.8003   \n",
       "3  UDGcand_4  55.832767 -35.379551  5.79236  18.351999   -1.0      0.6255   \n",
       "4  UDGcand_5  56.058018 -35.596409  2.98190  19.478001   -1.0      0.8144   \n",
       "\n",
       "   pos_angle       n          u  ...        ge        re        ie     Reffe  \\\n",
       "0 -27.775499  1.0271  22.426844  ...  0.054816  0.046306  0.044244  0.332842   \n",
       "1  15.694100  1.6470  25.864775  ...  0.160716  0.051180  0.041536  0.378239   \n",
       "2  10.619600  0.3000  23.426687  ...  0.125680  0.112662  0.066605  0.452366   \n",
       "3  61.521198  6.1206  22.914799  ...  0.090910  0.037912  0.041479  0.688735   \n",
       "4 -11.880000  0.8693  22.430893  ...  0.055276  0.043606  0.043281  0.349424   \n",
       "\n",
       "     r_mage        ne         C      mue_r       bae   RFF  \n",
       "0  0.131324  0.117142  2.764210  23.585331  0.027318 -99.0  \n",
       "1  0.166238  0.140836  3.494850  24.025892  0.032711 -99.0  \n",
       "2  0.274637  0.208488  1.926754  24.964056  0.048007 -99.0  \n",
       "3  0.136073  0.120439  3.838429  23.651720  0.028070 -99.0  \n",
       "4  0.133957  0.118973  2.764210  23.622435  0.027735 -99.0  \n",
       "\n",
       "[5 rows x 24 columns]"
      ]
     },
     "execution_count": 14,
     "metadata": {},
     "output_type": "execute_result"
    }
   ],
   "source": [
    "pd.read_csv('./sf_spacefluff_object_data.csv', comment=\"#\").head()"
   ]
  }
 ],
 "metadata": {
  "kernelspec": {
   "display_name": "Python 3",
   "language": "python",
   "name": "python3"
  },
  "language_info": {
   "codemirror_mode": {
    "name": "ipython",
    "version": 3
   },
   "file_extension": ".py",
   "mimetype": "text/x-python",
   "name": "python",
   "nbconvert_exporter": "python",
   "pygments_lexer": "ipython3",
   "version": "3.9.0"
  }
 },
 "nbformat": 4,
 "nbformat_minor": 4
}
