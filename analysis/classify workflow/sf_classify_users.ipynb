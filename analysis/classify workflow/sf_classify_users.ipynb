{
 "cells": [
  {
   "cell_type": "markdown",
   "metadata": {},
   "source": [
    "### Look into distribution of number of classifications made per user for `classify_classifications.csv`:"
   ]
  },
  {
   "cell_type": "code",
   "execution_count": 36,
   "metadata": {},
   "outputs": [],
   "source": [
    "import json\n",
    "import numpy as np\n",
    "import pandas as pd\n",
    "import matplotlib.pyplot as plt\n",
    "from matplotlib import rc\n",
    "from dateutil.parser import parse\n",
    "\n",
    "import sys\n",
    "sys.path.append('..')\n",
    "from sf import getFilename, parseTime, extract_task_value, percentageVotesForAnswer, extractTaskValue, get_power_users, make_df_vote_threshold\n",
    "from datetime import date\n",
    "from collections import OrderedDict, Counter\n",
    "\n",
    "%matplotlib inline"
   ]
  },
  {
   "cell_type": "code",
   "execution_count": 35,
   "metadata": {},
   "outputs": [
    {
     "data": {
      "text/plain": [
       "<module 'sf' from '..\\\\sf.py'>"
      ]
     },
     "execution_count": 35,
     "metadata": {},
     "output_type": "execute_result"
    }
   ],
   "source": [
    "# reload sf import while I'm working on extracting functionality to it from notebooks\n",
    "from importlib import reload\n",
    "import sf\n",
    "reload(sf)"
   ]
  },
  {
   "cell_type": "code",
   "execution_count": 3,
   "metadata": {},
   "outputs": [],
   "source": [
    "font = {\n",
    "    'family': 'Verdana',\n",
    "    'weight': '300',\n",
    "    'size': 12\n",
    "}\n",
    "\n",
    "rc('font', **font)"
   ]
  },
  {
   "cell_type": "markdown",
   "metadata": {},
   "source": [
    "- ### Extract and parse dataframe:"
   ]
  },
  {
   "cell_type": "code",
   "execution_count": 4,
   "metadata": {},
   "outputs": [
    {
     "name": "stdout",
     "output_type": "stream",
     "text": [
      "Index(['classification_id', 'user_name', 'user_id', 'user_ip', 'workflow_id',\n",
      "       'workflow_name', 'workflow_version', 'created_at', 'gold_standard',\n",
      "       'expert', 'metadata', 'annotations', 'subject_data', 'subject_ids',\n",
      "       'Filename', 'Task0', 'Task1', 'retired'],\n",
      "      dtype='object')\n"
     ]
    }
   ],
   "source": [
    "# load dataframe\n",
    "df = pd.read_csv('./df.csv', delimiter=\",\")\n",
    "\n",
    "# inspect column names\n",
    "print(df.keys())"
   ]
  },
  {
   "cell_type": "markdown",
   "metadata": {},
   "source": [
    "- ### Look into distribution of votes per user:"
   ]
  },
  {
   "cell_type": "code",
   "execution_count": 5,
   "metadata": {},
   "outputs": [
    {
     "name": "stdout",
     "output_type": "stream",
     "text": [
      "Unique users by name: 1783\n",
      "Unique users by id: 1136\n"
     ]
    }
   ],
   "source": [
    "users = df['user_name']\n",
    "\n",
    "print('Unique users by name: {}'.format(users.unique().shape[0]))\n",
    "print('Unique users by id: {}'.format(df['user_id'].unique().shape[0]))"
   ]
  },
  {
   "cell_type": "markdown",
   "metadata": {},
   "source": [
    "@note: Users not logged in don't get assigned an id (see next cell), so don't use the user_id field for this!"
   ]
  },
  {
   "cell_type": "code",
   "execution_count": 6,
   "metadata": {},
   "outputs": [],
   "source": [
    "# df[df['user_id'].isnull()].head()"
   ]
  },
  {
   "cell_type": "code",
   "execution_count": 7,
   "metadata": {},
   "outputs": [],
   "source": [
    "groupby_username = df.groupby(['user_name'])"
   ]
  },
  {
   "cell_type": "code",
   "execution_count": 8,
   "metadata": {},
   "outputs": [],
   "source": [
    "classifications_per_user = np.array([len(classifications) for (user_name, classifications) in groupby_username])"
   ]
  },
  {
   "cell_type": "code",
   "execution_count": 9,
   "metadata": {},
   "outputs": [
    {
     "data": {
      "text/plain": [
       "{'median': 14.0, 'mean': 52.09927089175547, 'st. dev': 175.81668649844124}"
      ]
     },
     "execution_count": 9,
     "metadata": {},
     "output_type": "execute_result"
    }
   ],
   "source": [
    "basic_count_stats = {\n",
    "    'median': np.median(classifications_per_user),\n",
    "    'mean': np.mean(classifications_per_user),\n",
    "    'st. dev': np.std(classifications_per_user)\n",
    "}\n",
    "\n",
    "basic_count_stats"
   ]
  },
  {
   "cell_type": "code",
   "execution_count": 10,
   "metadata": {},
   "outputs": [],
   "source": [
    "unique_classification_counts = set(classifications_per_user)"
   ]
  },
  {
   "cell_type": "code",
   "execution_count": 11,
   "metadata": {},
   "outputs": [],
   "source": [
    "occurrences = OrderedDict(sorted(Counter(classifications_per_user).items()))"
   ]
  },
  {
   "cell_type": "code",
   "execution_count": 12,
   "metadata": {},
   "outputs": [
    {
     "data": {
      "image/png": "[encoded data removed]",
      "text/plain": [
       "<Figure size 576x864 with 2 Axes>"
      ]
     },
     "metadata": {
      "needs_background": "light"
     },
     "output_type": "display_data"
    }
   ],
   "source": [
    "fig, fr = plt.subplots(2,1, figsize=(8,12))\n",
    "\n",
    "fr[0].hist(classifications_per_user, bins=50)\n",
    "fr[0].update({\n",
    "    'xlim': (0),\n",
    "})\n",
    "\n",
    "fr[1].hist(classifications_per_user, range=[0,100], bins=50)\n",
    "fr[1].update({\n",
    "    'xlim': (0, 100),\n",
    "    \n",
    "})\n",
    "\n",
    "for i in range(2):\n",
    "    fr[i].grid(which='both', alpha=0.3)\n",
    "    fr[i].update({\n",
    "        'xlabel': '# classifications by user',\n",
    "        'ylabel': '# users'\n",
    "    })"
   ]
  },
  {
   "cell_type": "code",
   "execution_count": 13,
   "metadata": {},
   "outputs": [],
   "source": [
    "# from pprint import pprint\n",
    "\n",
    "# pprint(occurrences)"
   ]
  },
  {
   "cell_type": "code",
   "execution_count": 18,
   "metadata": {},
   "outputs": [],
   "source": [
    "def percentage_votes_within_limit(classifications_per_user, limit):\n",
    "    return round(100*len(classifications_per_user[classifications_per_user <= limit])/len(classifications_per_user), 1)"
   ]
  },
  {
   "cell_type": "code",
   "execution_count": 19,
   "metadata": {},
   "outputs": [
    {
     "name": "stdout",
     "output_type": "stream",
     "text": [
      "% of people with <=   25 classifications: 64.9\n",
      "% of people with <=   50 classifications: 79.6\n",
      "% of people with <=  100 classifications: 89.0\n",
      "% of people with <=  250 classifications: 96.5\n",
      "% of people with <=  500 classifications: 98.8\n",
      "% of people with <= 1000 classifications: 99.5\n"
     ]
    }
   ],
   "source": [
    "for limit in [25, 50, 100, 250, 500, 1000]:\n",
    "    print('% of people with <= {:>4} classifications: {}'.format(limit, percentage_votes_within_limit(classifications_per_user, limit)))"
   ]
  },
  {
   "cell_type": "markdown",
   "metadata": {},
   "source": [
    "- Users that made at least `n` classifications:"
   ]
  },
  {
   "cell_type": "code",
   "execution_count": 26,
   "metadata": {},
   "outputs": [
    {
     "data": {
      "text/plain": [
       "[{'username': 'Brietterick', 'votes': 702},\n",
       " {'username': 'CGrenfell', 'votes': 1109},\n",
       " {'username': 'DieBeck', 'votes': 888},\n",
       " {'username': 'Hippo_in_the_Lab', 'votes': 2837},\n",
       " {'username': 'Jan225', 'votes': 2402},\n",
       " {'username': 'KH0202', 'votes': 2368},\n",
       " {'username': 'Prothon', 'votes': 694},\n",
       " {'username': 'Ruffle23', 'votes': 597},\n",
       " {'username': 'Sani275', 'votes': 513},\n",
       " {'username': 'Srinni', 'votes': 759},\n",
       " {'username': 'bhavret', 'votes': 664},\n",
       " {'username': 'chrisnewlon', 'votes': 890},\n",
       " {'username': 'fleshbond', 'votes': 1727},\n",
       " {'username': 'graham_d', 'votes': 1841},\n",
       " {'username': 'jen1931', 'votes': 691},\n",
       " {'username': 'jsmci', 'votes': 656},\n",
       " {'username': 'kileyvonb', 'votes': 1434},\n",
       " {'username': 'kscheller', 'votes': 2762},\n",
       " {'username': 'pga99', 'votes': 580},\n",
       " {'username': 'piano.maya', 'votes': 2765},\n",
       " {'username': 'rtakesue', 'votes': 714}]"
      ]
     },
     "execution_count": 26,
     "metadata": {},
     "output_type": "execute_result"
    }
   ],
   "source": [
    "get_power_users(df, 500)"
   ]
  }
 ],
 "metadata": {
  "kernelspec": {
   "display_name": "Python 3",
   "language": "python",
   "name": "python3"
  },
  "language_info": {
   "codemirror_mode": {
    "name": "ipython",
    "version": 3
   },
   "file_extension": ".py",
   "mimetype": "text/x-python",
   "name": "python",
   "nbconvert_exporter": "python",
   "pygments_lexer": "ipython3",
   "version": "3.9.0"
  }
 },
 "nbformat": 4,
 "nbformat_minor": 4
}
