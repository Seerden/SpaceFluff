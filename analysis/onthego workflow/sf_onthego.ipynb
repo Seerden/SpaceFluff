{
 "cells": [
  {
   "cell_type": "code",
   "execution_count": 348,
   "metadata": {},
   "outputs": [
    {
     "data": {
      "text/plain": [
       "(<module 'sf_lib' from '../..\\\\sf_lib\\\\__init__.py'>,\n",
       " <module 'sf_lib.sf' from '../..\\\\sf_lib\\\\sf.py'>,\n",
       " <module 'sf_lib.df' from '../..\\\\sf_lib\\\\df.py'>)"
      ]
     },
     "execution_count": 348,
     "metadata": {},
     "output_type": "execute_result"
    }
   ],
   "source": [
    "# reload sf import while I'm working on extracting functionality to it from notebooks\n",
    "from importlib import reload\n",
    "import sf_lib\n",
    "import sf_lib.sf\n",
    "import sf_lib.df\n",
    "reload(sf_lib), reload(sf_lib.sf), reload(sf_lib.df)"
   ]
  },
  {
   "cell_type": "code",
   "execution_count": 349,
   "metadata": {},
   "outputs": [],
   "source": [
    "import numpy as np\n",
    "import pandas as pd\n",
    "import json\n",
    "import matplotlib.pyplot as plt\n",
    "from datetime import date\n",
    "\n",
    "import sys\n",
    "sys.path.append('../..')\n",
    "\n",
    "from sf_lib.df import extract_task_value, extractTaskValue, json_parser, make_df_classify, make_df_tasks_with_props\n",
    "from sf_lib.sf import (\n",
    "    get_running_vote_fraction,\n",
    "    getFilename, \n",
    "    getMetadataValue, \n",
    "    parseTime, \n",
    "    getGroupSize, \n",
    "    extractTaskValue\n",
    ")\n",
    "\n",
    "%matplotlib inline\n",
    "\n",
    "import warnings\n",
    "warnings.filterwarnings('ignore')"
   ]
  },
  {
   "cell_type": "code",
   "execution_count": 350,
   "metadata": {},
   "outputs": [],
   "source": [
    "object_info = pd.read_csv('../../catalogue/sf_spacefluff_object_data.csv', comment=\"#\")\n",
    "candidate_names_classify = np.loadtxt('../sf_candidate_names__classification-classify.txt', dtype='str')\n",
    "catalogue_targets = np.loadtxt('../../catalogue/sf_catalogue_targets.txt', dtype='str')"
   ]
  },
  {
   "cell_type": "code",
   "execution_count": 351,
   "metadata": {},
   "outputs": [],
   "source": [
    "task_indices_hardcore = [0, 2, 1, 3, 4, 5, 9]"
   ]
  },
  {
   "cell_type": "code",
   "execution_count": 353,
   "metadata": {},
   "outputs": [],
   "source": [
    "converters = {}\n",
    "for col in ['annotations']:\n",
    "    converters[col] = json_parser"
   ]
  },
  {
   "cell_type": "code",
   "execution_count": 354,
   "metadata": {},
   "outputs": [],
   "source": [
    "df = make_df_classify('onthego', [0])"
   ]
  },
  {
   "cell_type": "code",
   "execution_count": 8,
   "metadata": {},
   "outputs": [],
   "source": [
    "df_votes = make_df_tasks_with_props(df, candidate_names_classify, object_info, onthego=True)"
   ]
  },
  {
   "cell_type": "code",
   "execution_count": 356,
   "metadata": {},
   "outputs": [],
   "source": [
    "df_classify = make_df_classify('classify', [0,1])\n",
    "df_hardcore = make_df_classify('hardcore', task_indices_hardcore)\n",
    "\n",
    "df_votes_clas = make_df_tasks_with_props(df_classify, candidate_names_classify, object_info, onthego=False)"
   ]
  },
  {
   "cell_type": "markdown",
   "metadata": {},
   "source": [
    "## Make various queries:"
   ]
  },
  {
   "cell_type": "code",
   "execution_count": 357,
   "metadata": {},
   "outputs": [],
   "source": [
    "in_catalogue = df_votes.query(\"name.isin(@catalogue_targets)\")\n",
    "cols = ['% votes Galaxy', '% votes Group of objects (cluster)', '% votes Something else/empty center']"
   ]
  },
  {
   "cell_type": "code",
   "execution_count": 358,
   "metadata": {},
   "outputs": [
    {
     "data": {
      "image/png": "[encoded data removed]",
      "text/plain": [
       "<Figure size 432x288 with 1 Axes>"
      ]
     },
     "metadata": {
      "needs_background": "light"
     },
     "output_type": "display_data"
    }
   ],
   "source": [
    "fig, fr = plt.subplots()\n",
    "\n",
    "for i in range(3):\n",
    "    fr.hist(in_catalogue[cols[i]], alpha=0.5, label=cols[i])\n",
    "\n",
    "    \n",
    "fr.set_xlim(0, 100)\n",
    "fr.legend()\n",
    "fr.grid(alpha=0.3, which='both')"
   ]
  },
  {
   "cell_type": "code",
   "execution_count": 47,
   "metadata": {},
   "outputs": [],
   "source": [
    "def plot_votes_per_user_histogram(cls_per_user_list, labels):\n",
    "    fig, fr = plt.subplots(1,2, figsize=(12,4))\n",
    "    \n",
    "    for index, cls_per_user in enumerate(cls_per_user_list):\n",
    "        fr[0].hist(cls_per_user, bins=50, alpha=0.4, label=labels[index])\n",
    "        fr[1].hist(cls_per_user, bins=50, range=[0,200], alpha=0.4, label=labels[index])\n",
    "\n",
    "    for idx in range(2):\n",
    "        fr[idx].grid(alpha=0.3, which='both')\n",
    "        fr[idx].update({\n",
    "            'xlabel': '# votes per user',\n",
    "            'ylabel': '# users',\n",
    "            'xlim': (0)\n",
    "        })\n",
    "        fr[idx].legend()\n",
    "\n",
    "    plt.show()"
   ]
  },
  {
   "cell_type": "code",
   "execution_count": 257,
   "metadata": {},
   "outputs": [],
   "source": [
    "def plot_running_vote_fraction(data):\n",
    "    fig, fr = plt.subplots(1,2, figsize=(12,4.5))\n",
    "\n",
    "    scales = ['linear', 'log']\n",
    "\n",
    "    for index, _ in enumerate(data):\n",
    "        counts, running_fraction, label = data[index].values()\n",
    "        for i in range(len(fr)):\n",
    "            fr[i].plot(counts, running_fraction, label=label)\n",
    "\n",
    "    for i in range(len(fr)):\n",
    "        fr[i].update({\n",
    "            'xlabel': r'$n$',\n",
    "            'ylabel': 'Cumulative vote fraction',\n",
    "            'xscale': scales[i],\n",
    "            'xlim': (0),\n",
    "            'ylim': (0,1)\n",
    "        })\n",
    "\n",
    "        fr[i].grid(which='both', alpha=0.3)\n",
    "        fr[i].legend()\n",
    "    \n",
    "    fig.suptitle(\"Fraction of votes cast by all users that made at least $n$ classifications\")\n",
    "    \n",
    "    plt.savefig('running vote fraction.png', dpi=350)\n",
    "    plt.show()"
   ]
  },
  {
   "cell_type": "code",
   "execution_count": 16,
   "metadata": {},
   "outputs": [],
   "source": [
    "fraction_classify = get_running_vote_fraction(df_classify)\n",
    "fraction_onthego = get_running_vote_fraction(df)\n",
    "fraction_hc = get_running_vote_fraction(df_hardcore)"
   ]
  },
  {
   "cell_type": "code",
   "execution_count": 360,
   "metadata": {},
   "outputs": [
    {
     "data": {
      "image/png": "[encoded data removed]",
      "text/plain": [
       "<Figure size 864x288 with 2 Axes>"
      ]
     },
     "metadata": {
      "needs_background": "light"
     },
     "output_type": "display_data"
    }
   ],
   "source": [
    "fraction_onthego = get_running_vote_fraction(df)\n",
    "plot_votes_per_user_histogram([\n",
    "    fraction_onthego[1],\n",
    "    fraction_hc[1],\n",
    "    fraction_classify[1]\n",
    "], ['onthego', 'hardcore', 'classify'])"
   ]
  },
  {
   "cell_type": "code",
   "execution_count": 3,
   "metadata": {},
   "outputs": [],
   "source": [
    "# fig, fr = plt.subplots(1,3,figsize=(15,4))\n",
    "\n",
    "# cls_per_user_list = [fraction_onthego[1],fraction_hc[1],fraction_classify[1]]\n",
    "# labels = ['onthego','hardcore','classify']\n",
    "\n",
    "# for i, cls_per_user in enumerate(cls_per_user_list):\n",
    "#     fr[i].hist(cls_per_user, bins=50, range=[0,500], alpha=1, label=labels[i])\n",
    "\n",
    "#     fr[i].grid(alpha=0.3, which='both')\n",
    "#     fr[i].update({\n",
    "#         'xlabel': '# votes per user',\n",
    "#         'ylabel': '# users',\n",
    "#         'xlim': (0)\n",
    "#     })\n",
    "#     fr[i].legend()\n",
    "#     fr[i].text(0.7, 0.8, 'N = {}'.format(sum(cls_per_user)), c='red', size=12, transform=fr[i].transAxes)\n",
    "\n",
    "# plt.tight_layout()\n",
    "\n",
    "# fig, fr = plt.subplots(1,3,figsize=(15,4))\n",
    "# for i, cls_per_user in enumerate(cls_per_user_list):\n",
    "#     fr[i].hist(cls_per_user, bins=50, alpha=1, label=labels[i])\n",
    "\n",
    "#     fr[i].grid(alpha=0.25, which='both')\n",
    "#     fr[i].update({\n",
    "#         'xlabel': '# votes per user',\n",
    "#         'ylabel': '# users',\n",
    "#         'xlim': (0),\n",
    "#         'yscale': 'log'\n",
    "#     })\n",
    "#     fr[i].legend()\n",
    "#     fr[i].text(0.75, 0.8, 'N = {}'.format(sum(cls_per_user)), c='red', size=12, transform=fr[i].transAxes)\n",
    "\n",
    "# plt.tight_layout()\n",
    "# # plt.savefig('user vote counts.png', dpi=350)\n",
    "# plt.show()\n"
   ]
  },
  {
   "cell_type": "code",
   "execution_count": 4,
   "metadata": {},
   "outputs": [],
   "source": [
    "# plot_running_vote_fraction([\n",
    "#     {\n",
    "#         'counts': fraction_classify[2],\n",
    "#         'running_fraction': fraction_classify[3],\n",
    "#         'label': 'Classify!'\n",
    "#     },\n",
    "#     {\n",
    "#         'counts': fraction_onthego[2],\n",
    "#         'running_fraction': fraction_onthego[3],\n",
    "#         'label': 'on-the-go'\n",
    "#     },\n",
    "#     {\n",
    "#         'counts': fraction_hc[2],\n",
    "#         'running_fraction': fraction_hc[3],\n",
    "#         'label': 'hardcore'\n",
    "#     }\n",
    "    \n",
    "# ])"
   ]
  },
  {
   "cell_type": "code",
   "execution_count": 19,
   "metadata": {},
   "outputs": [],
   "source": [
    "dfs = [df_hardcore, df_classify, df]"
   ]
  },
  {
   "cell_type": "code",
   "execution_count": 362,
   "metadata": {},
   "outputs": [],
   "source": [
    "# get a list of all users in each workflow\n",
    "users = []\n",
    "for df in dfs:\n",
    "    users.append(list(set(df['user_name'])))    "
   ]
  },
  {
   "cell_type": "code",
   "execution_count": 363,
   "metadata": {},
   "outputs": [],
   "source": [
    "# three pairs of indices, to find user intersection in each combination of workflows\n",
    "indices = [[0,1], [0,2], [1,2]]\n",
    "\n",
    "user_overlap = []\n",
    "for pair in indices:\n",
    "    i, j = pair\n",
    "    user_overlap.append(list(set(users[i]) & set(users[j])))"
   ]
  },
  {
   "cell_type": "code",
   "execution_count": 364,
   "metadata": {},
   "outputs": [
    {
     "name": "stdout",
     "output_type": "stream",
     "text": [
      "191\n",
      "145\n",
      "149\n"
     ]
    }
   ],
   "source": [
    "for i in range(3):\n",
    "    print(len(user_overlap[i]))"
   ]
  },
  {
   "cell_type": "markdown",
   "metadata": {},
   "source": [
    "So \n",
    "- 191 are in both hardcore and classify,\n",
    "- 145 are in both hardcore and onthego,\n",
    "- 149 are in both classify and onthego"
   ]
  },
  {
   "cell_type": "code",
   "execution_count": 24,
   "metadata": {},
   "outputs": [],
   "source": [
    "# check overlap in [0,1], so between hardcore and classify\n",
    "objects_per_user = []\n",
    "\n",
    "i,j = indices[0]\n",
    "for user in user_overlap[0]:\n",
    "    objects = []\n",
    "    \n",
    "    class_i = dfs[i][['Filename', 'user_name', 'T0']].query(\"user_name == @user\")\n",
    "    class_j = dfs[j][['Filename', 'user_name', 'T0']].query(\"user_name == @user\")\n",
    "    \n",
    "    objects_i = class_i['Filename'].values\n",
    "    objects_j = class_j['Filename'].values\n",
    "    \n",
    "    object_overlap = list(set(objects_i) & set(objects_j))\n",
    "    \n",
    "    values_match = []\n",
    "    for obj in object_overlap:\n",
    "        i_val = class_i.query('Filename == @obj')['T0'].values\n",
    "        j_val = class_j.query('Filename == @obj')['T0'].values\n",
    "        values_match.append(i_val[0] == j_val[0])\n",
    "    \n",
    "    objects_per_user.append({\n",
    "        'user': user,\n",
    "        'objects': list(zip(object_overlap, values_match))\n",
    "    })"
   ]
  },
  {
   "cell_type": "code",
   "execution_count": 366,
   "metadata": {},
   "outputs": [
    {
     "data": {
      "text/plain": [
       "{'user': 'Galel', 'objects': [('UDGcand_2195', True)]}"
      ]
     },
     "execution_count": 366,
     "metadata": {},
     "output_type": "execute_result"
    }
   ],
   "source": [
    "objects_per_user[1]"
   ]
  },
  {
   "cell_type": "code",
   "execution_count": 26,
   "metadata": {},
   "outputs": [],
   "source": [
    "agrees_with_self_fraction = []\n",
    "\n",
    "for entry in objects_per_user:\n",
    "    user = entry['user']\n",
    "    objects = entry['objects']\n",
    "    \n",
    "    match = [val[1] for val in objects]\n",
    "    if len(match) > 0:\n",
    "        agrees_with_self_fraction.append([user, len(match), match.count(True)/len(match)])"
   ]
  },
  {
   "cell_type": "code",
   "execution_count": 27,
   "metadata": {},
   "outputs": [
    {
     "data": {
      "text/plain": [
       "<matplotlib.collections.PathCollection at 0x1de06613e50>"
      ]
     },
     "execution_count": 27,
     "metadata": {},
     "output_type": "execute_result"
    },
    {
     "data": {
      "image/png": "[encoded data removed]",
      "text/plain": [
       "<Figure size 432x288 with 1 Axes>"
      ]
     },
     "metadata": {
      "needs_background": "light"
     },
     "output_type": "display_data"
    }
   ],
   "source": [
    "usernames, overlap_count, agree_fraction = np.array(agrees_with_self_fraction).T\n",
    "\n",
    "overlap_count = overlap_count.astype('float')\n",
    "agree_fraction = agree_fraction.astype('float')\n",
    "\n",
    "plt.scatter(overlap_count, agree_fraction)\n"
   ]
  },
  {
   "cell_type": "markdown",
   "metadata": {},
   "source": [
    "## (for thesis) unique user count"
   ]
  },
  {
   "cell_type": "code",
   "execution_count": 34,
   "metadata": {},
   "outputs": [
    {
     "data": {
      "text/plain": [
       "3700"
      ]
     },
     "execution_count": 34,
     "metadata": {},
     "output_type": "execute_result"
    }
   ],
   "source": [
    "unique_users = set.union(set(df['user_name']), set(df_classify['user_name']), set(df_hardcore['user_name']))\n",
    "len(unique_users)"
   ]
  },
  {
   "cell_type": "code",
   "execution_count": 36,
   "metadata": {},
   "outputs": [],
   "source": [
    "match = 'not-logged-in-'\n",
    "no_account_count = 0\n",
    "\n",
    "for user in unique_users:\n",
    "    if match in user:\n",
    "        no_account_count += 1"
   ]
  },
  {
   "cell_type": "code",
   "execution_count": 38,
   "metadata": {},
   "outputs": [
    {
     "data": {
      "text/plain": [
       "2136"
      ]
     },
     "execution_count": 38,
     "metadata": {},
     "output_type": "execute_result"
    }
   ],
   "source": [
    "len(unique_users) - no_account_count"
   ]
  },
  {
   "cell_type": "code",
   "execution_count": 42,
   "metadata": {},
   "outputs": [
    {
     "data": {
      "text/plain": [
       "233375"
      ]
     },
     "execution_count": 42,
     "metadata": {},
     "output_type": "execute_result"
    }
   ],
   "source": [
    "sum([df.shape[0], df_classify.shape[0], df_hardcore.shape[0]])"
   ]
  },
  {
   "cell_type": "code",
   "execution_count": 46,
   "metadata": {},
   "outputs": [
    {
     "name": "stdout",
     "output_type": "stream",
     "text": [
      "63790\n",
      "92893\n",
      "76692\n"
     ]
    }
   ],
   "source": [
    "for df in dfs:\n",
    "    print(df.query('~T0.isnull()').shape[0])"
   ]
  },
  {
   "cell_type": "markdown",
   "metadata": {},
   "source": [
    "## (for thesis) Vote count per object per workflow "
   ]
  },
  {
   "cell_type": "code",
   "execution_count": 253,
   "metadata": {},
   "outputs": [
    {
     "data": {
      "image/png": "[encoded data removed]",
      "text/plain": [
       "<Figure size 1080x288 with 3 Axes>"
      ]
     },
     "metadata": {
      "needs_background": "light"
     },
     "output_type": "display_data"
    }
   ],
   "source": [
    "def plot_votecount(_df, title, fr=None):\n",
    "    classifications_per_object = []\n",
    "\n",
    "    for name, group in _df.groupby('Filename'):\n",
    "        classifications_per_object.append(len(group))\n",
    "\n",
    "    counts = {k: classifications_per_object.count(k) for k in set(classifications_per_object)}\n",
    "    labels, counts = np.unique(classifications_per_object, return_counts=True)\n",
    "\n",
    "    if not fr:\n",
    "        fig, fr = plt.subplots(figsize=(7,4))\n",
    "        \n",
    "    fr.bar(labels, counts, align='center')\n",
    "    fr.grid(alpha=0.3, which='both')\n",
    "    fr.set_xlabel('# classifications per object')\n",
    "    fr.set_ylabel('# objects')\n",
    "    fr.set_title(title)\n",
    "\n",
    "    if not fr:\n",
    "        plt.show()\n",
    "    \n",
    "    return counts\n",
    "\n",
    "fig, fr = plt.subplots(1,3, figsize=(15,4))\n",
    "for i, (df, title) in enumerate(zip(dfs, ['Hardcore workflow', 'Classify! workflow', 'On-the-Go workflow'])):\n",
    "    plot_votecount(df, title, fr[i])\n",
    "    \n",
    "fig.tight_layout()\n",
    "\n",
    "plt.savefig('votes per object per category.png', dpi=350)\n",
    "plt.show()"
   ]
  },
  {
   "cell_type": "markdown",
   "metadata": {},
   "source": [
    "## (for thesis): unique task descriptions and answers"
   ]
  },
  {
   "cell_type": "markdown",
   "metadata": {},
   "source": [
    "Tasks per category: \n",
    "- onthego: [0]\n",
    "- classify: [0, 1]\n",
    "- hardcore:[0, 2, 1, 3, 4, 5, 9]"
   ]
  },
  {
   "cell_type": "code",
   "execution_count": 421,
   "metadata": {},
   "outputs": [],
   "source": [
    "hardcore_tasks = [0,2,1,3,4,5,9]\n",
    "\n",
    "annot = []\n",
    "for i in hardcore_tasks:\n",
    "    task = 'T{}'.format(i)\n",
    "    annot.append(df_hardcore.query(\"~{}.isnull()\".format(task)).head(1).iloc[0]['annotations'])"
   ]
  },
  {
   "cell_type": "code",
   "execution_count": 424,
   "metadata": {},
   "outputs": [],
   "source": [
    "tasks_in_workflow = set([(j['task'], j['task_label']) for i in annot for j in i])"
   ]
  },
  {
   "cell_type": "code",
   "execution_count": 431,
   "metadata": {},
   "outputs": [
    {
     "name": "stdout",
     "output_type": "stream",
     "text": [
      "T5 | How would you describe the texture of the galaxy? \n",
      " Answers: [None, 'Smooth and fuzzy', 'Smooth and dense', 'Clumpy and/or featured']\n",
      "\n",
      "T0 | Look at the very center of the image: do you see a single galaxy or a group of far away objects?  \n",
      " Answers: ['Galaxy', 'Group of objects (Cluster)', 'Something else/empty center']\n",
      "\n",
      "T4 | What shape is the galaxy? \n",
      " Answers: ['Distorted/disturbed', 'Elliptical', None, 'Round']\n",
      "\n",
      "T9 | Our bad! what do you see instead? \n",
      " Answers: [None, 'Something else', 'Looks like a small star', 'Scattered light', 'Nothing: background too bright or galaxy too faint']\n",
      "\n",
      "T1 | What color is the galaxy? \n",
      " Answers: ['Impossible to say', 'White/blue', None, 'Red/yellow']\n",
      "\n",
      "T3 | Does the galaxy have a visible core? \n",
      " Answers: ['No/Unsure', None, 'Yes, a bright point', 'Yes, a bulge']\n",
      "\n",
      "T2 | Is the galaxy fluffy or is it bright? \n",
      " Answers: ['Fluffy', None, 'Bright']\n",
      "\n"
     ]
    }
   ],
   "source": [
    "for t, desc in tasks_in_workflow:\n",
    "    print('{} | {} \\n Answers: {}\\n'.format(t, desc, list(df_hardcore['{}'.format(t)].unique())))"
   ]
  },
  {
   "cell_type": "code",
   "execution_count": 477,
   "metadata": {},
   "outputs": [
    {
     "name": "stdout",
     "output_type": "stream",
     "text": [
      "T0 ['Galaxy' 'Group of objects (Cluster)' 'Something else/empty center']\n",
      "T2 ['Fluffy' None 'Bright']\n",
      "T1 ['Impossible to say' 'White/blue' None 'Red/yellow']\n",
      "T3 ['No/Unsure' None 'Yes, a bright point' 'Yes, a bulge']\n",
      "T4 ['Distorted/disturbed' 'Elliptical' None 'Round']\n",
      "T5 [None 'Smooth and fuzzy' 'Smooth and dense' 'Clumpy and/or featured']\n",
      "T9 [None 'Something else' 'Looks like a small star' 'Scattered light'\n",
      " 'Nothing: background too bright or galaxy too faint']\n"
     ]
    }
   ],
   "source": [
    "for t in ['T{}'.format(task) for task in hardcore_tasks]:\n",
    "    print(t, df_hardcore.query(\"~T0.isnull()\")[t].unique())"
   ]
  },
  {
   "cell_type": "code",
   "execution_count": 478,
   "metadata": {},
   "outputs": [
    {
     "data": {
      "text/html": [
       "<div>\n",
       "<style scoped>\n",
       "    .dataframe tbody tr th:only-of-type {\n",
       "        vertical-align: middle;\n",
       "    }\n",
       "\n",
       "    .dataframe tbody tr th {\n",
       "        vertical-align: top;\n",
       "    }\n",
       "\n",
       "    .dataframe thead th {\n",
       "        text-align: right;\n",
       "    }\n",
       "</style>\n",
       "<table border=\"1\" class=\"dataframe\">\n",
       "  <thead>\n",
       "    <tr style=\"text-align: right;\">\n",
       "      <th></th>\n",
       "      <th>Filename</th>\n",
       "      <th>classification_id</th>\n",
       "      <th>user_name</th>\n",
       "      <th>user_id</th>\n",
       "      <th>user_ip</th>\n",
       "      <th>workflow_id</th>\n",
       "      <th>workflow_name</th>\n",
       "      <th>workflow_version</th>\n",
       "      <th>created_at</th>\n",
       "      <th>expert</th>\n",
       "      <th>...</th>\n",
       "      <th>annotations</th>\n",
       "      <th>subject_data</th>\n",
       "      <th>subject_ids</th>\n",
       "      <th>T0</th>\n",
       "      <th>T2</th>\n",
       "      <th>T1</th>\n",
       "      <th>T3</th>\n",
       "      <th>T4</th>\n",
       "      <th>T5</th>\n",
       "      <th>T9</th>\n",
       "    </tr>\n",
       "  </thead>\n",
       "  <tbody>\n",
       "    <tr>\n",
       "      <th>5939</th>\n",
       "      <td>UDGcand_6260</td>\n",
       "      <td>281654598</td>\n",
       "      <td>YelenaK</td>\n",
       "      <td>2173685.0</td>\n",
       "      <td>59cc3d450af2cb56f63e</td>\n",
       "      <td>14226</td>\n",
       "      <td>Classify! Hardcore edition</td>\n",
       "      <td>99.144</td>\n",
       "      <td>2020-10-20 04:25:18+00:00</td>\n",
       "      <td>NaN</td>\n",
       "      <td>...</td>\n",
       "      <td>[{'task': 'T0', 'task_label': 'Look at the ver...</td>\n",
       "      <td>{'43857828': {'retired': None, 'Filename': 'UD...</td>\n",
       "      <td>43857828</td>\n",
       "      <td>Galaxy</td>\n",
       "      <td>Fluffy</td>\n",
       "      <td>Impossible to say</td>\n",
       "      <td>No/Unsure</td>\n",
       "      <td>Distorted/disturbed</td>\n",
       "      <td>None</td>\n",
       "      <td>None</td>\n",
       "    </tr>\n",
       "    <tr>\n",
       "      <th>5940</th>\n",
       "      <td>UDGcand_2237</td>\n",
       "      <td>281654744</td>\n",
       "      <td>YelenaK</td>\n",
       "      <td>2173685.0</td>\n",
       "      <td>59cc3d450af2cb56f63e</td>\n",
       "      <td>14226</td>\n",
       "      <td>Classify! Hardcore edition</td>\n",
       "      <td>99.144</td>\n",
       "      <td>2020-10-20 04:26:25+00:00</td>\n",
       "      <td>NaN</td>\n",
       "      <td>...</td>\n",
       "      <td>[{'task': 'T0', 'task_label': 'Look at the ver...</td>\n",
       "      <td>{'43848698': {'retired': None, 'Filename': 'UD...</td>\n",
       "      <td>43848698</td>\n",
       "      <td>Galaxy</td>\n",
       "      <td>Fluffy</td>\n",
       "      <td>White/blue</td>\n",
       "      <td>No/Unsure</td>\n",
       "      <td>Elliptical</td>\n",
       "      <td>Smooth and fuzzy</td>\n",
       "      <td>None</td>\n",
       "    </tr>\n",
       "    <tr>\n",
       "      <th>5942</th>\n",
       "      <td>UDGcand_2621</td>\n",
       "      <td>281654797</td>\n",
       "      <td>YelenaK</td>\n",
       "      <td>2173685.0</td>\n",
       "      <td>59cc3d450af2cb56f63e</td>\n",
       "      <td>14226</td>\n",
       "      <td>Classify! Hardcore edition</td>\n",
       "      <td>99.144</td>\n",
       "      <td>2020-10-20 04:26:49+00:00</td>\n",
       "      <td>NaN</td>\n",
       "      <td>...</td>\n",
       "      <td>[{'task': 'T0', 'task_label': 'Look at the ver...</td>\n",
       "      <td>{'43849173': {'retired': None, 'Filename': 'UD...</td>\n",
       "      <td>43849173</td>\n",
       "      <td>Galaxy</td>\n",
       "      <td>Fluffy</td>\n",
       "      <td>White/blue</td>\n",
       "      <td>Yes, a bright point</td>\n",
       "      <td>Round</td>\n",
       "      <td>Smooth and fuzzy</td>\n",
       "      <td>None</td>\n",
       "    </tr>\n",
       "    <tr>\n",
       "      <th>5944</th>\n",
       "      <td>UDGcand_1211</td>\n",
       "      <td>281654888</td>\n",
       "      <td>YelenaK</td>\n",
       "      <td>2173685.0</td>\n",
       "      <td>59cc3d450af2cb56f63e</td>\n",
       "      <td>14226</td>\n",
       "      <td>Classify! Hardcore edition</td>\n",
       "      <td>99.144</td>\n",
       "      <td>2020-10-20 04:27:33+00:00</td>\n",
       "      <td>NaN</td>\n",
       "      <td>...</td>\n",
       "      <td>[{'task': 'T0', 'task_label': 'Look at the ver...</td>\n",
       "      <td>{'43843688': {'retired': None, 'Filename': 'UD...</td>\n",
       "      <td>43843688</td>\n",
       "      <td>Galaxy</td>\n",
       "      <td>Fluffy</td>\n",
       "      <td>Red/yellow</td>\n",
       "      <td>Yes, a bright point</td>\n",
       "      <td>Distorted/disturbed</td>\n",
       "      <td>Smooth and fuzzy</td>\n",
       "      <td>None</td>\n",
       "    </tr>\n",
       "    <tr>\n",
       "      <th>5948</th>\n",
       "      <td>UDGcand_231</td>\n",
       "      <td>281785146</td>\n",
       "      <td>rcuthomas</td>\n",
       "      <td>2033649.0</td>\n",
       "      <td>fcc23d63a6b18a82805f</td>\n",
       "      <td>14226</td>\n",
       "      <td>Classify! Hardcore edition</td>\n",
       "      <td>99.144</td>\n",
       "      <td>2020-10-20 18:40:59+00:00</td>\n",
       "      <td>NaN</td>\n",
       "      <td>...</td>\n",
       "      <td>[{'task': 'T0', 'task_label': 'Look at the ver...</td>\n",
       "      <td>{'50756806': {'retired': {'id': 71297686, 'wor...</td>\n",
       "      <td>50756806</td>\n",
       "      <td>Galaxy</td>\n",
       "      <td>Fluffy</td>\n",
       "      <td>Red/yellow</td>\n",
       "      <td>Yes, a bright point</td>\n",
       "      <td>Round</td>\n",
       "      <td>Smooth and dense</td>\n",
       "      <td>None</td>\n",
       "    </tr>\n",
       "    <tr>\n",
       "      <th>...</th>\n",
       "      <td>...</td>\n",
       "      <td>...</td>\n",
       "      <td>...</td>\n",
       "      <td>...</td>\n",
       "      <td>...</td>\n",
       "      <td>...</td>\n",
       "      <td>...</td>\n",
       "      <td>...</td>\n",
       "      <td>...</td>\n",
       "      <td>...</td>\n",
       "      <td>...</td>\n",
       "      <td>...</td>\n",
       "      <td>...</td>\n",
       "      <td>...</td>\n",
       "      <td>...</td>\n",
       "      <td>...</td>\n",
       "      <td>...</td>\n",
       "      <td>...</td>\n",
       "      <td>...</td>\n",
       "      <td>...</td>\n",
       "      <td>...</td>\n",
       "    </tr>\n",
       "    <tr>\n",
       "      <th>70183</th>\n",
       "      <td>UDGcand_2029</td>\n",
       "      <td>301142220</td>\n",
       "      <td>ElisabethB</td>\n",
       "      <td>123.0</td>\n",
       "      <td>bb6e4d7c0e5feaa826dc</td>\n",
       "      <td>14226</td>\n",
       "      <td>Classify! Hardcore edition</td>\n",
       "      <td>99.144</td>\n",
       "      <td>2021-01-12 11:41:56+00:00</td>\n",
       "      <td>NaN</td>\n",
       "      <td>...</td>\n",
       "      <td>[{'task': 'T0', 'task_label': 'Look at the ver...</td>\n",
       "      <td>{'52471556': {'retired': {'id': 74121047, 'wor...</td>\n",
       "      <td>52471556</td>\n",
       "      <td>Galaxy</td>\n",
       "      <td>Fluffy</td>\n",
       "      <td>Red/yellow</td>\n",
       "      <td>No/Unsure</td>\n",
       "      <td>Round</td>\n",
       "      <td>Smooth and fuzzy</td>\n",
       "      <td>None</td>\n",
       "    </tr>\n",
       "    <tr>\n",
       "      <th>70184</th>\n",
       "      <td>UDGcand_2045</td>\n",
       "      <td>301142249</td>\n",
       "      <td>ElisabethB</td>\n",
       "      <td>123.0</td>\n",
       "      <td>bb6e4d7c0e5feaa826dc</td>\n",
       "      <td>14226</td>\n",
       "      <td>Classify! Hardcore edition</td>\n",
       "      <td>99.144</td>\n",
       "      <td>2021-01-12 11:42:12+00:00</td>\n",
       "      <td>NaN</td>\n",
       "      <td>...</td>\n",
       "      <td>[{'task': 'T0', 'task_label': 'Look at the ver...</td>\n",
       "      <td>{'52471597': {'retired': {'id': 74124305, 'wor...</td>\n",
       "      <td>52471597</td>\n",
       "      <td>Galaxy</td>\n",
       "      <td>Bright</td>\n",
       "      <td>Red/yellow</td>\n",
       "      <td>Yes, a bulge</td>\n",
       "      <td>Round</td>\n",
       "      <td>Smooth and dense</td>\n",
       "      <td>None</td>\n",
       "    </tr>\n",
       "    <tr>\n",
       "      <th>70185</th>\n",
       "      <td>UDGcand_2029</td>\n",
       "      <td>301142365</td>\n",
       "      <td>not-logged-in-7eba68601ee83b6994c0</td>\n",
       "      <td>NaN</td>\n",
       "      <td>7eba68601ee83b6994c0</td>\n",
       "      <td>14226</td>\n",
       "      <td>Classify! Hardcore edition</td>\n",
       "      <td>99.144</td>\n",
       "      <td>2021-01-12 11:42:59+00:00</td>\n",
       "      <td>NaN</td>\n",
       "      <td>...</td>\n",
       "      <td>[{'task': 'T0', 'task_label': 'Look at the ver...</td>\n",
       "      <td>{'52471556': {'retired': {'id': 74121047, 'wor...</td>\n",
       "      <td>52471556</td>\n",
       "      <td>Galaxy</td>\n",
       "      <td>Fluffy</td>\n",
       "      <td>Red/yellow</td>\n",
       "      <td>No/Unsure</td>\n",
       "      <td>Round</td>\n",
       "      <td>Smooth and fuzzy</td>\n",
       "      <td>None</td>\n",
       "    </tr>\n",
       "    <tr>\n",
       "      <th>70217</th>\n",
       "      <td>UDGcand_1418</td>\n",
       "      <td>301151495</td>\n",
       "      <td>acoote</td>\n",
       "      <td>2149532.0</td>\n",
       "      <td>e755fc4e33eaf40485d9</td>\n",
       "      <td>14226</td>\n",
       "      <td>Classify! Hardcore edition</td>\n",
       "      <td>99.144</td>\n",
       "      <td>2021-01-12 13:04:07+00:00</td>\n",
       "      <td>NaN</td>\n",
       "      <td>...</td>\n",
       "      <td>[{'task': 'T0', 'task_label': 'Look at the ver...</td>\n",
       "      <td>{'52469800': {'retired': {'id': 74138543, 'wor...</td>\n",
       "      <td>52469800</td>\n",
       "      <td>Galaxy</td>\n",
       "      <td>Bright</td>\n",
       "      <td>White/blue</td>\n",
       "      <td>Yes, a bright point</td>\n",
       "      <td>Round</td>\n",
       "      <td>Smooth and dense</td>\n",
       "      <td>None</td>\n",
       "    </tr>\n",
       "    <tr>\n",
       "      <th>70218</th>\n",
       "      <td>UDGcand_4013</td>\n",
       "      <td>301151561</td>\n",
       "      <td>acoote</td>\n",
       "      <td>2149532.0</td>\n",
       "      <td>e755fc4e33eaf40485d9</td>\n",
       "      <td>14226</td>\n",
       "      <td>Classify! Hardcore edition</td>\n",
       "      <td>99.144</td>\n",
       "      <td>2021-01-12 13:04:36+00:00</td>\n",
       "      <td>NaN</td>\n",
       "      <td>...</td>\n",
       "      <td>[{'task': 'T0', 'task_label': 'Look at the ver...</td>\n",
       "      <td>{'52477928': {'retired': {'id': 74108770, 'wor...</td>\n",
       "      <td>52477928</td>\n",
       "      <td>Galaxy</td>\n",
       "      <td>Fluffy</td>\n",
       "      <td>Red/yellow</td>\n",
       "      <td>Yes, a bulge</td>\n",
       "      <td>Elliptical</td>\n",
       "      <td>Smooth and fuzzy</td>\n",
       "      <td>None</td>\n",
       "    </tr>\n",
       "  </tbody>\n",
       "</table>\n",
       "<p>28618 rows × 21 columns</p>\n",
       "</div>"
      ],
      "text/plain": [
       "           Filename  classification_id                           user_name  \\\n",
       "5939   UDGcand_6260          281654598                             YelenaK   \n",
       "5940   UDGcand_2237          281654744                             YelenaK   \n",
       "5942   UDGcand_2621          281654797                             YelenaK   \n",
       "5944   UDGcand_1211          281654888                             YelenaK   \n",
       "5948    UDGcand_231          281785146                           rcuthomas   \n",
       "...             ...                ...                                 ...   \n",
       "70183  UDGcand_2029          301142220                          ElisabethB   \n",
       "70184  UDGcand_2045          301142249                          ElisabethB   \n",
       "70185  UDGcand_2029          301142365  not-logged-in-7eba68601ee83b6994c0   \n",
       "70217  UDGcand_1418          301151495                              acoote   \n",
       "70218  UDGcand_4013          301151561                              acoote   \n",
       "\n",
       "         user_id               user_ip  workflow_id  \\\n",
       "5939   2173685.0  59cc3d450af2cb56f63e        14226   \n",
       "5940   2173685.0  59cc3d450af2cb56f63e        14226   \n",
       "5942   2173685.0  59cc3d450af2cb56f63e        14226   \n",
       "5944   2173685.0  59cc3d450af2cb56f63e        14226   \n",
       "5948   2033649.0  fcc23d63a6b18a82805f        14226   \n",
       "...          ...                   ...          ...   \n",
       "70183      123.0  bb6e4d7c0e5feaa826dc        14226   \n",
       "70184      123.0  bb6e4d7c0e5feaa826dc        14226   \n",
       "70185        NaN  7eba68601ee83b6994c0        14226   \n",
       "70217  2149532.0  e755fc4e33eaf40485d9        14226   \n",
       "70218  2149532.0  e755fc4e33eaf40485d9        14226   \n",
       "\n",
       "                    workflow_name  workflow_version                created_at  \\\n",
       "5939   Classify! Hardcore edition            99.144 2020-10-20 04:25:18+00:00   \n",
       "5940   Classify! Hardcore edition            99.144 2020-10-20 04:26:25+00:00   \n",
       "5942   Classify! Hardcore edition            99.144 2020-10-20 04:26:49+00:00   \n",
       "5944   Classify! Hardcore edition            99.144 2020-10-20 04:27:33+00:00   \n",
       "5948   Classify! Hardcore edition            99.144 2020-10-20 18:40:59+00:00   \n",
       "...                           ...               ...                       ...   \n",
       "70183  Classify! Hardcore edition            99.144 2021-01-12 11:41:56+00:00   \n",
       "70184  Classify! Hardcore edition            99.144 2021-01-12 11:42:12+00:00   \n",
       "70185  Classify! Hardcore edition            99.144 2021-01-12 11:42:59+00:00   \n",
       "70217  Classify! Hardcore edition            99.144 2021-01-12 13:04:07+00:00   \n",
       "70218  Classify! Hardcore edition            99.144 2021-01-12 13:04:36+00:00   \n",
       "\n",
       "       expert  ...                                        annotations  \\\n",
       "5939      NaN  ...  [{'task': 'T0', 'task_label': 'Look at the ver...   \n",
       "5940      NaN  ...  [{'task': 'T0', 'task_label': 'Look at the ver...   \n",
       "5942      NaN  ...  [{'task': 'T0', 'task_label': 'Look at the ver...   \n",
       "5944      NaN  ...  [{'task': 'T0', 'task_label': 'Look at the ver...   \n",
       "5948      NaN  ...  [{'task': 'T0', 'task_label': 'Look at the ver...   \n",
       "...       ...  ...                                                ...   \n",
       "70183     NaN  ...  [{'task': 'T0', 'task_label': 'Look at the ver...   \n",
       "70184     NaN  ...  [{'task': 'T0', 'task_label': 'Look at the ver...   \n",
       "70185     NaN  ...  [{'task': 'T0', 'task_label': 'Look at the ver...   \n",
       "70217     NaN  ...  [{'task': 'T0', 'task_label': 'Look at the ver...   \n",
       "70218     NaN  ...  [{'task': 'T0', 'task_label': 'Look at the ver...   \n",
       "\n",
       "                                            subject_data subject_ids      T0  \\\n",
       "5939   {'43857828': {'retired': None, 'Filename': 'UD...    43857828  Galaxy   \n",
       "5940   {'43848698': {'retired': None, 'Filename': 'UD...    43848698  Galaxy   \n",
       "5942   {'43849173': {'retired': None, 'Filename': 'UD...    43849173  Galaxy   \n",
       "5944   {'43843688': {'retired': None, 'Filename': 'UD...    43843688  Galaxy   \n",
       "5948   {'50756806': {'retired': {'id': 71297686, 'wor...    50756806  Galaxy   \n",
       "...                                                  ...         ...     ...   \n",
       "70183  {'52471556': {'retired': {'id': 74121047, 'wor...    52471556  Galaxy   \n",
       "70184  {'52471597': {'retired': {'id': 74124305, 'wor...    52471597  Galaxy   \n",
       "70185  {'52471556': {'retired': {'id': 74121047, 'wor...    52471556  Galaxy   \n",
       "70217  {'52469800': {'retired': {'id': 74138543, 'wor...    52469800  Galaxy   \n",
       "70218  {'52477928': {'retired': {'id': 74108770, 'wor...    52477928  Galaxy   \n",
       "\n",
       "           T2                 T1                   T3                   T4  \\\n",
       "5939   Fluffy  Impossible to say            No/Unsure  Distorted/disturbed   \n",
       "5940   Fluffy         White/blue            No/Unsure           Elliptical   \n",
       "5942   Fluffy         White/blue  Yes, a bright point                Round   \n",
       "5944   Fluffy         Red/yellow  Yes, a bright point  Distorted/disturbed   \n",
       "5948   Fluffy         Red/yellow  Yes, a bright point                Round   \n",
       "...       ...                ...                  ...                  ...   \n",
       "70183  Fluffy         Red/yellow            No/Unsure                Round   \n",
       "70184  Bright         Red/yellow         Yes, a bulge                Round   \n",
       "70185  Fluffy         Red/yellow            No/Unsure                Round   \n",
       "70217  Bright         White/blue  Yes, a bright point                Round   \n",
       "70218  Fluffy         Red/yellow         Yes, a bulge           Elliptical   \n",
       "\n",
       "                     T5    T9  \n",
       "5939               None  None  \n",
       "5940   Smooth and fuzzy  None  \n",
       "5942   Smooth and fuzzy  None  \n",
       "5944   Smooth and fuzzy  None  \n",
       "5948   Smooth and dense  None  \n",
       "...                 ...   ...  \n",
       "70183  Smooth and fuzzy  None  \n",
       "70184  Smooth and dense  None  \n",
       "70185  Smooth and fuzzy  None  \n",
       "70217  Smooth and dense  None  \n",
       "70218  Smooth and fuzzy  None  \n",
       "\n",
       "[28618 rows x 21 columns]"
      ]
     },
     "execution_count": 478,
     "metadata": {},
     "output_type": "execute_result"
    }
   ],
   "source": [
    "df_hardcore.query(\"(T0 == 'Galaxy')\")"
   ]
  },
  {
   "cell_type": "markdown",
   "metadata": {},
   "source": [
    "## (for thesis): Comparison of T0 answers per object between `classify` and `onthego`"
   ]
  },
  {
   "cell_type": "markdown",
   "metadata": {},
   "source": [
    "Moved to `stacked-compare workflows` notebook\n"
   ]
  },
  {
   "cell_type": "code",
   "execution_count": 1,
   "metadata": {},
   "outputs": [],
   "source": [
    "# # @todo: turn this into hash table instead of double loop\n",
    "\n",
    "# gal_points = []\n",
    "# group_points = []\n",
    "# else_points = []\n",
    "\n",
    "# q = '% votes Galaxy'\n",
    "# q_group_1 = '% votes Group of objects (cluster)'\n",
    "# q_group_2 = '% votes Group of objects (Cluster)'\n",
    "# q_else = '% votes Something else/empty center'\n",
    "# for name in df_votes['name']:\n",
    "#     classify_entry = df_votes_clas.query('name == @name')\n",
    "#     onthego_entry = df_votes.query('name == @name')\n",
    "    \n",
    "#     classify_galaxy_percentage = classify_entry[q].values[0]\n",
    "#     onthego_galaxy_percentage = onthego_entry[q].values[0]\n",
    "    \n",
    "#     gal_points.append((classify_galaxy_percentage, onthego_galaxy_percentage))\n",
    "#     group_points.append((classify_entry[q_group_2].values[0], onthego_entry[q_group_1].values[0]))\n",
    "#     else_points.append((classify_entry[q_else].values[0], onthego_entry[q_else].values[0]))"
   ]
  },
  {
   "cell_type": "code",
   "execution_count": 2,
   "metadata": {},
   "outputs": [],
   "source": [
    "# fig, fr = plt.subplots(1,3,figsize=(15,4))\n",
    "# xs = []; ys = []\n",
    "# for point in gal_points:\n",
    "#     x, y = point\n",
    "#     xs.append(x)\n",
    "#     ys.append(y)\n",
    "    \n",
    "# fr[0].scatter(xs, ys, alpha=0.4, s=9)\n",
    "# print('Correlation galaxy votes:', np.corrcoef(xs, ys)[0,1])\n",
    "\n",
    "# xs = []; ys = []\n",
    "# for point in group_points:\n",
    "#     x, y = point\n",
    "#     xs.append(x)\n",
    "#     ys.append(y)\n",
    "# fr[1].scatter(xs, ys, alpha=0.4, s=9)\n",
    "# print('Correlation cluster/group of objects votes:', np.corrcoef(xs, ys)[0,1])\n",
    "\n",
    "# xs = []; ys = []\n",
    "# for point in else_points:\n",
    "#     x, y = point\n",
    "#     xs.append(x)\n",
    "#     ys.append(y)\n",
    "# fr[2].scatter(xs, ys, alpha=0.4, s=9)\n",
    "# print('Correlation empty center votes:', np.corrcoef(xs, ys)[0,1])\n",
    "\n",
    "# for i, col in enumerate([q, q_group_2, q_else]):\n",
    "#     fr[i].update({\n",
    "#         'xlim': [-3,103],\n",
    "#         'ylim': [-3,103],\n",
    "#         'xlabel': 'classify!',\n",
    "#         'ylabel': 'on-the-go',\n",
    "#         'title': col\n",
    "#     })\n",
    "# #     fr[i].grid(alpha=0.3, which='both')\n",
    "\n",
    "# fig.tight_layout()\n",
    "\n",
    "# # plt.savefig('task0 classify vs onthego.png', dpi=350)\n",
    "# plt.show()"
   ]
  }
 ],
 "metadata": {
  "kernelspec": {
   "display_name": "Python 3",
   "language": "python",
   "name": "python3"
  },
  "language_info": {
   "codemirror_mode": {
    "name": "ipython",
    "version": 3
   },
   "file_extension": ".py",
   "mimetype": "text/x-python",
   "name": "python",
   "nbconvert_exporter": "python",
   "pygments_lexer": "ipython3",
   "version": "3.9.0"
  }
 },
 "nbformat": 4,
 "nbformat_minor": 4
}
