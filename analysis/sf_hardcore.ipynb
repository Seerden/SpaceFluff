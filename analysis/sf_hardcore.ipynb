{
 "cells": [
  {
   "cell_type": "code",
   "execution_count": 1,
   "metadata": {},
   "outputs": [],
   "source": [
    "import json\n",
    "import numpy as np\n",
    "import pandas as pd\n",
    "import matplotlib.pyplot as plt\n",
    "%matplotlib inline"
   ]
  },
  {
   "cell_type": "markdown",
   "metadata": {},
   "source": [
    "## Hardcore' SpaceFluff category"
   ]
  },
  {
   "cell_type": "markdown",
   "metadata": {},
   "source": [
    "- Load the csv into a dataframe:"
   ]
  },
  {
   "cell_type": "code",
   "execution_count": 15,
   "metadata": {},
   "outputs": [],
   "source": [
    "# load classifications\n",
    "df = pd.read_csv('../SpaceFluff/zooniverse_exports/classify-hardcore-edition-classifications.csv', delimiter=\",\")\n",
    "\n",
    "# json parse subject_data and annotations columns\n",
    "to_parse = ['subject_data', 'annotations', 'metadata']\n",
    "\n",
    "for column in to_parse:\n",
    "    df[column] = df[column].apply(json.loads)"
   ]
  },
  {
   "cell_type": "markdown",
   "metadata": {},
   "source": [
    "- Inspect dataframe columns"
   ]
  },
  {
   "cell_type": "code",
   "execution_count": 8,
   "metadata": {},
   "outputs": [
    {
     "data": {
      "text/plain": [
       "Index(['classification_id', 'user_name', 'user_id', 'user_ip', 'workflow_id',\n",
       "       'workflow_name', 'workflow_version', 'created_at', 'gold_standard',\n",
       "       'expert', 'metadata', 'annotations', 'subject_data', 'subject_ids'],\n",
       "      dtype='object')"
      ]
     },
     "execution_count": 8,
     "metadata": {},
     "output_type": "execute_result"
    }
   ],
   "source": [
    "df.keys()"
   ]
  },
  {
   "cell_type": "markdown",
   "metadata": {},
   "source": [
    "- Inspect the head"
   ]
  },
  {
   "cell_type": "code",
   "execution_count": 3,
   "metadata": {},
   "outputs": [
    {
     "data": {
      "text/html": [
       "<div>\n",
       "<style scoped>\n",
       "    .dataframe tbody tr th:only-of-type {\n",
       "        vertical-align: middle;\n",
       "    }\n",
       "\n",
       "    .dataframe tbody tr th {\n",
       "        vertical-align: top;\n",
       "    }\n",
       "\n",
       "    .dataframe thead th {\n",
       "        text-align: right;\n",
       "    }\n",
       "</style>\n",
       "<table border=\"1\" class=\"dataframe\">\n",
       "  <thead>\n",
       "    <tr style=\"text-align: right;\">\n",
       "      <th></th>\n",
       "      <th>classification_id</th>\n",
       "      <th>user_name</th>\n",
       "      <th>user_id</th>\n",
       "      <th>user_ip</th>\n",
       "      <th>workflow_id</th>\n",
       "      <th>workflow_name</th>\n",
       "      <th>workflow_version</th>\n",
       "      <th>created_at</th>\n",
       "      <th>gold_standard</th>\n",
       "      <th>expert</th>\n",
       "      <th>metadata</th>\n",
       "      <th>annotations</th>\n",
       "      <th>subject_data</th>\n",
       "      <th>subject_ids</th>\n",
       "    </tr>\n",
       "  </thead>\n",
       "  <tbody>\n",
       "    <tr>\n",
       "      <th>0</th>\n",
       "      <td>229608794</td>\n",
       "      <td>not-logged-in-2f4f5d73a0d88e03a7d4</td>\n",
       "      <td>NaN</td>\n",
       "      <td>2f4f5d73a0d88e03a7d4</td>\n",
       "      <td>14226</td>\n",
       "      <td>Classify! Hardcore edition</td>\n",
       "      <td>76.125</td>\n",
       "      <td>2020-04-25 13:04:39 UTC</td>\n",
       "      <td>NaN</td>\n",
       "      <td>NaN</td>\n",
       "      <td>{\"source\":\"api\",\"session\":\"4624854ac38d8599f3c...</td>\n",
       "      <td>[{\"task\":\"T0\",\"task_label\":\"Look at the very c...</td>\n",
       "      <td>{\"43858477\":{\"retired\":null,\"Filename\":\"UDGcan...</td>\n",
       "      <td>43858477</td>\n",
       "    </tr>\n",
       "    <tr>\n",
       "      <th>1</th>\n",
       "      <td>229609090</td>\n",
       "      <td>not-logged-in-2f4f5d73a0d88e03a7d4</td>\n",
       "      <td>NaN</td>\n",
       "      <td>2f4f5d73a0d88e03a7d4</td>\n",
       "      <td>14226</td>\n",
       "      <td>Classify! Hardcore edition</td>\n",
       "      <td>76.125</td>\n",
       "      <td>2020-04-25 13:05:46 UTC</td>\n",
       "      <td>NaN</td>\n",
       "      <td>NaN</td>\n",
       "      <td>{\"source\":\"api\",\"session\":\"4624854ac38d8599f3c...</td>\n",
       "      <td>[{\"task\":\"T0\",\"task_label\":\"Look at the very c...</td>\n",
       "      <td>{\"43850794\":{\"retired\":null,\"Filename\":\"UDGcan...</td>\n",
       "      <td>43850794</td>\n",
       "    </tr>\n",
       "    <tr>\n",
       "      <th>2</th>\n",
       "      <td>229609110</td>\n",
       "      <td>not-logged-in-2f4f5d73a0d88e03a7d4</td>\n",
       "      <td>NaN</td>\n",
       "      <td>2f4f5d73a0d88e03a7d4</td>\n",
       "      <td>14226</td>\n",
       "      <td>Classify! Hardcore edition</td>\n",
       "      <td>76.125</td>\n",
       "      <td>2020-04-25 13:05:51 UTC</td>\n",
       "      <td>NaN</td>\n",
       "      <td>NaN</td>\n",
       "      <td>{\"source\":\"api\",\"session\":\"4624854ac38d8599f3c...</td>\n",
       "      <td>[{\"task\":\"T0\",\"task_label\":\"Look at the very c...</td>\n",
       "      <td>{\"43855633\":{\"retired\":null,\"Filename\":\"UDGcan...</td>\n",
       "      <td>43855633</td>\n",
       "    </tr>\n",
       "    <tr>\n",
       "      <th>3</th>\n",
       "      <td>229609146</td>\n",
       "      <td>not-logged-in-2f4f5d73a0d88e03a7d4</td>\n",
       "      <td>NaN</td>\n",
       "      <td>2f4f5d73a0d88e03a7d4</td>\n",
       "      <td>14226</td>\n",
       "      <td>Classify! Hardcore edition</td>\n",
       "      <td>76.125</td>\n",
       "      <td>2020-04-25 13:06:00 UTC</td>\n",
       "      <td>NaN</td>\n",
       "      <td>NaN</td>\n",
       "      <td>{\"source\":\"api\",\"session\":\"4624854ac38d8599f3c...</td>\n",
       "      <td>[{\"task\":\"T0\",\"task_label\":\"Look at the very c...</td>\n",
       "      <td>{\"43843897\":{\"retired\":null,\"Filename\":\"UDGcan...</td>\n",
       "      <td>43843897</td>\n",
       "    </tr>\n",
       "    <tr>\n",
       "      <th>4</th>\n",
       "      <td>229609156</td>\n",
       "      <td>not-logged-in-2f4f5d73a0d88e03a7d4</td>\n",
       "      <td>NaN</td>\n",
       "      <td>2f4f5d73a0d88e03a7d4</td>\n",
       "      <td>14226</td>\n",
       "      <td>Classify! Hardcore edition</td>\n",
       "      <td>76.125</td>\n",
       "      <td>2020-04-25 13:06:04 UTC</td>\n",
       "      <td>NaN</td>\n",
       "      <td>NaN</td>\n",
       "      <td>{\"source\":\"api\",\"session\":\"4624854ac38d8599f3c...</td>\n",
       "      <td>[{\"task\":\"T0\",\"task_label\":\"Look at the very c...</td>\n",
       "      <td>{\"43855426\":{\"retired\":null,\"Filename\":\"UDGcan...</td>\n",
       "      <td>43855426</td>\n",
       "    </tr>\n",
       "  </tbody>\n",
       "</table>\n",
       "</div>"
      ],
      "text/plain": [
       "   classification_id                           user_name  user_id  \\\n",
       "0          229608794  not-logged-in-2f4f5d73a0d88e03a7d4      NaN   \n",
       "1          229609090  not-logged-in-2f4f5d73a0d88e03a7d4      NaN   \n",
       "2          229609110  not-logged-in-2f4f5d73a0d88e03a7d4      NaN   \n",
       "3          229609146  not-logged-in-2f4f5d73a0d88e03a7d4      NaN   \n",
       "4          229609156  not-logged-in-2f4f5d73a0d88e03a7d4      NaN   \n",
       "\n",
       "                user_ip  workflow_id               workflow_name  \\\n",
       "0  2f4f5d73a0d88e03a7d4        14226  Classify! Hardcore edition   \n",
       "1  2f4f5d73a0d88e03a7d4        14226  Classify! Hardcore edition   \n",
       "2  2f4f5d73a0d88e03a7d4        14226  Classify! Hardcore edition   \n",
       "3  2f4f5d73a0d88e03a7d4        14226  Classify! Hardcore edition   \n",
       "4  2f4f5d73a0d88e03a7d4        14226  Classify! Hardcore edition   \n",
       "\n",
       "   workflow_version               created_at  gold_standard  expert  \\\n",
       "0            76.125  2020-04-25 13:04:39 UTC            NaN     NaN   \n",
       "1            76.125  2020-04-25 13:05:46 UTC            NaN     NaN   \n",
       "2            76.125  2020-04-25 13:05:51 UTC            NaN     NaN   \n",
       "3            76.125  2020-04-25 13:06:00 UTC            NaN     NaN   \n",
       "4            76.125  2020-04-25 13:06:04 UTC            NaN     NaN   \n",
       "\n",
       "                                            metadata  \\\n",
       "0  {\"source\":\"api\",\"session\":\"4624854ac38d8599f3c...   \n",
       "1  {\"source\":\"api\",\"session\":\"4624854ac38d8599f3c...   \n",
       "2  {\"source\":\"api\",\"session\":\"4624854ac38d8599f3c...   \n",
       "3  {\"source\":\"api\",\"session\":\"4624854ac38d8599f3c...   \n",
       "4  {\"source\":\"api\",\"session\":\"4624854ac38d8599f3c...   \n",
       "\n",
       "                                         annotations  \\\n",
       "0  [{\"task\":\"T0\",\"task_label\":\"Look at the very c...   \n",
       "1  [{\"task\":\"T0\",\"task_label\":\"Look at the very c...   \n",
       "2  [{\"task\":\"T0\",\"task_label\":\"Look at the very c...   \n",
       "3  [{\"task\":\"T0\",\"task_label\":\"Look at the very c...   \n",
       "4  [{\"task\":\"T0\",\"task_label\":\"Look at the very c...   \n",
       "\n",
       "                                        subject_data  subject_ids  \n",
       "0  {\"43858477\":{\"retired\":null,\"Filename\":\"UDGcan...     43858477  \n",
       "1  {\"43850794\":{\"retired\":null,\"Filename\":\"UDGcan...     43850794  \n",
       "2  {\"43855633\":{\"retired\":null,\"Filename\":\"UDGcan...     43855633  \n",
       "3  {\"43843897\":{\"retired\":null,\"Filename\":\"UDGcan...     43843897  \n",
       "4  {\"43855426\":{\"retired\":null,\"Filename\":\"UDGcan...     43855426  "
      ]
     },
     "execution_count": 3,
     "metadata": {},
     "output_type": "execute_result"
    }
   ],
   "source": [
    "df.head()"
   ]
  },
  {
   "cell_type": "markdown",
   "metadata": {},
   "source": [
    "---"
   ]
  },
  {
   "cell_type": "markdown",
   "metadata": {},
   "source": [
    "- Inspect the `metadata` column of an entry:"
   ]
  },
  {
   "cell_type": "code",
   "execution_count": 27,
   "metadata": {},
   "outputs": [
    {
     "data": {
      "text/plain": [
       "{'43858477': {'retired': None, 'Filename': 'UDGcand_6736_insp.png'}}"
      ]
     },
     "execution_count": 27,
     "metadata": {},
     "output_type": "execute_result"
    }
   ],
   "source": [
    "df['subject_data'].iloc[0]"
   ]
  },
  {
   "cell_type": "code",
   "execution_count": 30,
   "metadata": {},
   "outputs": [
    {
     "data": {
      "text/plain": [
       "{'source': 'api',\n",
       " 'session': '5a6d3e3edd5d8690f9b0ca47baa6706698f418f0d84d9b53c1fdcfae91ad7203',\n",
       " 'viewport': {'width': 2400, 'height': 1100},\n",
       " 'started_at': '2021-01-12T13:05:02.846Z',\n",
       " 'user_agent': 'Mozilla/5.0 (Windows NT 10.0; Win64; x64) AppleWebKit/537.36 (KHTML, like Gecko) Chrome/87.0.4280.141 Safari/537.36',\n",
       " 'utc_offset': '0',\n",
       " 'finished_at': '2021-01-12T13:05:18.223Z',\n",
       " 'live_project': True,\n",
       " 'interventions': {'opt_in': True, 'messageShown': False},\n",
       " 'user_language': 'en',\n",
       " 'user_group_ids': [],\n",
       " 'subject_dimensions': [{'clientWidth': 990,\n",
       "   'clientHeight': 990,\n",
       "   'naturalWidth': 1200,\n",
       "   'naturalHeight': 1200},\n",
       "  None],\n",
       " 'subject_selection_state': {'retired': True,\n",
       "  'selected_at': '2021-01-12T13:04:07.407Z',\n",
       "  'already_seen': False,\n",
       "  'selection_state': 'failover_fallback',\n",
       "  'finished_workflow': True,\n",
       "  'user_has_finished_workflow': True},\n",
       " 'workflow_translation_id': '31587'}"
      ]
     },
     "execution_count": 30,
     "metadata": {},
     "output_type": "execute_result"
    }
   ],
   "source": [
    "df.metadata.iloc[df.shape[0]-1]"
   ]
  },
  {
   "cell_type": "markdown",
   "metadata": {},
   "source": [
    "---\n",
    "\n",
    "Find the entries where an object becomes 'retired' and extract metadata from that 'retired' field."
   ]
  },
  {
   "cell_type": "code",
   "execution_count": 17,
   "metadata": {},
   "outputs": [],
   "source": [
    "def extract_retired_info(row):  # @note: copy-pasted from sf_classify.ipynb.  @todo: create utils/helpers/lib module\n",
    "    return list(row.values())[0][\"retired\"]"
   ]
  },
  {
   "cell_type": "code",
   "execution_count": 19,
   "metadata": {},
   "outputs": [],
   "source": [
    "retired_col = df.subject_data.apply(extract_retired_info)"
   ]
  },
  {
   "cell_type": "code",
   "execution_count": 22,
   "metadata": {},
   "outputs": [
    {
     "data": {
      "text/plain": [
       "{'50756979': {'retired': {'id': 71297552,\n",
       "   'workflow_id': 14226,\n",
       "   'classifications_count': 10,\n",
       "   'created_at': '2020-10-20T07:14:36.966Z',\n",
       "   'updated_at': '2020-11-16T04:02:27.773Z',\n",
       "   'retired_at': '2020-11-16T04:02:27.764Z',\n",
       "   'subject_id': 50756979,\n",
       "   'retirement_reason': 'classification_count'},\n",
       "  'R': '20.7097',\n",
       "  'ID': '266',\n",
       "  'RA': '49.9423179626',\n",
       "  'DEC': '-36.0850563049',\n",
       "  'G-I': '1.87748670578',\n",
       "  'IMAGE': 'UDGcand_266_insp.png'}}"
      ]
     },
     "execution_count": 22,
     "metadata": {},
     "output_type": "execute_result"
    }
   ],
   "source": [
    "df['subject_data'][~retired_col.isnull()].iloc[0]"
   ]
  }
 ],
 "metadata": {
  "kernelspec": {
   "display_name": "Python 3",
   "language": "python",
   "name": "python3"
  },
  "language_info": {
   "codemirror_mode": {
    "name": "ipython",
    "version": 3
   },
   "file_extension": ".py",
   "mimetype": "text/x-python",
   "name": "python",
   "nbconvert_exporter": "python",
   "pygments_lexer": "ipython3",
   "version": "3.9.0"
  }
 },
 "nbformat": 4,
 "nbformat_minor": 4
}
