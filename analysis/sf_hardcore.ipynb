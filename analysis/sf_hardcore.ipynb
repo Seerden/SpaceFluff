{
 "cells": [
  {
   "cell_type": "code",
   "execution_count": 1,
   "metadata": {},
   "outputs": [],
   "source": [
    "import json\n",
    "import numpy as np\n",
    "import pandas as pd\n",
    "import matplotlib.pyplot as plt\n",
    "from sf import getFilename, getMetadataValue, parseTime, getGroupSize\n",
    "from datetime import date\n",
    "%matplotlib inline"
   ]
  },
  {
   "cell_type": "code",
   "execution_count": 2,
   "metadata": {},
   "outputs": [
    {
     "data": {
      "text/plain": [
       "<module 'sf' from 'C:\\\\Users\\\\Christiaan\\\\Documents\\\\uni\\\\y3\\\\2b\\\\analysis\\\\sf.py'>"
      ]
     },
     "execution_count": 2,
     "metadata": {},
     "output_type": "execute_result"
    }
   ],
   "source": [
    "# reload sf import while I'm working on extracting functionality to it from notebooks\n",
    "from importlib import reload\n",
    "import sf\n",
    "reload(sf)"
   ]
  },
  {
   "cell_type": "markdown",
   "metadata": {},
   "source": [
    "## `Hardcore` SpaceFluff category"
   ]
  },
  {
   "cell_type": "markdown",
   "metadata": {},
   "source": [
    "### Load DataFrame, parse columns:"
   ]
  },
  {
   "cell_type": "markdown",
   "metadata": {},
   "source": [
    "- load the csv into a dataframe,\n",
    "- parse stringified columns,\n",
    "- add Filename field\n",
    "- filter by date (exclude classifications made in beta stage)\n",
    "- drop unused columns `gold_standard` and `expert`\n",
    "- maybe filter by latest workflow version"
   ]
  },
  {
   "cell_type": "code",
   "execution_count": 3,
   "metadata": {},
   "outputs": [],
   "source": [
    "# load classifications\n",
    "df = pd.read_csv('../SpaceFluff/zooniverse_exports/classify-hardcore-edition-classifications.csv', delimiter=\",\")\n",
    "\n",
    "# json parse subject_data and annotations columns\n",
    "for column in ['subject_data', 'annotations', 'metadata']:\n",
    "    df[column] = df[column].apply(json.loads)\n",
    "\n",
    "# add Filename column at index 0\n",
    "df.insert(0, 'name', df['subject_data'].apply(getFilename))\n",
    "    \n",
    "# filter by classification date (remove entries from before ~ October 20, 2020 as that's presumably the end of beta)\n",
    "df['created_at'] = df['created_at'].apply(parseTime)\n",
    "end_of_beta = pd.Timestamp(date(2020,10,20), tz='utc')\n",
    "df = df[df['created_at'] > end_of_beta]\n",
    "    \n",
    "# as far as I can tell, 'gold_standard' and 'expert' are never not NaN, so just remove them for readibility\n",
    "df.drop(['gold_standard', 'expert'], axis=1, inplace=True)\n",
    "\n",
    "# keep only classifications made on latest workflow version. @note: this might not be necessary\n",
    "# workflow_versions = df['workflow_version'].unique()\n",
    "# df = df[df['workflow_version'] == workflow_versions[-1]]"
   ]
  },
  {
   "cell_type": "code",
   "execution_count": 4,
   "metadata": {},
   "outputs": [
    {
     "name": "stdout",
     "output_type": "stream",
     "text": [
      "Index(['name', 'classification_id', 'user_name', 'user_id', 'user_ip',\n",
      "       'workflow_id', 'workflow_name', 'workflow_version', 'created_at',\n",
      "       'metadata', 'annotations', 'subject_data', 'subject_ids'],\n",
      "      dtype='object')\n"
     ]
    }
   ],
   "source": [
    "print(df.keys())"
   ]
  },
  {
   "cell_type": "markdown",
   "metadata": {},
   "source": [
    "- drop rows where `retired` or `already_seen`:"
   ]
  },
  {
   "cell_type": "code",
   "execution_count": 5,
   "metadata": {},
   "outputs": [],
   "source": [
    "# create temporary df to extract isRetired and alreadySeen\n",
    "df_temp = pd.DataFrame(columns=df.columns)\n",
    "\n",
    "# extract retired and already_seen columns in this temporary dataframe\n",
    "for field in ['retired', 'already_seen']:\n",
    "    df_temp[field] = df['metadata'].apply(lambda x: getMetadataValue(x, field))\n",
    "    \n",
    "df = df[~df_temp['retired'] & ~df_temp['already_seen']]    \n",
    "del df_temp"
   ]
  },
  {
   "cell_type": "markdown",
   "metadata": {},
   "source": [
    "### Inspect distribution of vote count:"
   ]
  },
  {
   "cell_type": "code",
   "execution_count": 6,
   "metadata": {},
   "outputs": [],
   "source": [
    "group_by_name = df.groupby(['name'])"
   ]
  },
  {
   "cell_type": "code",
   "execution_count": 7,
   "metadata": {},
   "outputs": [
    {
     "name": "stdout",
     "output_type": "stream",
     "text": [
      "number of unique filenames: 6362\n"
     ]
    }
   ],
   "source": [
    "# check number of unique objects:\n",
    "print('number of unique filenames:', df['name'].unique().shape[0])  # or group_by_name.groups.keys()"
   ]
  },
  {
   "cell_type": "code",
   "execution_count": 8,
   "metadata": {},
   "outputs": [],
   "source": [
    "object_names = list(group_by_name.groups.keys())"
   ]
  },
  {
   "cell_type": "code",
   "execution_count": 9,
   "metadata": {},
   "outputs": [],
   "source": [
    "votes_per_object = []\n",
    "for name in object_names:\n",
    "    count = getGroupSize(group_by_name.get_group(name))\n",
    "    votes_per_object.append({\n",
    "        'name': name,\n",
    "        'votes': count\n",
    "    })"
   ]
  },
  {
   "cell_type": "code",
   "execution_count": 10,
   "metadata": {},
   "outputs": [
    {
     "data": {
      "image/png": "[encoded data removed]",
      "text/plain": [
       "<Figure size 432x288 with 1 Axes>"
      ]
     },
     "metadata": {
      "needs_background": "light"
     },
     "output_type": "display_data"
    }
   ],
   "source": [
    "vote_counts = [entry['votes'] for entry in votes_per_object]\n",
    "plt.hist(vote_counts)\n",
    "plt.show()"
   ]
  },
  {
   "cell_type": "code",
   "execution_count": 11,
   "metadata": {},
   "outputs": [
    {
     "data": {
      "text/plain": [
       "(63790, 63790)"
      ]
     },
     "execution_count": 11,
     "metadata": {},
     "output_type": "execute_result"
    }
   ],
   "source": [
    "[(count, vote_counts.count(count)) for count in set(vote_counts)]\n",
    "\n",
    "sum(vote_counts), df.shape[0]"
   ]
  },
  {
   "cell_type": "markdown",
   "metadata": {},
   "source": [
    "## Extract actual votes:\n",
    "\n",
    "- note that the tasks active in the `hardcore` workflow are T0, T2, T1, T3, T4, T5 and T9"
   ]
  },
  {
   "cell_type": "markdown",
   "metadata": {},
   "source": [
    "#### Task descriptions:\n",
    "- T0: 'Look at the very center of the image: do you see a single galaxy or a group of far away objects?'\n",
    "- T2: 'Is the galaxy fluffy or is it bright?'\n",
    "- T1: 'What color is the galaxy?'\n",
    "- T3: 'Does the galaxy have a visible core?'\n",
    "- T4: 'What shape is the galaxy?'\n",
    "- T5: 'How would you describe the texture of the galaxy?'\n",
    "- T9: 'Our bad! what do you see instead?'\n",
    "\n",
    "\n",
    "- T0 is always asked. \n",
    "    - If user answers 'galaxy', then T2 through T5 are asked (in order listed above)\n",
    "    - If user answers 'something else/empty center', they're asked T9."
   ]
  },
  {
   "cell_type": "code",
   "execution_count": 46,
   "metadata": {},
   "outputs": [],
   "source": [
    "task_indices = [0,2,1,3,4,5,9]\n",
    "tasks = ['T{}'.format(i) for i in task_indices]"
   ]
  },
  {
   "cell_type": "code",
   "execution_count": 49,
   "metadata": {},
   "outputs": [],
   "source": [
    "def extractTaskValue(annotations, task):\n",
    "    '''\n",
    "    @param {list} annotations: annotations column for a row in a SpaceFluff dataframe\n",
    "    @param {string} task: one of 'Ti', where i \\in 0,2,1,3,4,5,9\n",
    "    @returns {string | None} value the user provided for the given task, or None\n",
    "    '''\n",
    "    \n",
    "    filtered = list(filter(lambda x: x['task'] == task, annotations))\n",
    "    if len(filtered) > 0:\n",
    "        return filtered[0]['value']"
   ]
  },
  {
   "cell_type": "code",
   "execution_count": 50,
   "metadata": {},
   "outputs": [],
   "source": [
    "for task in tasks:\n",
    "    df[task] = df['annotations'].apply(lambda x: extractTaskValue(x, task))"
   ]
  },
  {
   "cell_type": "code",
   "execution_count": 63,
   "metadata": {},
   "outputs": [],
   "source": [
    "groupby_t0 = df.groupby(['T0'])\n",
    "groupby_t0_groups = list(groupby_t0.groups.keys())"
   ]
  }
 ],
 "metadata": {
  "kernelspec": {
   "display_name": "Python 3",
   "language": "python",
   "name": "python3"
  },
  "language_info": {
   "codemirror_mode": {
    "name": "ipython",
    "version": 3
   },
   "file_extension": ".py",
   "mimetype": "text/x-python",
   "name": "python",
   "nbconvert_exporter": "python",
   "pygments_lexer": "ipython3",
   "version": "3.9.0"
  }
 },
 "nbformat": 4,
 "nbformat_minor": 4
}
