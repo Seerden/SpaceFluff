{
 "cells": [
  {
   "cell_type": "code",
   "execution_count": 1,
   "metadata": {},
   "outputs": [],
   "source": [
    "from PIL import Image\n",
    "import pandas as pd\n",
    "import json\n",
    "import requests\n",
    "from time import sleep"
   ]
  },
  {
   "cell_type": "code",
   "execution_count": 2,
   "metadata": {},
   "outputs": [],
   "source": [
    "df = pd.read_csv('../../SpaceFluff/zooniverse_exports/space-fluff-subjects.csv', dtype='str', delimiter=',')\n",
    "df.metadata = df.metadata.apply(json.loads)\n",
    "df.locations = df.locations.apply(json.loads)"
   ]
  },
  {
   "cell_type": "code",
   "execution_count": 3,
   "metadata": {},
   "outputs": [
    {
     "data": {
      "text/plain": [
       "Index(['subject_id', 'project_id', 'workflow_id', 'subject_set_id', 'metadata',\n",
       "       'locations', 'classifications_count', 'retired_at', 'retirement_reason',\n",
       "       'created_at', 'updated_at'],\n",
       "      dtype='object')"
      ]
     },
     "execution_count": 3,
     "metadata": {},
     "output_type": "execute_result"
    }
   ],
   "source": [
    "df.columns"
   ]
  },
  {
   "cell_type": "code",
   "execution_count": 4,
   "metadata": {},
   "outputs": [
    {
     "data": {
      "text/html": [
       "<div>\n",
       "<style scoped>\n",
       "    .dataframe tbody tr th:only-of-type {\n",
       "        vertical-align: middle;\n",
       "    }\n",
       "\n",
       "    .dataframe tbody tr th {\n",
       "        vertical-align: top;\n",
       "    }\n",
       "\n",
       "    .dataframe thead th {\n",
       "        text-align: right;\n",
       "    }\n",
       "</style>\n",
       "<table border=\"1\" class=\"dataframe\">\n",
       "  <thead>\n",
       "    <tr style=\"text-align: right;\">\n",
       "      <th></th>\n",
       "      <th>subject_id</th>\n",
       "      <th>project_id</th>\n",
       "      <th>workflow_id</th>\n",
       "      <th>subject_set_id</th>\n",
       "      <th>metadata</th>\n",
       "      <th>locations</th>\n",
       "      <th>classifications_count</th>\n",
       "      <th>retired_at</th>\n",
       "      <th>retirement_reason</th>\n",
       "      <th>created_at</th>\n",
       "      <th>updated_at</th>\n",
       "    </tr>\n",
       "  </thead>\n",
       "  <tbody>\n",
       "    <tr>\n",
       "      <th>0</th>\n",
       "      <td>43830485</td>\n",
       "      <td>11879</td>\n",
       "      <td>NaN</td>\n",
       "      <td>83064</td>\n",
       "      <td>{'Filename': 'UDGcand_0_insp.png'}</td>\n",
       "      <td>{'0': 'https://panoptes-uploads.zooniverse.org...</td>\n",
       "      <td>0</td>\n",
       "      <td>NaN</td>\n",
       "      <td>NaN</td>\n",
       "      <td>2020-04-23 11:06:56 UTC</td>\n",
       "      <td>2020-04-23 11:06:56 UTC</td>\n",
       "    </tr>\n",
       "    <tr>\n",
       "      <th>1</th>\n",
       "      <td>43830486</td>\n",
       "      <td>11879</td>\n",
       "      <td>NaN</td>\n",
       "      <td>83064</td>\n",
       "      <td>{'Filename': 'UDGcand_2_insp.png'}</td>\n",
       "      <td>{'0': 'https://panoptes-uploads.zooniverse.org...</td>\n",
       "      <td>0</td>\n",
       "      <td>NaN</td>\n",
       "      <td>NaN</td>\n",
       "      <td>2020-04-23 11:06:57 UTC</td>\n",
       "      <td>2020-04-23 11:06:57 UTC</td>\n",
       "    </tr>\n",
       "    <tr>\n",
       "      <th>2</th>\n",
       "      <td>43830487</td>\n",
       "      <td>11879</td>\n",
       "      <td>NaN</td>\n",
       "      <td>83064</td>\n",
       "      <td>{'Filename': 'UDGcand_3_insp.png'}</td>\n",
       "      <td>{'0': 'https://panoptes-uploads.zooniverse.org...</td>\n",
       "      <td>0</td>\n",
       "      <td>NaN</td>\n",
       "      <td>NaN</td>\n",
       "      <td>2020-04-23 11:06:59 UTC</td>\n",
       "      <td>2020-04-23 11:06:59 UTC</td>\n",
       "    </tr>\n",
       "    <tr>\n",
       "      <th>3</th>\n",
       "      <td>43830488</td>\n",
       "      <td>11879</td>\n",
       "      <td>NaN</td>\n",
       "      <td>83064</td>\n",
       "      <td>{'Filename': 'UDGcand_4_insp.png'}</td>\n",
       "      <td>{'0': 'https://panoptes-uploads.zooniverse.org...</td>\n",
       "      <td>0</td>\n",
       "      <td>NaN</td>\n",
       "      <td>NaN</td>\n",
       "      <td>2020-04-23 11:06:59 UTC</td>\n",
       "      <td>2020-04-23 11:06:59 UTC</td>\n",
       "    </tr>\n",
       "    <tr>\n",
       "      <th>4</th>\n",
       "      <td>43830489</td>\n",
       "      <td>11879</td>\n",
       "      <td>NaN</td>\n",
       "      <td>83064</td>\n",
       "      <td>{'Filename': 'UDGcand_5_insp.png'}</td>\n",
       "      <td>{'0': 'https://panoptes-uploads.zooniverse.org...</td>\n",
       "      <td>0</td>\n",
       "      <td>NaN</td>\n",
       "      <td>NaN</td>\n",
       "      <td>2020-04-23 11:07:00 UTC</td>\n",
       "      <td>2020-04-23 11:07:00 UTC</td>\n",
       "    </tr>\n",
       "  </tbody>\n",
       "</table>\n",
       "</div>"
      ],
      "text/plain": [
       "  subject_id project_id workflow_id subject_set_id  \\\n",
       "0   43830485      11879         NaN          83064   \n",
       "1   43830486      11879         NaN          83064   \n",
       "2   43830487      11879         NaN          83064   \n",
       "3   43830488      11879         NaN          83064   \n",
       "4   43830489      11879         NaN          83064   \n",
       "\n",
       "                             metadata  \\\n",
       "0  {'Filename': 'UDGcand_0_insp.png'}   \n",
       "1  {'Filename': 'UDGcand_2_insp.png'}   \n",
       "2  {'Filename': 'UDGcand_3_insp.png'}   \n",
       "3  {'Filename': 'UDGcand_4_insp.png'}   \n",
       "4  {'Filename': 'UDGcand_5_insp.png'}   \n",
       "\n",
       "                                           locations classifications_count  \\\n",
       "0  {'0': 'https://panoptes-uploads.zooniverse.org...                     0   \n",
       "1  {'0': 'https://panoptes-uploads.zooniverse.org...                     0   \n",
       "2  {'0': 'https://panoptes-uploads.zooniverse.org...                     0   \n",
       "3  {'0': 'https://panoptes-uploads.zooniverse.org...                     0   \n",
       "4  {'0': 'https://panoptes-uploads.zooniverse.org...                     0   \n",
       "\n",
       "  retired_at retirement_reason               created_at  \\\n",
       "0        NaN               NaN  2020-04-23 11:06:56 UTC   \n",
       "1        NaN               NaN  2020-04-23 11:06:57 UTC   \n",
       "2        NaN               NaN  2020-04-23 11:06:59 UTC   \n",
       "3        NaN               NaN  2020-04-23 11:06:59 UTC   \n",
       "4        NaN               NaN  2020-04-23 11:07:00 UTC   \n",
       "\n",
       "                updated_at  \n",
       "0  2020-04-23 11:06:56 UTC  \n",
       "1  2020-04-23 11:06:57 UTC  \n",
       "2  2020-04-23 11:06:59 UTC  \n",
       "3  2020-04-23 11:06:59 UTC  \n",
       "4  2020-04-23 11:07:00 UTC  "
      ]
     },
     "execution_count": 4,
     "metadata": {},
     "output_type": "execute_result"
    }
   ],
   "source": [
    "df.head()"
   ]
  },
  {
   "cell_type": "code",
   "execution_count": 46,
   "metadata": {},
   "outputs": [],
   "source": [
    "# # uncomment and run to download all images one by one\n",
    "# for idx, row in df.iterrows():\n",
    "#     if 'metadata' in row.keys() and 'Filename' in row['metadata'].keys():\n",
    "#         if len(row.locations) == 1:\n",
    "#             filename = row['metadata']['Filename']\n",
    "#             url = row['locations']['0']\n",
    "            \n",
    "#             response = requests.get(url)\n",
    "            \n",
    "#             with open('./thumbnails/{}'.format(filename), 'wb+') as handle:\n",
    "#                 res = requests.get(url)\n",
    "                \n",
    "#                 if not res.ok:\n",
    "#                     print(res)\n",
    "#                 else: \n",
    "#                     handle.write(res.content)\n",
    "#                     print('Saved image {}'.format(filename))\n",
    "            \n",
    "#             sleep(20e-3)"
   ]
  }
 ],
 "metadata": {
  "kernelspec": {
   "display_name": "Python 3",
   "language": "python",
   "name": "python3"
  },
  "language_info": {
   "codemirror_mode": {
    "name": "ipython",
    "version": 3
   },
   "file_extension": ".py",
   "mimetype": "text/x-python",
   "name": "python",
   "nbconvert_exporter": "python",
   "pygments_lexer": "ipython3",
   "version": "3.9.0"
  }
 },
 "nbformat": 4,
 "nbformat_minor": 4
}
